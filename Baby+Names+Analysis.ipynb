{
 "cells": [
  {
   "cell_type": "code",
   "execution_count": 11,
   "metadata": {},
   "outputs": [],
   "source": [
    "import pandas as pd\n",
    "import numpy as np\n",
    "import matplotlib.pyplot as plt\n",
    "%matplotlib inline\n",
    "from pandas import *\n",
    "import matplotlib.pyplot as plt\n",
    "%matplotlib inline \n",
    "names=read_csv(r'C:\\Users\\abhij\\Desktop\\Data-Wrangling-Pandas-master\\baby-names2.csv')"
   ]
  },
  {
   "cell_type": "code",
   "execution_count": 12,
   "metadata": {},
   "outputs": [
    {
     "data": {
      "text/html": [
       "<div>\n",
       "<style>\n",
       "    .dataframe thead tr:only-child th {\n",
       "        text-align: right;\n",
       "    }\n",
       "\n",
       "    .dataframe thead th {\n",
       "        text-align: left;\n",
       "    }\n",
       "\n",
       "    .dataframe tbody tr th {\n",
       "        vertical-align: top;\n",
       "    }\n",
       "</style>\n",
       "<table border=\"1\" class=\"dataframe\">\n",
       "  <thead>\n",
       "    <tr style=\"text-align: right;\">\n",
       "      <th></th>\n",
       "      <th>year</th>\n",
       "      <th>name</th>\n",
       "      <th>prop</th>\n",
       "      <th>sex</th>\n",
       "      <th>soundex</th>\n",
       "    </tr>\n",
       "  </thead>\n",
       "  <tbody>\n",
       "    <tr>\n",
       "      <th>0</th>\n",
       "      <td>1880</td>\n",
       "      <td>John</td>\n",
       "      <td>0.081541</td>\n",
       "      <td>boy</td>\n",
       "      <td>J500</td>\n",
       "    </tr>\n",
       "    <tr>\n",
       "      <th>1</th>\n",
       "      <td>1880</td>\n",
       "      <td>William</td>\n",
       "      <td>0.080511</td>\n",
       "      <td>boy</td>\n",
       "      <td>W450</td>\n",
       "    </tr>\n",
       "    <tr>\n",
       "      <th>2</th>\n",
       "      <td>1880</td>\n",
       "      <td>James</td>\n",
       "      <td>0.050057</td>\n",
       "      <td>boy</td>\n",
       "      <td>J520</td>\n",
       "    </tr>\n",
       "    <tr>\n",
       "      <th>3</th>\n",
       "      <td>1880</td>\n",
       "      <td>Charles</td>\n",
       "      <td>0.045167</td>\n",
       "      <td>boy</td>\n",
       "      <td>C642</td>\n",
       "    </tr>\n",
       "    <tr>\n",
       "      <th>4</th>\n",
       "      <td>1880</td>\n",
       "      <td>George</td>\n",
       "      <td>0.043292</td>\n",
       "      <td>boy</td>\n",
       "      <td>G620</td>\n",
       "    </tr>\n",
       "  </tbody>\n",
       "</table>\n",
       "</div>"
      ],
      "text/plain": [
       "   year     name      prop  sex soundex\n",
       "0  1880     John  0.081541  boy    J500\n",
       "1  1880  William  0.080511  boy    W450\n",
       "2  1880    James  0.050057  boy    J520\n",
       "3  1880  Charles  0.045167  boy    C642\n",
       "4  1880   George  0.043292  boy    G620"
      ]
     },
     "execution_count": 12,
     "metadata": {},
     "output_type": "execute_result"
    }
   ],
   "source": [
    "names.head()"
   ]
  },
  {
   "cell_type": "code",
   "execution_count": 20,
   "metadata": {},
   "outputs": [
    {
     "data": {
      "text/plain": [
       "Index([u'year', u'name', u'prop', u'sex', u'soundex'], dtype='object')"
      ]
     },
     "execution_count": 20,
     "metadata": {},
     "output_type": "execute_result"
    }
   ],
   "source": [
    "names.columns"
   ]
  },
  {
   "cell_type": "code",
   "execution_count": 21,
   "metadata": {},
   "outputs": [
    {
     "data": {
      "text/html": [
       "<div>\n",
       "<style>\n",
       "    .dataframe thead tr:only-child th {\n",
       "        text-align: right;\n",
       "    }\n",
       "\n",
       "    .dataframe thead th {\n",
       "        text-align: left;\n",
       "    }\n",
       "\n",
       "    .dataframe tbody tr th {\n",
       "        vertical-align: top;\n",
       "    }\n",
       "</style>\n",
       "<table border=\"1\" class=\"dataframe\">\n",
       "  <thead>\n",
       "    <tr style=\"text-align: right;\">\n",
       "      <th></th>\n",
       "      <th>year</th>\n",
       "      <th>name</th>\n",
       "      <th>prop</th>\n",
       "      <th>sex</th>\n",
       "      <th>soundex</th>\n",
       "    </tr>\n",
       "  </thead>\n",
       "  <tbody>\n",
       "    <tr>\n",
       "      <th>129000</th>\n",
       "      <td>1880</td>\n",
       "      <td>Mary</td>\n",
       "      <td>0.072381</td>\n",
       "      <td>girl</td>\n",
       "      <td>M600</td>\n",
       "    </tr>\n",
       "    <tr>\n",
       "      <th>129001</th>\n",
       "      <td>1880</td>\n",
       "      <td>Anna</td>\n",
       "      <td>0.026678</td>\n",
       "      <td>girl</td>\n",
       "      <td>A500</td>\n",
       "    </tr>\n",
       "    <tr>\n",
       "      <th>129002</th>\n",
       "      <td>1880</td>\n",
       "      <td>Emma</td>\n",
       "      <td>0.020521</td>\n",
       "      <td>girl</td>\n",
       "      <td>E500</td>\n",
       "    </tr>\n",
       "    <tr>\n",
       "      <th>129003</th>\n",
       "      <td>1880</td>\n",
       "      <td>Elizabeth</td>\n",
       "      <td>0.019865</td>\n",
       "      <td>girl</td>\n",
       "      <td>E421</td>\n",
       "    </tr>\n",
       "    <tr>\n",
       "      <th>129004</th>\n",
       "      <td>1880</td>\n",
       "      <td>Minnie</td>\n",
       "      <td>0.017888</td>\n",
       "      <td>girl</td>\n",
       "      <td>M500</td>\n",
       "    </tr>\n",
       "  </tbody>\n",
       "</table>\n",
       "</div>"
      ],
      "text/plain": [
       "        year       name      prop   sex soundex\n",
       "129000  1880       Mary  0.072381  girl    M600\n",
       "129001  1880       Anna  0.026678  girl    A500\n",
       "129002  1880       Emma  0.020521  girl    E500\n",
       "129003  1880  Elizabeth  0.019865  girl    E421\n",
       "129004  1880     Minnie  0.017888  girl    M500"
      ]
     },
     "execution_count": 21,
     "metadata": {},
     "output_type": "execute_result"
    }
   ],
   "source": [
    "names[names.sex=='girl'].head()"
   ]
  },
  {
   "cell_type": "code",
   "execution_count": 22,
   "metadata": {},
   "outputs": [
    {
     "data": {
      "text/html": [
       "<div>\n",
       "<style>\n",
       "    .dataframe thead tr:only-child th {\n",
       "        text-align: right;\n",
       "    }\n",
       "\n",
       "    .dataframe thead th {\n",
       "        text-align: left;\n",
       "    }\n",
       "\n",
       "    .dataframe tbody tr th {\n",
       "        vertical-align: top;\n",
       "    }\n",
       "</style>\n",
       "<table border=\"1\" class=\"dataframe\">\n",
       "  <thead>\n",
       "    <tr style=\"text-align: right;\">\n",
       "      <th></th>\n",
       "      <th>year</th>\n",
       "      <th>name</th>\n",
       "      <th>prop</th>\n",
       "      <th>sex</th>\n",
       "      <th>soundex</th>\n",
       "    </tr>\n",
       "  </thead>\n",
       "  <tbody>\n",
       "    <tr>\n",
       "      <th>0</th>\n",
       "      <td>1880</td>\n",
       "      <td>John</td>\n",
       "      <td>0.081541</td>\n",
       "      <td>boy</td>\n",
       "      <td>J500</td>\n",
       "    </tr>\n",
       "    <tr>\n",
       "      <th>1</th>\n",
       "      <td>1880</td>\n",
       "      <td>William</td>\n",
       "      <td>0.080511</td>\n",
       "      <td>boy</td>\n",
       "      <td>W450</td>\n",
       "    </tr>\n",
       "    <tr>\n",
       "      <th>2</th>\n",
       "      <td>1880</td>\n",
       "      <td>James</td>\n",
       "      <td>0.050057</td>\n",
       "      <td>boy</td>\n",
       "      <td>J520</td>\n",
       "    </tr>\n",
       "    <tr>\n",
       "      <th>3</th>\n",
       "      <td>1880</td>\n",
       "      <td>Charles</td>\n",
       "      <td>0.045167</td>\n",
       "      <td>boy</td>\n",
       "      <td>C642</td>\n",
       "    </tr>\n",
       "    <tr>\n",
       "      <th>4</th>\n",
       "      <td>1880</td>\n",
       "      <td>George</td>\n",
       "      <td>0.043292</td>\n",
       "      <td>boy</td>\n",
       "      <td>G620</td>\n",
       "    </tr>\n",
       "  </tbody>\n",
       "</table>\n",
       "</div>"
      ],
      "text/plain": [
       "   year     name      prop  sex soundex\n",
       "0  1880     John  0.081541  boy    J500\n",
       "1  1880  William  0.080511  boy    W450\n",
       "2  1880    James  0.050057  boy    J520\n",
       "3  1880  Charles  0.045167  boy    C642\n",
       "4  1880   George  0.043292  boy    G620"
      ]
     },
     "execution_count": 22,
     "metadata": {},
     "output_type": "execute_result"
    }
   ],
   "source": [
    "names[names.year==1880].head()"
   ]
  },
  {
   "cell_type": "code",
   "execution_count": 23,
   "metadata": {
    "collapsed": true
   },
   "outputs": [],
   "source": [
    "boys=names[names.sex=='boy']\n",
    "girls=names[names.sex=='girl']"
   ]
  },
  {
   "cell_type": "code",
   "execution_count": 24,
   "metadata": {},
   "outputs": [
    {
     "data": {
      "text/plain": [
       "pandas.core.series.Series"
      ]
     },
     "execution_count": 24,
     "metadata": {},
     "output_type": "execute_result"
    }
   ],
   "source": [
    "type(names.groupby(['year','sex']).size())"
   ]
  },
  {
   "cell_type": "code",
   "execution_count": 33,
   "metadata": {},
   "outputs": [
    {
     "data": {
      "text/plain": [
       "sex\n",
       "boy     1000\n",
       "girl    1000\n",
       "dtype: int64"
      ]
     },
     "execution_count": 33,
     "metadata": {},
     "output_type": "execute_result"
    }
   ],
   "source": [
    "names.groupby(['year','sex']).size().loc[2000]"
   ]
  },
  {
   "cell_type": "code",
   "execution_count": 28,
   "metadata": {},
   "outputs": [
    {
     "data": {
      "text/plain": [
       "2008"
      ]
     },
     "execution_count": 28,
     "metadata": {},
     "output_type": "execute_result"
    }
   ],
   "source": [
    "names.year.max()"
   ]
  },
  {
   "cell_type": "code",
   "execution_count": 29,
   "metadata": {},
   "outputs": [
    {
     "data": {
      "text/plain": [
       "1880"
      ]
     },
     "execution_count": 29,
     "metadata": {},
     "output_type": "execute_result"
    }
   ],
   "source": [
    "names.year.min()"
   ]
  },
  {
   "cell_type": "code",
   "execution_count": 34,
   "metadata": {},
   "outputs": [],
   "source": [
    "# get max record for any dataframe (max record is the name which appears most frequent)\n",
    "def get_max(group):\n",
    "    return group.loc[group.prop.idxmax()]\n",
    "\n",
    "results=boys.groupby('year').apply(get_max)"
   ]
  },
  {
   "cell_type": "code",
   "execution_count": 35,
   "metadata": {},
   "outputs": [
    {
     "data": {
      "text/plain": [
       "<matplotlib.axes._subplots.AxesSubplot at 0xaebb330>"
      ]
     },
     "execution_count": 35,
     "metadata": {},
     "output_type": "execute_result"
    },
    {
     "data": {
      "image/png": "[encoded data removed]",
      "text/plain": [
       "<matplotlib.figure.Figure at 0xab39170>"
      ]
     },
     "metadata": {},
     "output_type": "display_data"
    }
   ],
   "source": [
    "results.prop.plot()"
   ]
  },
  {
   "cell_type": "code",
   "execution_count": 36,
   "metadata": {},
   "outputs": [
    {
     "data": {
      "text/html": [
       "<div>\n",
       "<style>\n",
       "    .dataframe thead tr:only-child th {\n",
       "        text-align: right;\n",
       "    }\n",
       "\n",
       "    .dataframe thead th {\n",
       "        text-align: left;\n",
       "    }\n",
       "\n",
       "    .dataframe tbody tr th {\n",
       "        vertical-align: top;\n",
       "    }\n",
       "</style>\n",
       "<table border=\"1\" class=\"dataframe\">\n",
       "  <thead>\n",
       "    <tr style=\"text-align: right;\">\n",
       "      <th></th>\n",
       "      <th>year</th>\n",
       "      <th>name</th>\n",
       "      <th>prop</th>\n",
       "      <th>sex</th>\n",
       "      <th>soundex</th>\n",
       "    </tr>\n",
       "  </thead>\n",
       "  <tbody>\n",
       "    <tr>\n",
       "      <th>563</th>\n",
       "      <td>1880</td>\n",
       "      <td>Travis</td>\n",
       "      <td>0.000101</td>\n",
       "      <td>boy</td>\n",
       "      <td>T612</td>\n",
       "    </tr>\n",
       "    <tr>\n",
       "      <th>2648</th>\n",
       "      <td>1882</td>\n",
       "      <td>Travis</td>\n",
       "      <td>0.000082</td>\n",
       "      <td>boy</td>\n",
       "      <td>T612</td>\n",
       "    </tr>\n",
       "    <tr>\n",
       "      <th>3672</th>\n",
       "      <td>1883</td>\n",
       "      <td>Travis</td>\n",
       "      <td>0.000080</td>\n",
       "      <td>boy</td>\n",
       "      <td>T612</td>\n",
       "    </tr>\n",
       "    <tr>\n",
       "      <th>4656</th>\n",
       "      <td>1884</td>\n",
       "      <td>Travis</td>\n",
       "      <td>0.000081</td>\n",
       "      <td>boy</td>\n",
       "      <td>T612</td>\n",
       "    </tr>\n",
       "    <tr>\n",
       "      <th>5602</th>\n",
       "      <td>1885</td>\n",
       "      <td>Travis</td>\n",
       "      <td>0.000095</td>\n",
       "      <td>boy</td>\n",
       "      <td>T612</td>\n",
       "    </tr>\n",
       "  </tbody>\n",
       "</table>\n",
       "</div>"
      ],
      "text/plain": [
       "      year    name      prop  sex soundex\n",
       "563   1880  Travis  0.000101  boy    T612\n",
       "2648  1882  Travis  0.000082  boy    T612\n",
       "3672  1883  Travis  0.000080  boy    T612\n",
       "4656  1884  Travis  0.000081  boy    T612\n",
       "5602  1885  Travis  0.000095  boy    T612"
      ]
     },
     "execution_count": 36,
     "metadata": {},
     "output_type": "execute_result"
    }
   ],
   "source": [
    "boys[boys.name=='Travis'].head()"
   ]
  },
  {
   "cell_type": "code",
   "execution_count": 37,
   "metadata": {
    "collapsed": true
   },
   "outputs": [],
   "source": [
    "idf=boys.set_index(['name','year'])"
   ]
  },
  {
   "cell_type": "code",
   "execution_count": 38,
   "metadata": {},
   "outputs": [
    {
     "data": {
      "text/plain": [
       "<matplotlib.axes._subplots.AxesSubplot at 0xac5c030>"
      ]
     },
     "execution_count": 38,
     "metadata": {},
     "output_type": "execute_result"
    },
    {
     "data": {
      "image/png": "[encoded data removed]",
      "text/plain": [
       "<matplotlib.figure.Figure at 0xafa7a10>"
      ]
     },
     "metadata": {},
     "output_type": "display_data"
    }
   ],
   "source": [
    "#Popularity of the name 'Travis'\n",
    "idf.loc['Travis'].prop.plot()"
   ]
  },
  {
   "cell_type": "code",
   "execution_count": 40,
   "metadata": {},
   "outputs": [
    {
     "data": {
      "text/html": [
       "<div>\n",
       "<style>\n",
       "    .dataframe thead tr:only-child th {\n",
       "        text-align: right;\n",
       "    }\n",
       "\n",
       "    .dataframe thead th {\n",
       "        text-align: left;\n",
       "    }\n",
       "\n",
       "    .dataframe tbody tr th {\n",
       "        vertical-align: top;\n",
       "    }\n",
       "</style>\n",
       "<table border=\"1\" class=\"dataframe\">\n",
       "  <thead>\n",
       "    <tr style=\"text-align: right;\">\n",
       "      <th></th>\n",
       "      <th>prop</th>\n",
       "      <th>sex</th>\n",
       "      <th>soundex</th>\n",
       "    </tr>\n",
       "    <tr>\n",
       "      <th>year</th>\n",
       "      <th></th>\n",
       "      <th></th>\n",
       "      <th></th>\n",
       "    </tr>\n",
       "  </thead>\n",
       "  <tbody>\n",
       "    <tr>\n",
       "      <th>1880</th>\n",
       "      <td>0.081541</td>\n",
       "      <td>boy</td>\n",
       "      <td>J500</td>\n",
       "    </tr>\n",
       "    <tr>\n",
       "      <th>1881</th>\n",
       "      <td>0.080975</td>\n",
       "      <td>boy</td>\n",
       "      <td>J500</td>\n",
       "    </tr>\n",
       "    <tr>\n",
       "      <th>1882</th>\n",
       "      <td>0.078314</td>\n",
       "      <td>boy</td>\n",
       "      <td>J500</td>\n",
       "    </tr>\n",
       "    <tr>\n",
       "      <th>1883</th>\n",
       "      <td>0.079066</td>\n",
       "      <td>boy</td>\n",
       "      <td>J500</td>\n",
       "    </tr>\n",
       "    <tr>\n",
       "      <th>1884</th>\n",
       "      <td>0.076476</td>\n",
       "      <td>boy</td>\n",
       "      <td>J500</td>\n",
       "    </tr>\n",
       "  </tbody>\n",
       "</table>\n",
       "</div>"
      ],
      "text/plain": [
       "          prop  sex soundex\n",
       "year                       \n",
       "1880  0.081541  boy    J500\n",
       "1881  0.080975  boy    J500\n",
       "1882  0.078314  boy    J500\n",
       "1883  0.079066  boy    J500\n",
       "1884  0.076476  boy    J500"
      ]
     },
     "execution_count": 40,
     "metadata": {},
     "output_type": "execute_result"
    }
   ],
   "source": [
    "idf.loc['John'].head()"
   ]
  },
  {
   "cell_type": "markdown",
   "metadata": {},
   "source": [
    "# Using sub groupby function!"
   ]
  },
  {
   "cell_type": "code",
   "execution_count": 41,
   "metadata": {},
   "outputs": [
    {
     "data": {
      "text/plain": [
       "name\n",
       "John           0.041082\n",
       "James          0.035465\n",
       "William        0.034182\n",
       "Robert         0.029625\n",
       "Charles        0.019521\n",
       "Michael        0.018342\n",
       "Joseph         0.017771\n",
       "David          0.016737\n",
       "George         0.016254\n",
       "Thomas         0.014739\n",
       "Richard        0.014183\n",
       "Edward         0.011069\n",
       "Frank          0.010386\n",
       "Daniel         0.008517\n",
       "Paul           0.008322\n",
       "Donald         0.008020\n",
       "Christopher    0.007980\n",
       "Henry          0.007435\n",
       "Brian          0.007205\n",
       "Walter         0.007021\n",
       "Jeffrey        0.006701\n",
       "Ryan           0.006682\n",
       "Kevin          0.006589\n",
       "Kenneth        0.006470\n",
       "Anthony        0.006315\n",
       "Matthew        0.006178\n",
       "Harry          0.006162\n",
       "Andrew         0.006088\n",
       "Brandon        0.005951\n",
       "Arthur         0.005845\n",
       "                 ...   \n",
       "Linden         0.000031\n",
       "Cynthia        0.000031\n",
       "Terance        0.000031\n",
       "Kathleen       0.000031\n",
       "Kem            0.000031\n",
       "Desi           0.000031\n",
       "Mikeal         0.000031\n",
       "Brenda         0.000031\n",
       "Lyn            0.000031\n",
       "Michal         0.000031\n",
       "Rudolfo        0.000030\n",
       "Garey          0.000030\n",
       "Darryll        0.000030\n",
       "Erasmo         0.000030\n",
       "Dann           0.000030\n",
       "Lex            0.000030\n",
       "Patric         0.000029\n",
       "Kimball        0.000029\n",
       "Renard         0.000029\n",
       "Diane          0.000029\n",
       "Randolf        0.000029\n",
       "Theodis        0.000029\n",
       "Levern         0.000029\n",
       "Dwyane         0.000028\n",
       "Cheryl         0.000028\n",
       "Michial        0.000028\n",
       "Grayling       0.000028\n",
       "Deryl          0.000028\n",
       "Danniel        0.000027\n",
       "Kennard        0.000027\n",
       "Name: prop, Length: 3437, dtype: float64"
      ]
     },
     "execution_count": 41,
     "metadata": {},
     "output_type": "execute_result"
    }
   ],
   "source": [
    "boys.groupby('name')['prop'].mean().sort_values(ascending=False)"
   ]
  },
  {
   "cell_type": "code",
   "execution_count": 42,
   "metadata": {},
   "outputs": [
    {
     "data": {
      "text/html": [
       "<div>\n",
       "<style>\n",
       "    .dataframe thead tr:only-child th {\n",
       "        text-align: right;\n",
       "    }\n",
       "\n",
       "    .dataframe thead th {\n",
       "        text-align: left;\n",
       "    }\n",
       "\n",
       "    .dataframe tbody tr th {\n",
       "        vertical-align: top;\n",
       "    }\n",
       "</style>\n",
       "<table border=\"1\" class=\"dataframe\">\n",
       "  <thead>\n",
       "    <tr style=\"text-align: right;\">\n",
       "      <th></th>\n",
       "      <th>count</th>\n",
       "      <th>mean</th>\n",
       "      <th>std</th>\n",
       "      <th>min</th>\n",
       "      <th>25%</th>\n",
       "      <th>50%</th>\n",
       "      <th>75%</th>\n",
       "      <th>max</th>\n",
       "    </tr>\n",
       "    <tr>\n",
       "      <th>year</th>\n",
       "      <th></th>\n",
       "      <th></th>\n",
       "      <th></th>\n",
       "      <th></th>\n",
       "      <th></th>\n",
       "      <th></th>\n",
       "      <th></th>\n",
       "      <th></th>\n",
       "    </tr>\n",
       "  </thead>\n",
       "  <tbody>\n",
       "    <tr>\n",
       "      <th>1880</th>\n",
       "      <td>1000.0</td>\n",
       "      <td>0.000931</td>\n",
       "      <td>0.004871</td>\n",
       "      <td>0.000042</td>\n",
       "      <td>0.000059</td>\n",
       "      <td>0.000118</td>\n",
       "      <td>0.000372</td>\n",
       "      <td>0.081541</td>\n",
       "    </tr>\n",
       "    <tr>\n",
       "      <th>1881</th>\n",
       "      <td>1000.0</td>\n",
       "      <td>0.000930</td>\n",
       "      <td>0.004812</td>\n",
       "      <td>0.000037</td>\n",
       "      <td>0.000065</td>\n",
       "      <td>0.000120</td>\n",
       "      <td>0.000369</td>\n",
       "      <td>0.080975</td>\n",
       "    </tr>\n",
       "    <tr>\n",
       "      <th>1882</th>\n",
       "      <td>1000.0</td>\n",
       "      <td>0.000928</td>\n",
       "      <td>0.004691</td>\n",
       "      <td>0.000041</td>\n",
       "      <td>0.000066</td>\n",
       "      <td>0.000115</td>\n",
       "      <td>0.000377</td>\n",
       "      <td>0.078314</td>\n",
       "    </tr>\n",
       "    <tr>\n",
       "      <th>1883</th>\n",
       "      <td>1000.0</td>\n",
       "      <td>0.000929</td>\n",
       "      <td>0.004675</td>\n",
       "      <td>0.000044</td>\n",
       "      <td>0.000062</td>\n",
       "      <td>0.000116</td>\n",
       "      <td>0.000382</td>\n",
       "      <td>0.079066</td>\n",
       "    </tr>\n",
       "    <tr>\n",
       "      <th>1884</th>\n",
       "      <td>1000.0</td>\n",
       "      <td>0.000927</td>\n",
       "      <td>0.004542</td>\n",
       "      <td>0.000041</td>\n",
       "      <td>0.000065</td>\n",
       "      <td>0.000122</td>\n",
       "      <td>0.000385</td>\n",
       "      <td>0.076476</td>\n",
       "    </tr>\n",
       "    <tr>\n",
       "      <th>1885</th>\n",
       "      <td>1000.0</td>\n",
       "      <td>0.000926</td>\n",
       "      <td>0.004459</td>\n",
       "      <td>0.000043</td>\n",
       "      <td>0.000069</td>\n",
       "      <td>0.000121</td>\n",
       "      <td>0.000373</td>\n",
       "      <td>0.075517</td>\n",
       "    </tr>\n",
       "    <tr>\n",
       "      <th>1886</th>\n",
       "      <td>1000.0</td>\n",
       "      <td>0.000926</td>\n",
       "      <td>0.004447</td>\n",
       "      <td>0.000042</td>\n",
       "      <td>0.000067</td>\n",
       "      <td>0.000118</td>\n",
       "      <td>0.000397</td>\n",
       "      <td>0.075820</td>\n",
       "    </tr>\n",
       "    <tr>\n",
       "      <th>1887</th>\n",
       "      <td>1000.0</td>\n",
       "      <td>0.000925</td>\n",
       "      <td>0.004380</td>\n",
       "      <td>0.000046</td>\n",
       "      <td>0.000073</td>\n",
       "      <td>0.000119</td>\n",
       "      <td>0.000366</td>\n",
       "      <td>0.074181</td>\n",
       "    </tr>\n",
       "    <tr>\n",
       "      <th>1888</th>\n",
       "      <td>1000.0</td>\n",
       "      <td>0.000923</td>\n",
       "      <td>0.004294</td>\n",
       "      <td>0.000046</td>\n",
       "      <td>0.000069</td>\n",
       "      <td>0.000123</td>\n",
       "      <td>0.000379</td>\n",
       "      <td>0.071186</td>\n",
       "    </tr>\n",
       "    <tr>\n",
       "      <th>1889</th>\n",
       "      <td>1000.0</td>\n",
       "      <td>0.000924</td>\n",
       "      <td>0.004260</td>\n",
       "      <td>0.000042</td>\n",
       "      <td>0.000067</td>\n",
       "      <td>0.000118</td>\n",
       "      <td>0.000355</td>\n",
       "      <td>0.071804</td>\n",
       "    </tr>\n",
       "    <tr>\n",
       "      <th>1890</th>\n",
       "      <td>1000.0</td>\n",
       "      <td>0.000921</td>\n",
       "      <td>0.004191</td>\n",
       "      <td>0.000042</td>\n",
       "      <td>0.000067</td>\n",
       "      <td>0.000125</td>\n",
       "      <td>0.000384</td>\n",
       "      <td>0.071034</td>\n",
       "    </tr>\n",
       "    <tr>\n",
       "      <th>1891</th>\n",
       "      <td>1000.0</td>\n",
       "      <td>0.000920</td>\n",
       "      <td>0.004126</td>\n",
       "      <td>0.000046</td>\n",
       "      <td>0.000073</td>\n",
       "      <td>0.000119</td>\n",
       "      <td>0.000368</td>\n",
       "      <td>0.070292</td>\n",
       "    </tr>\n",
       "    <tr>\n",
       "      <th>1892</th>\n",
       "      <td>1000.0</td>\n",
       "      <td>0.000918</td>\n",
       "      <td>0.004059</td>\n",
       "      <td>0.000046</td>\n",
       "      <td>0.000068</td>\n",
       "      <td>0.000122</td>\n",
       "      <td>0.000382</td>\n",
       "      <td>0.068759</td>\n",
       "    </tr>\n",
       "    <tr>\n",
       "      <th>1893</th>\n",
       "      <td>1000.0</td>\n",
       "      <td>0.000920</td>\n",
       "      <td>0.004022</td>\n",
       "      <td>0.000050</td>\n",
       "      <td>0.000074</td>\n",
       "      <td>0.000124</td>\n",
       "      <td>0.000413</td>\n",
       "      <td>0.066495</td>\n",
       "    </tr>\n",
       "    <tr>\n",
       "      <th>1894</th>\n",
       "      <td>1000.0</td>\n",
       "      <td>0.000917</td>\n",
       "      <td>0.003951</td>\n",
       "      <td>0.000048</td>\n",
       "      <td>0.000072</td>\n",
       "      <td>0.000136</td>\n",
       "      <td>0.000384</td>\n",
       "      <td>0.065961</td>\n",
       "    </tr>\n",
       "    <tr>\n",
       "      <th>1895</th>\n",
       "      <td>1000.0</td>\n",
       "      <td>0.000917</td>\n",
       "      <td>0.003925</td>\n",
       "      <td>0.000047</td>\n",
       "      <td>0.000071</td>\n",
       "      <td>0.000130</td>\n",
       "      <td>0.000405</td>\n",
       "      <td>0.065699</td>\n",
       "    </tr>\n",
       "    <tr>\n",
       "      <th>1896</th>\n",
       "      <td>1000.0</td>\n",
       "      <td>0.000915</td>\n",
       "      <td>0.003875</td>\n",
       "      <td>0.000046</td>\n",
       "      <td>0.000077</td>\n",
       "      <td>0.000132</td>\n",
       "      <td>0.000411</td>\n",
       "      <td>0.063051</td>\n",
       "    </tr>\n",
       "    <tr>\n",
       "      <th>1897</th>\n",
       "      <td>1000.0</td>\n",
       "      <td>0.000915</td>\n",
       "      <td>0.003856</td>\n",
       "      <td>0.000049</td>\n",
       "      <td>0.000074</td>\n",
       "      <td>0.000131</td>\n",
       "      <td>0.000402</td>\n",
       "      <td>0.061907</td>\n",
       "    </tr>\n",
       "    <tr>\n",
       "      <th>1898</th>\n",
       "      <td>1000.0</td>\n",
       "      <td>0.000917</td>\n",
       "      <td>0.003828</td>\n",
       "      <td>0.000053</td>\n",
       "      <td>0.000068</td>\n",
       "      <td>0.000136</td>\n",
       "      <td>0.000378</td>\n",
       "      <td>0.061770</td>\n",
       "    </tr>\n",
       "    <tr>\n",
       "      <th>1899</th>\n",
       "      <td>1000.0</td>\n",
       "      <td>0.000913</td>\n",
       "      <td>0.003728</td>\n",
       "      <td>0.000052</td>\n",
       "      <td>0.000078</td>\n",
       "      <td>0.000139</td>\n",
       "      <td>0.000384</td>\n",
       "      <td>0.060674</td>\n",
       "    </tr>\n",
       "    <tr>\n",
       "      <th>1900</th>\n",
       "      <td>1000.0</td>\n",
       "      <td>0.000909</td>\n",
       "      <td>0.003749</td>\n",
       "      <td>0.000049</td>\n",
       "      <td>0.000074</td>\n",
       "      <td>0.000136</td>\n",
       "      <td>0.000409</td>\n",
       "      <td>0.060619</td>\n",
       "    </tr>\n",
       "    <tr>\n",
       "      <th>1901</th>\n",
       "      <td>1000.0</td>\n",
       "      <td>0.000912</td>\n",
       "      <td>0.003664</td>\n",
       "      <td>0.000052</td>\n",
       "      <td>0.000078</td>\n",
       "      <td>0.000138</td>\n",
       "      <td>0.000415</td>\n",
       "      <td>0.059677</td>\n",
       "    </tr>\n",
       "    <tr>\n",
       "      <th>1902</th>\n",
       "      <td>1000.0</td>\n",
       "      <td>0.000911</td>\n",
       "      <td>0.003651</td>\n",
       "      <td>0.000053</td>\n",
       "      <td>0.000075</td>\n",
       "      <td>0.000143</td>\n",
       "      <td>0.000414</td>\n",
       "      <td>0.059568</td>\n",
       "    </tr>\n",
       "    <tr>\n",
       "      <th>1903</th>\n",
       "      <td>1000.0</td>\n",
       "      <td>0.000909</td>\n",
       "      <td>0.003606</td>\n",
       "      <td>0.000054</td>\n",
       "      <td>0.000077</td>\n",
       "      <td>0.000147</td>\n",
       "      <td>0.000433</td>\n",
       "      <td>0.058833</td>\n",
       "    </tr>\n",
       "    <tr>\n",
       "      <th>1904</th>\n",
       "      <td>1000.0</td>\n",
       "      <td>0.000909</td>\n",
       "      <td>0.003565</td>\n",
       "      <td>0.000051</td>\n",
       "      <td>0.000079</td>\n",
       "      <td>0.000137</td>\n",
       "      <td>0.000419</td>\n",
       "      <td>0.058535</td>\n",
       "    </tr>\n",
       "  </tbody>\n",
       "</table>\n",
       "</div>"
      ],
      "text/plain": [
       "       count      mean       std       min       25%       50%       75%  \\\n",
       "year                                                                       \n",
       "1880  1000.0  0.000931  0.004871  0.000042  0.000059  0.000118  0.000372   \n",
       "1881  1000.0  0.000930  0.004812  0.000037  0.000065  0.000120  0.000369   \n",
       "1882  1000.0  0.000928  0.004691  0.000041  0.000066  0.000115  0.000377   \n",
       "1883  1000.0  0.000929  0.004675  0.000044  0.000062  0.000116  0.000382   \n",
       "1884  1000.0  0.000927  0.004542  0.000041  0.000065  0.000122  0.000385   \n",
       "1885  1000.0  0.000926  0.004459  0.000043  0.000069  0.000121  0.000373   \n",
       "1886  1000.0  0.000926  0.004447  0.000042  0.000067  0.000118  0.000397   \n",
       "1887  1000.0  0.000925  0.004380  0.000046  0.000073  0.000119  0.000366   \n",
       "1888  1000.0  0.000923  0.004294  0.000046  0.000069  0.000123  0.000379   \n",
       "1889  1000.0  0.000924  0.004260  0.000042  0.000067  0.000118  0.000355   \n",
       "1890  1000.0  0.000921  0.004191  0.000042  0.000067  0.000125  0.000384   \n",
       "1891  1000.0  0.000920  0.004126  0.000046  0.000073  0.000119  0.000368   \n",
       "1892  1000.0  0.000918  0.004059  0.000046  0.000068  0.000122  0.000382   \n",
       "1893  1000.0  0.000920  0.004022  0.000050  0.000074  0.000124  0.000413   \n",
       "1894  1000.0  0.000917  0.003951  0.000048  0.000072  0.000136  0.000384   \n",
       "1895  1000.0  0.000917  0.003925  0.000047  0.000071  0.000130  0.000405   \n",
       "1896  1000.0  0.000915  0.003875  0.000046  0.000077  0.000132  0.000411   \n",
       "1897  1000.0  0.000915  0.003856  0.000049  0.000074  0.000131  0.000402   \n",
       "1898  1000.0  0.000917  0.003828  0.000053  0.000068  0.000136  0.000378   \n",
       "1899  1000.0  0.000913  0.003728  0.000052  0.000078  0.000139  0.000384   \n",
       "1900  1000.0  0.000909  0.003749  0.000049  0.000074  0.000136  0.000409   \n",
       "1901  1000.0  0.000912  0.003664  0.000052  0.000078  0.000138  0.000415   \n",
       "1902  1000.0  0.000911  0.003651  0.000053  0.000075  0.000143  0.000414   \n",
       "1903  1000.0  0.000909  0.003606  0.000054  0.000077  0.000147  0.000433   \n",
       "1904  1000.0  0.000909  0.003565  0.000051  0.000079  0.000137  0.000419   \n",
       "\n",
       "           max  \n",
       "year            \n",
       "1880  0.081541  \n",
       "1881  0.080975  \n",
       "1882  0.078314  \n",
       "1883  0.079066  \n",
       "1884  0.076476  \n",
       "1885  0.075517  \n",
       "1886  0.075820  \n",
       "1887  0.074181  \n",
       "1888  0.071186  \n",
       "1889  0.071804  \n",
       "1890  0.071034  \n",
       "1891  0.070292  \n",
       "1892  0.068759  \n",
       "1893  0.066495  \n",
       "1894  0.065961  \n",
       "1895  0.065699  \n",
       "1896  0.063051  \n",
       "1897  0.061907  \n",
       "1898  0.061770  \n",
       "1899  0.060674  \n",
       "1900  0.060619  \n",
       "1901  0.059677  \n",
       "1902  0.059568  \n",
       "1903  0.058833  \n",
       "1904  0.058535  "
      ]
     },
     "execution_count": 42,
     "metadata": {},
     "output_type": "execute_result"
    }
   ],
   "source": [
    "boys.groupby('year')['prop'].describe().head(25)"
   ]
  },
  {
   "cell_type": "code",
   "execution_count": 43,
   "metadata": {
    "collapsed": true
   },
   "outputs": [],
   "source": [
    "df=boys[boys.year==2008].sort_values('prop',ascending=False)"
   ]
  },
  {
   "cell_type": "code",
   "execution_count": 44,
   "metadata": {},
   "outputs": [
    {
     "data": {
      "text/plain": [
       "128000    0.010355\n",
       "128001    0.019792\n",
       "128002    0.029093\n",
       "128003    0.037892\n",
       "128004    0.046594\n",
       "128005    0.055160\n",
       "128006    0.063602\n",
       "128007    0.072040\n",
       "128008    0.080308\n",
       "128009    0.088369\n",
       "128010    0.096246\n",
       "128011    0.103940\n",
       "128012    0.111510\n",
       "128013    0.118977\n",
       "128014    0.126239\n",
       "128015    0.133404\n",
       "128016    0.140356\n",
       "128017    0.147110\n",
       "128018    0.153482\n",
       "128019    0.159584\n",
       "128020    0.165669\n",
       "128021    0.171711\n",
       "128022    0.177696\n",
       "128023    0.183670\n",
       "128024    0.189600\n",
       "128025    0.195505\n",
       "128026    0.201343\n",
       "128027    0.207172\n",
       "128028    0.212924\n",
       "128029    0.218338\n",
       "            ...   \n",
       "128975    0.792756\n",
       "128974    0.792850\n",
       "128969    0.792944\n",
       "128972    0.793038\n",
       "128970    0.793132\n",
       "128968    0.793226\n",
       "128971    0.793320\n",
       "128977    0.793413\n",
       "128978    0.793506\n",
       "128979    0.793599\n",
       "128980    0.793692\n",
       "128981    0.793785\n",
       "128982    0.793878\n",
       "128983    0.793970\n",
       "128984    0.794062\n",
       "128985    0.794154\n",
       "128988    0.794245\n",
       "128989    0.794336\n",
       "128986    0.794427\n",
       "128987    0.794518\n",
       "128990    0.794608\n",
       "128991    0.794698\n",
       "128992    0.794788\n",
       "128993    0.794878\n",
       "128994    0.794968\n",
       "128995    0.795058\n",
       "128996    0.795147\n",
       "128997    0.795236\n",
       "128998    0.795325\n",
       "128999    0.795414\n",
       "Name: prop, Length: 1000, dtype: float64"
      ]
     },
     "execution_count": 44,
     "metadata": {},
     "output_type": "execute_result"
    }
   ],
   "source": [
    "#in 2008 the top 1000 names only represent 79% of the total names in USA\n",
    "df.prop.cumsum()"
   ]
  },
  {
   "cell_type": "code",
   "execution_count": 45,
   "metadata": {},
   "outputs": [
    {
     "data": {
      "text/plain": [
       "array([127])"
      ]
     },
     "execution_count": 45,
     "metadata": {},
     "output_type": "execute_result"
    }
   ],
   "source": [
    "df=boys[boys.year==2008].sort_values('prop',ascending=False)\n",
    "df.prop.cumsum().searchsorted(0.5)\n",
    "# It took 127 names to reach 50%"
   ]
  },
  {
   "cell_type": "code",
   "execution_count": 46,
   "metadata": {},
   "outputs": [
    {
     "data": {
      "text/plain": [
       "array([15])"
      ]
     },
     "execution_count": 46,
     "metadata": {},
     "output_type": "execute_result"
    }
   ],
   "source": [
    "df=boys[boys.year==1880].sort_values('prop',ascending=False)\n",
    "df.prop.cumsum().searchsorted(0.5)\n",
    "# It took 15 names to reach 50%,people werent creative with names back then"
   ]
  },
  {
   "cell_type": "code",
   "execution_count": 47,
   "metadata": {},
   "outputs": [
    {
     "data": {
      "text/plain": [
       "<matplotlib.legend.Legend at 0xb10e110>"
      ]
     },
     "execution_count": 47,
     "metadata": {},
     "output_type": "execute_result"
    },
    {
     "data": {
      "image/png": "[encoded data removed]",
      "text/plain": [
       "<matplotlib.figure.Figure at 0xb0f6ff0>"
      ]
     },
     "metadata": {},
     "output_type": "display_data"
    }
   ],
   "source": [
    "def get_quantile_count(group,quantile=0.5):\n",
    "    group=group.groupby('soundex').sum()\n",
    "    df=group.sort_values('prop',ascending=False)\n",
    "    return df.prop.cumsum().searchsorted(quantile)\n",
    "#f=lambda x:get_quantile_count(x,0.1)\n",
    "q=0.50 ## top 50 %\n",
    "boys_ct=boys.groupby('year').apply(get_quantile_count,quantile=q).astype(int).plot(c='r',label='Boys')\n",
    "girl_count=girls.groupby('year').apply(get_quantile_count,quantile=q).astype(int).plot(c='b',label='Girl')\n",
    "plt.legend()"
   ]
  },
  {
   "cell_type": "code",
   "execution_count": 48,
   "metadata": {},
   "outputs": [
    {
     "data": {
      "text/plain": [
       "128000    1000.0\n",
       "128001     999.0\n",
       "128002     998.0\n",
       "128003     997.0\n",
       "128004     996.0\n",
       "128005     995.0\n",
       "128006     994.0\n",
       "128007     993.0\n",
       "128008     992.0\n",
       "128009     991.0\n",
       "128010     990.0\n",
       "128011     989.0\n",
       "128012     988.0\n",
       "128013     987.0\n",
       "128014     986.0\n",
       "128015     985.0\n",
       "128016     984.0\n",
       "128017     983.0\n",
       "128018     982.0\n",
       "128019     981.0\n",
       "128020     980.0\n",
       "128021     979.0\n",
       "128022     978.0\n",
       "128023     977.0\n",
       "128024     976.0\n",
       "128025     975.0\n",
       "128026     974.0\n",
       "128027     973.0\n",
       "128028     972.0\n",
       "128029     971.0\n",
       "           ...  \n",
       "128970      28.0\n",
       "128971      28.0\n",
       "128972      28.0\n",
       "128973      28.0\n",
       "128974      28.0\n",
       "128975      28.0\n",
       "128976      28.0\n",
       "128977      20.5\n",
       "128978      20.5\n",
       "128979      20.5\n",
       "128980      20.5\n",
       "128981      20.5\n",
       "128982      20.5\n",
       "128983      16.0\n",
       "128984      16.0\n",
       "128985      16.0\n",
       "128986      12.5\n",
       "128987      12.5\n",
       "128988      12.5\n",
       "128989      12.5\n",
       "128990       7.5\n",
       "128991       7.5\n",
       "128992       7.5\n",
       "128993       7.5\n",
       "128994       7.5\n",
       "128995       7.5\n",
       "128996       2.5\n",
       "128997       2.5\n",
       "128998       2.5\n",
       "128999       2.5\n",
       "Name: prop, Length: 1000, dtype: float64"
      ]
     },
     "execution_count": 48,
     "metadata": {},
     "output_type": "execute_result"
    }
   ],
   "source": [
    "boys[boys.year==2008].prop.rank()"
   ]
  },
  {
   "cell_type": "code",
   "execution_count": 49,
   "metadata": {},
   "outputs": [
    {
     "name": "stderr",
     "output_type": "stream",
     "text": [
      "C:\\Users\\abhij\\Anaconda2\\lib\\site-packages\\ipykernel_launcher.py:3: SettingWithCopyWarning: \n",
      "A value is trying to be set on a copy of a slice from a DataFrame.\n",
      "Try using .loc[row_indexer,col_indexer] = value instead\n",
      "\n",
      "See the caveats in the documentation: http://pandas.pydata.org/pandas-docs/stable/indexing.html#indexing-view-versus-copy\n",
      "  This is separate from the ipykernel package so we can avoid doing imports until\n"
     ]
    }
   ],
   "source": [
    "#using series rank function\n",
    "grouped=boys.groupby('year')['prop']\n",
    "boys['year_rank']=grouped.transform(Series.rank)"
   ]
  },
  {
   "cell_type": "code",
   "execution_count": 50,
   "metadata": {},
   "outputs": [
    {
     "data": {
      "text/html": [
       "<div>\n",
       "<style>\n",
       "    .dataframe thead tr:only-child th {\n",
       "        text-align: right;\n",
       "    }\n",
       "\n",
       "    .dataframe thead th {\n",
       "        text-align: left;\n",
       "    }\n",
       "\n",
       "    .dataframe tbody tr th {\n",
       "        vertical-align: top;\n",
       "    }\n",
       "</style>\n",
       "<table border=\"1\" class=\"dataframe\">\n",
       "  <thead>\n",
       "    <tr style=\"text-align: right;\">\n",
       "      <th></th>\n",
       "      <th></th>\n",
       "      <th>prop</th>\n",
       "      <th>sex</th>\n",
       "      <th>soundex</th>\n",
       "      <th>year_rank</th>\n",
       "    </tr>\n",
       "    <tr>\n",
       "      <th>name</th>\n",
       "      <th>year</th>\n",
       "      <th></th>\n",
       "      <th></th>\n",
       "      <th></th>\n",
       "      <th></th>\n",
       "    </tr>\n",
       "  </thead>\n",
       "  <tbody>\n",
       "    <tr>\n",
       "      <th>John</th>\n",
       "      <th>1880</th>\n",
       "      <td>0.081541</td>\n",
       "      <td>boy</td>\n",
       "      <td>J500</td>\n",
       "      <td>1000.0</td>\n",
       "    </tr>\n",
       "    <tr>\n",
       "      <th>William</th>\n",
       "      <th>1880</th>\n",
       "      <td>0.080511</td>\n",
       "      <td>boy</td>\n",
       "      <td>W450</td>\n",
       "      <td>999.0</td>\n",
       "    </tr>\n",
       "    <tr>\n",
       "      <th>James</th>\n",
       "      <th>1880</th>\n",
       "      <td>0.050057</td>\n",
       "      <td>boy</td>\n",
       "      <td>J520</td>\n",
       "      <td>998.0</td>\n",
       "    </tr>\n",
       "    <tr>\n",
       "      <th>Charles</th>\n",
       "      <th>1880</th>\n",
       "      <td>0.045167</td>\n",
       "      <td>boy</td>\n",
       "      <td>C642</td>\n",
       "      <td>997.0</td>\n",
       "    </tr>\n",
       "    <tr>\n",
       "      <th>George</th>\n",
       "      <th>1880</th>\n",
       "      <td>0.043292</td>\n",
       "      <td>boy</td>\n",
       "      <td>G620</td>\n",
       "      <td>996.0</td>\n",
       "    </tr>\n",
       "  </tbody>\n",
       "</table>\n",
       "</div>"
      ],
      "text/plain": [
       "                  prop  sex soundex  year_rank\n",
       "name    year                                  \n",
       "John    1880  0.081541  boy    J500     1000.0\n",
       "William 1880  0.080511  boy    W450      999.0\n",
       "James   1880  0.050057  boy    J520      998.0\n",
       "Charles 1880  0.045167  boy    C642      997.0\n",
       "George  1880  0.043292  boy    G620      996.0"
      ]
     },
     "execution_count": 50,
     "metadata": {},
     "output_type": "execute_result"
    }
   ],
   "source": [
    "idf=boys.set_index(['name','year'])\n",
    "idf.head()"
   ]
  },
  {
   "cell_type": "code",
   "execution_count": 51,
   "metadata": {},
   "outputs": [
    {
     "data": {
      "text/plain": [
       "<matplotlib.axes._subplots.AxesSubplot at 0xb10e170>"
      ]
     },
     "execution_count": 51,
     "metadata": {},
     "output_type": "execute_result"
    },
    {
     "data": {
      "image/png": "[encoded data removed]",
      "text/plain": [
       "<matplotlib.figure.Figure at 0xb17ef10>"
      ]
     },
     "metadata": {},
     "output_type": "display_data"
    }
   ],
   "source": [
    "idf.loc['Wesley'].year_rank.plot()"
   ]
  },
  {
   "cell_type": "code",
   "execution_count": 53,
   "metadata": {},
   "outputs": [],
   "source": [
    "# load a new csv file births\n",
    "births=pd.read_csv(r'C:\\Users\\abhij\\Desktop\\Data-Wrangling-Pandas-master\\births.csv')"
   ]
  },
  {
   "cell_type": "code",
   "execution_count": 54,
   "metadata": {},
   "outputs": [
    {
     "data": {
      "text/html": [
       "<div>\n",
       "<style>\n",
       "    .dataframe thead tr:only-child th {\n",
       "        text-align: right;\n",
       "    }\n",
       "\n",
       "    .dataframe thead th {\n",
       "        text-align: left;\n",
       "    }\n",
       "\n",
       "    .dataframe tbody tr th {\n",
       "        vertical-align: top;\n",
       "    }\n",
       "</style>\n",
       "<table border=\"1\" class=\"dataframe\">\n",
       "  <thead>\n",
       "    <tr style=\"text-align: right;\">\n",
       "      <th></th>\n",
       "      <th>year</th>\n",
       "      <th>sex</th>\n",
       "      <th>births</th>\n",
       "    </tr>\n",
       "  </thead>\n",
       "  <tbody>\n",
       "    <tr>\n",
       "      <th>0</th>\n",
       "      <td>1880</td>\n",
       "      <td>boy</td>\n",
       "      <td>118405</td>\n",
       "    </tr>\n",
       "    <tr>\n",
       "      <th>1</th>\n",
       "      <td>1881</td>\n",
       "      <td>boy</td>\n",
       "      <td>108290</td>\n",
       "    </tr>\n",
       "  </tbody>\n",
       "</table>\n",
       "</div>"
      ],
      "text/plain": [
       "   year  sex  births\n",
       "0  1880  boy  118405\n",
       "1  1881  boy  108290"
      ]
     },
     "execution_count": 54,
     "metadata": {},
     "output_type": "execute_result"
    }
   ],
   "source": [
    "births.head(2)"
   ]
  },
  {
   "cell_type": "code",
   "execution_count": 55,
   "metadata": {
    "collapsed": true
   },
   "outputs": [],
   "source": [
    "boy_df=births[births.sex=='boy']"
   ]
  },
  {
   "cell_type": "code",
   "execution_count": 56,
   "metadata": {
    "collapsed": true
   },
   "outputs": [],
   "source": [
    "girl_df=births[births.sex=='girl']"
   ]
  },
  {
   "cell_type": "code",
   "execution_count": 58,
   "metadata": {},
   "outputs": [
    {
     "data": {
      "text/plain": [
       "<function pandas.core.reshape.merge.merge>"
      ]
     },
     "execution_count": 58,
     "metadata": {},
     "output_type": "execute_result"
    }
   ],
   "source": [
    "merge"
   ]
  },
  {
   "cell_type": "code",
   "execution_count": 59,
   "metadata": {
    "collapsed": true
   },
   "outputs": [],
   "source": [
    "merged=merge(names,births,on=['year','sex'])"
   ]
  },
  {
   "cell_type": "code",
   "execution_count": 63,
   "metadata": {},
   "outputs": [
    {
     "data": {
      "text/html": [
       "<div>\n",
       "<style>\n",
       "    .dataframe thead tr:only-child th {\n",
       "        text-align: right;\n",
       "    }\n",
       "\n",
       "    .dataframe thead th {\n",
       "        text-align: left;\n",
       "    }\n",
       "\n",
       "    .dataframe tbody tr th {\n",
       "        vertical-align: top;\n",
       "    }\n",
       "</style>\n",
       "<table border=\"1\" class=\"dataframe\">\n",
       "  <thead>\n",
       "    <tr style=\"text-align: right;\">\n",
       "      <th></th>\n",
       "      <th>year</th>\n",
       "      <th>name</th>\n",
       "      <th>prop</th>\n",
       "      <th>sex</th>\n",
       "      <th>soundex</th>\n",
       "      <th>births</th>\n",
       "      <th>persons</th>\n",
       "    </tr>\n",
       "  </thead>\n",
       "  <tbody>\n",
       "    <tr>\n",
       "      <th>0</th>\n",
       "      <td>1880</td>\n",
       "      <td>John</td>\n",
       "      <td>0.081541</td>\n",
       "      <td>boy</td>\n",
       "      <td>J500</td>\n",
       "      <td>118405</td>\n",
       "      <td>9654.0</td>\n",
       "    </tr>\n",
       "    <tr>\n",
       "      <th>1</th>\n",
       "      <td>1880</td>\n",
       "      <td>William</td>\n",
       "      <td>0.080511</td>\n",
       "      <td>boy</td>\n",
       "      <td>W450</td>\n",
       "      <td>118405</td>\n",
       "      <td>9532.0</td>\n",
       "    </tr>\n",
       "    <tr>\n",
       "      <th>2</th>\n",
       "      <td>1880</td>\n",
       "      <td>James</td>\n",
       "      <td>0.050057</td>\n",
       "      <td>boy</td>\n",
       "      <td>J520</td>\n",
       "      <td>118405</td>\n",
       "      <td>5926.0</td>\n",
       "    </tr>\n",
       "    <tr>\n",
       "      <th>3</th>\n",
       "      <td>1880</td>\n",
       "      <td>Charles</td>\n",
       "      <td>0.045167</td>\n",
       "      <td>boy</td>\n",
       "      <td>C642</td>\n",
       "      <td>118405</td>\n",
       "      <td>5347.0</td>\n",
       "    </tr>\n",
       "    <tr>\n",
       "      <th>4</th>\n",
       "      <td>1880</td>\n",
       "      <td>George</td>\n",
       "      <td>0.043292</td>\n",
       "      <td>boy</td>\n",
       "      <td>G620</td>\n",
       "      <td>118405</td>\n",
       "      <td>5125.0</td>\n",
       "    </tr>\n",
       "  </tbody>\n",
       "</table>\n",
       "</div>"
      ],
      "text/plain": [
       "   year     name      prop  sex soundex  births  persons\n",
       "0  1880     John  0.081541  boy    J500  118405   9654.0\n",
       "1  1880  William  0.080511  boy    W450  118405   9532.0\n",
       "2  1880    James  0.050057  boy    J520  118405   5926.0\n",
       "3  1880  Charles  0.045167  boy    C642  118405   5347.0\n",
       "4  1880   George  0.043292  boy    G620  118405   5125.0"
      ]
     },
     "execution_count": 63,
     "metadata": {},
     "output_type": "execute_result"
    }
   ],
   "source": [
    "merged.head()"
   ]
  },
  {
   "cell_type": "code",
   "execution_count": 64,
   "metadata": {
    "collapsed": true
   },
   "outputs": [],
   "source": [
    "merged['persons']=np.floor(merged.prop*merged.births)"
   ]
  },
  {
   "cell_type": "code",
   "execution_count": 65,
   "metadata": {},
   "outputs": [
    {
     "data": {
      "text/html": [
       "<div>\n",
       "<style>\n",
       "    .dataframe thead tr:only-child th {\n",
       "        text-align: right;\n",
       "    }\n",
       "\n",
       "    .dataframe thead th {\n",
       "        text-align: left;\n",
       "    }\n",
       "\n",
       "    .dataframe tbody tr th {\n",
       "        vertical-align: top;\n",
       "    }\n",
       "</style>\n",
       "<table border=\"1\" class=\"dataframe\">\n",
       "  <thead>\n",
       "    <tr style=\"text-align: right;\">\n",
       "      <th></th>\n",
       "      <th>year</th>\n",
       "      <th>name</th>\n",
       "      <th>prop</th>\n",
       "      <th>sex</th>\n",
       "      <th>soundex</th>\n",
       "      <th>births</th>\n",
       "      <th>persons</th>\n",
       "    </tr>\n",
       "  </thead>\n",
       "  <tbody>\n",
       "    <tr>\n",
       "      <th>0</th>\n",
       "      <td>1880</td>\n",
       "      <td>John</td>\n",
       "      <td>0.081541</td>\n",
       "      <td>boy</td>\n",
       "      <td>J500</td>\n",
       "      <td>118405</td>\n",
       "      <td>9654.0</td>\n",
       "    </tr>\n",
       "    <tr>\n",
       "      <th>1</th>\n",
       "      <td>1880</td>\n",
       "      <td>William</td>\n",
       "      <td>0.080511</td>\n",
       "      <td>boy</td>\n",
       "      <td>W450</td>\n",
       "      <td>118405</td>\n",
       "      <td>9532.0</td>\n",
       "    </tr>\n",
       "    <tr>\n",
       "      <th>2</th>\n",
       "      <td>1880</td>\n",
       "      <td>James</td>\n",
       "      <td>0.050057</td>\n",
       "      <td>boy</td>\n",
       "      <td>J520</td>\n",
       "      <td>118405</td>\n",
       "      <td>5926.0</td>\n",
       "    </tr>\n",
       "    <tr>\n",
       "      <th>3</th>\n",
       "      <td>1880</td>\n",
       "      <td>Charles</td>\n",
       "      <td>0.045167</td>\n",
       "      <td>boy</td>\n",
       "      <td>C642</td>\n",
       "      <td>118405</td>\n",
       "      <td>5347.0</td>\n",
       "    </tr>\n",
       "    <tr>\n",
       "      <th>4</th>\n",
       "      <td>1880</td>\n",
       "      <td>George</td>\n",
       "      <td>0.043292</td>\n",
       "      <td>boy</td>\n",
       "      <td>G620</td>\n",
       "      <td>118405</td>\n",
       "      <td>5125.0</td>\n",
       "    </tr>\n",
       "  </tbody>\n",
       "</table>\n",
       "</div>"
      ],
      "text/plain": [
       "   year     name      prop  sex soundex  births  persons\n",
       "0  1880     John  0.081541  boy    J500  118405   9654.0\n",
       "1  1880  William  0.080511  boy    W450  118405   9532.0\n",
       "2  1880    James  0.050057  boy    J520  118405   5926.0\n",
       "3  1880  Charles  0.045167  boy    C642  118405   5347.0\n",
       "4  1880   George  0.043292  boy    G620  118405   5125.0"
      ]
     },
     "execution_count": 65,
     "metadata": {},
     "output_type": "execute_result"
    }
   ],
   "source": [
    "merged.head()"
   ]
  },
  {
   "cell_type": "code",
   "execution_count": 66,
   "metadata": {},
   "outputs": [
    {
     "data": {
      "text/plain": [
       "name         sex \n",
       "James        boy     5021269.0\n",
       "John         boy     5016124.0\n",
       "Robert       boy     4752198.0\n",
       "Michael      boy     4207352.0\n",
       "Mary         girl    4097626.0\n",
       "William      boy     3951365.0\n",
       "David        boy     3495940.0\n",
       "Richard      boy     2535681.0\n",
       "Joseph       boy     2490274.0\n",
       "Charles      boy     2320818.0\n",
       "Thomas       boy     2239606.0\n",
       "Christopher  boy     1924919.0\n",
       "Daniel       boy     1776483.0\n",
       "Patricia     girl    1567602.0\n",
       "Elizabeth    girl    1540430.0\n",
       "Matthew      boy     1468064.0\n",
       "Jennifer     girl    1449037.0\n",
       "Linda        girl    1447680.0\n",
       "George       boy     1438921.0\n",
       "Barbara      girl    1430312.0\n",
       "Donald       boy     1403794.0\n",
       "Paul         boy     1367768.0\n",
       "Mark         boy     1329218.0\n",
       "Anthony      boy     1319487.0\n",
       "Edward       boy     1264213.0\n",
       "Steven       boy     1253228.0\n",
       "Kenneth      boy     1252636.0\n",
       "Margaret     girl    1229081.0\n",
       "Andrew       boy     1177491.0\n",
       "Brian        boy     1137585.0\n",
       "                       ...    \n",
       "Affie        girl          4.0\n",
       "Pryor        boy           4.0\n",
       "Calhoun      boy           4.0\n",
       "Grove        boy           4.0\n",
       "Lucina       girl          4.0\n",
       "Hays         boy           4.0\n",
       "Prosper      boy           4.0\n",
       "Primus       boy           4.0\n",
       "Lovie        boy           4.0\n",
       "Cilla        girl          4.0\n",
       "Claiborne    boy           4.0\n",
       "Hunt         boy           4.0\n",
       "Nolie        girl          4.0\n",
       "Lovisa       girl          4.0\n",
       "Francina     girl          4.0\n",
       "Amil         boy           4.0\n",
       "Esequiel     boy           4.0\n",
       "Alfred       girl          3.0\n",
       "Achsah       girl          3.0\n",
       "Amey         girl          3.0\n",
       "Eithel       girl          3.0\n",
       "Chester      girl          3.0\n",
       "Clem         girl          3.0\n",
       "Ala          girl          3.0\n",
       "Chestina     girl          3.0\n",
       "Dema         girl          3.0\n",
       "Dollye       girl          3.0\n",
       "Crissie      girl          3.0\n",
       "Daisye       girl          3.0\n",
       "Alabama      girl          3.0\n",
       "Name: persons, Length: 7455, dtype: float64"
      ]
     },
     "execution_count": 66,
     "metadata": {},
     "output_type": "execute_result"
    }
   ],
   "source": [
    "merged.groupby(['name','sex'])['persons'].sum().sort_values(ascending=False)"
   ]
  },
  {
   "cell_type": "code",
   "execution_count": 67,
   "metadata": {
    "collapsed": true
   },
   "outputs": [],
   "source": [
    "idf=merged.set_index(['year','name']).persons"
   ]
  },
  {
   "cell_type": "code",
   "execution_count": 68,
   "metadata": {},
   "outputs": [
    {
     "data": {
      "text/plain": [
       "year  name   \n",
       "1880  John       9654.0\n",
       "      William    9532.0\n",
       "      James      5926.0\n",
       "      Charles    5347.0\n",
       "      George     5125.0\n",
       "Name: persons, dtype: float64"
      ]
     },
     "execution_count": 68,
     "metadata": {},
     "output_type": "execute_result"
    }
   ],
   "source": [
    "idf.head()"
   ]
  },
  {
   "cell_type": "code",
   "execution_count": 69,
   "metadata": {},
   "outputs": [
    {
     "data": {
      "text/plain": [
       "year     0         1880\n",
       "         1         1880\n",
       "         2         1880\n",
       "         3         1880\n",
       "         4         1880\n",
       "         5         1880\n",
       "         6         1880\n",
       "         7         1880\n",
       "         8         1880\n",
       "         9         1880\n",
       "         10        1880\n",
       "         11        1880\n",
       "         12        1880\n",
       "         13        1880\n",
       "         14        1880\n",
       "         15        1880\n",
       "         16        1880\n",
       "         17        1880\n",
       "         18        1880\n",
       "         19        1880\n",
       "         20        1880\n",
       "         21        1880\n",
       "         22        1880\n",
       "         23        1880\n",
       "         24        1880\n",
       "         25        1880\n",
       "         26        1880\n",
       "         27        1880\n",
       "         28        1880\n",
       "         29        1880\n",
       "                   ... \n",
       "persons  257970     275\n",
       "         257971     273\n",
       "         257972     273\n",
       "         257973     273\n",
       "         257974     271\n",
       "         257975     271\n",
       "         257976     271\n",
       "         257977     271\n",
       "         257978     271\n",
       "         257979     269\n",
       "         257980     269\n",
       "         257981     269\n",
       "         257982     269\n",
       "         257983     269\n",
       "         257984     269\n",
       "         257985     269\n",
       "         257986     267\n",
       "         257987     267\n",
       "         257988     267\n",
       "         257989     267\n",
       "         257990     267\n",
       "         257991     267\n",
       "         257992     267\n",
       "         257993     267\n",
       "         257994     265\n",
       "         257995     265\n",
       "         257996     265\n",
       "         257997     263\n",
       "         257998     263\n",
       "         257999     263\n",
       "Length: 1806000, dtype: object"
      ]
     },
     "execution_count": 69,
     "metadata": {},
     "output_type": "execute_result"
    }
   ],
   "source": [
    "merged.unstack('name')"
   ]
  },
  {
   "cell_type": "code",
   "execution_count": null,
   "metadata": {
    "collapsed": true
   },
   "outputs": [],
   "source": []
  }
 ],
 "metadata": {
  "kernelspec": {
   "display_name": "Python 2",
   "language": "python",
   "name": "python2"
  },
  "language_info": {
   "codemirror_mode": {
    "name": "ipython",
    "version": 2
   },
   "file_extension": ".py",
   "mimetype": "text/x-python",
   "name": "python",
   "nbconvert_exporter": "python",
   "pygments_lexer": "ipython2",
   "version": "2.7.13"
  }
 },
 "nbformat": 4,
 "nbformat_minor": 2
}
