{
 "cells": [
  {
   "cell_type": "code",
   "execution_count": 258,
   "metadata": {
    "collapsed": true
   },
   "outputs": [],
   "source": [
    "from pandas import *\n",
    "import pandas as pd\n",
    "%matplotlib inline  \n",
    "import sklearn as scikit_learn\n",
    "\n",
    "import numpy as np\n",
    "from numpy import random\n",
    "import matplotlib.pyplot as plt\n",
    "\n",
    "def side_by_side(*objs, **kwds):\n",
    "    \n",
    "    from pandas.io.formats.printing import adjoin\n",
    "    space = kwds.get('space', 4)\n",
    "    reprs = [repr(obj).split('\\n') for obj in objs]\n",
    "    print adjoin(space, *reprs)\n",
    "\n",
    "plt.rc('figure', figsize=(10, 6))\n",
    "# pandas.set_printoptions(notebook_repr_html=False)"
   ]
  },
  {
   "cell_type": "markdown",
   "metadata": {},
   "source": [
    "# Series"
   ]
  },
  {
   "cell_type": "code",
   "execution_count": 146,
   "metadata": {},
   "outputs": [
    {
     "data": {
      "text/plain": [
       "array([ 1.27746858, -0.49651799,  0.05430095, -0.50508404, -2.58874196])"
      ]
     },
     "execution_count": 146,
     "metadata": {},
     "output_type": "execute_result"
    }
   ],
   "source": [
    "random.randn(5)"
   ]
  },
  {
   "cell_type": "code",
   "execution_count": 147,
   "metadata": {},
   "outputs": [
    {
     "data": {
      "text/plain": [
       "a   -0.398241\n",
       "b    1.285598\n",
       "c    0.317780\n",
       "d    0.814944\n",
       "e    1.228222\n",
       "dtype: float64"
      ]
     },
     "execution_count": 147,
     "metadata": {},
     "output_type": "execute_result"
    }
   ],
   "source": [
    "labels=['a','b','c','d','e']\n",
    "s=Series(random.randn(5),index=labels)\n",
    "s"
   ]
  },
  {
   "cell_type": "code",
   "execution_count": 148,
   "metadata": {},
   "outputs": [
    {
     "data": {
      "text/plain": [
       "True"
      ]
     },
     "execution_count": 148,
     "metadata": {},
     "output_type": "execute_result"
    }
   ],
   "source": [
    "'b' in s "
   ]
  },
  {
   "cell_type": "code",
   "execution_count": 149,
   "metadata": {},
   "outputs": [
    {
     "data": {
      "text/plain": [
       "1.285597606335029"
      ]
     },
     "execution_count": 149,
     "metadata": {},
     "output_type": "execute_result"
    }
   ],
   "source": [
    "s['b']"
   ]
  },
  {
   "cell_type": "code",
   "execution_count": 150,
   "metadata": {},
   "outputs": [
    {
     "data": {
      "text/plain": [
       "Index([u'a', u'b', u'c', u'd', u'e'], dtype='object')"
      ]
     },
     "execution_count": 150,
     "metadata": {},
     "output_type": "execute_result"
    }
   ],
   "source": [
    "s.index"
   ]
  },
  {
   "cell_type": "code",
   "execution_count": 151,
   "metadata": {},
   "outputs": [
    {
     "data": {
      "text/plain": [
       "{'a': -0.39824099516783973,\n",
       " 'b': 1.285597606335029,\n",
       " 'c': 0.31778041868717644,\n",
       " 'd': 0.81494383223858413,\n",
       " 'e': 1.2282222936615168}"
      ]
     },
     "execution_count": 151,
     "metadata": {},
     "output_type": "execute_result"
    }
   ],
   "source": [
    "mapping=s.to_dict()\n",
    "mapping"
   ]
  },
  {
   "cell_type": "code",
   "execution_count": 152,
   "metadata": {
    "collapsed": true
   },
   "outputs": [],
   "source": [
    "s=Series(mapping)"
   ]
  },
  {
   "cell_type": "code",
   "execution_count": 153,
   "metadata": {},
   "outputs": [
    {
     "data": {
      "text/plain": [
       "a   -0.398241\n",
       "b    1.285598\n",
       "c    0.317780\n",
       "d    0.814944\n",
       "e    1.228222\n",
       "dtype: float64"
      ]
     },
     "execution_count": 153,
     "metadata": {},
     "output_type": "execute_result"
    }
   ],
   "source": [
    "s"
   ]
  },
  {
   "cell_type": "code",
   "execution_count": 154,
   "metadata": {
    "collapsed": true
   },
   "outputs": [],
   "source": [
    "s=Series(mapping,index=['b','e','a','d'])"
   ]
  },
  {
   "cell_type": "code",
   "execution_count": 155,
   "metadata": {},
   "outputs": [
    {
     "data": {
      "text/plain": [
       "b    1.285598\n",
       "e    1.228222\n",
       "a   -0.398241\n",
       "d    0.814944\n",
       "dtype: float64"
      ]
     },
     "execution_count": 155,
     "metadata": {},
     "output_type": "execute_result"
    }
   ],
   "source": [
    "s"
   ]
  },
  {
   "cell_type": "code",
   "execution_count": 156,
   "metadata": {
    "collapsed": true
   },
   "outputs": [],
   "source": [
    "s=Series(mapping,index=['b','e','a','d','f'])"
   ]
  },
  {
   "cell_type": "code",
   "execution_count": 157,
   "metadata": {},
   "outputs": [
    {
     "data": {
      "text/plain": [
       "b    1.285598\n",
       "e    1.228222\n",
       "a   -0.398241\n",
       "d    0.814944\n",
       "f         NaN\n",
       "dtype: float64"
      ]
     },
     "execution_count": 157,
     "metadata": {},
     "output_type": "execute_result"
    }
   ],
   "source": [
    "s"
   ]
  },
  {
   "cell_type": "code",
   "execution_count": 158,
   "metadata": {},
   "outputs": [
    {
     "data": {
      "text/plain": [
       "b    False\n",
       "e    False\n",
       "a    False\n",
       "d    False\n",
       "f     True\n",
       "dtype: bool"
      ]
     },
     "execution_count": 158,
     "metadata": {},
     "output_type": "execute_result"
    }
   ],
   "source": [
    "isnull(s)"
   ]
  },
  {
   "cell_type": "code",
   "execution_count": 159,
   "metadata": {},
   "outputs": [
    {
     "data": {
      "text/plain": [
       "b    1.285598\n",
       "e    1.228222\n",
       "a   -0.398241\n",
       "d    0.814944\n",
       "dtype: float64"
      ]
     },
     "execution_count": 159,
     "metadata": {},
     "output_type": "execute_result"
    }
   ],
   "source": [
    "s[notnull(s)]"
   ]
  },
  {
   "cell_type": "code",
   "execution_count": 160,
   "metadata": {},
   "outputs": [
    {
     "data": {
      "text/plain": [
       "f   NaN\n",
       "dtype: float64"
      ]
     },
     "execution_count": 160,
     "metadata": {},
     "output_type": "execute_result"
    }
   ],
   "source": [
    "s[isnull(s)]"
   ]
  },
  {
   "cell_type": "code",
   "execution_count": 161,
   "metadata": {},
   "outputs": [
    {
     "data": {
      "text/plain": [
       "b    1.285598\n",
       "e    1.228222\n",
       "a   -0.398241\n",
       "d    0.814944\n",
       "dtype: float64"
      ]
     },
     "execution_count": 161,
     "metadata": {},
     "output_type": "execute_result"
    }
   ],
   "source": [
    "s.dropna()"
   ]
  },
  {
   "cell_type": "code",
   "execution_count": 162,
   "metadata": {},
   "outputs": [
    {
     "data": {
      "text/plain": [
       "b    2.571195\n",
       "e    2.456445\n",
       "a   -0.796482\n",
       "d    1.629888\n",
       "f         NaN\n",
       "dtype: float64"
      ]
     },
     "execution_count": 162,
     "metadata": {},
     "output_type": "execute_result"
    }
   ],
   "source": [
    "s*2"
   ]
  },
  {
   "cell_type": "code",
   "execution_count": 163,
   "metadata": {
    "collapsed": true
   },
   "outputs": [],
   "source": [
    "arr=random.rand(5)"
   ]
  },
  {
   "cell_type": "code",
   "execution_count": 164,
   "metadata": {},
   "outputs": [
    {
     "data": {
      "text/plain": [
       "array([ 0.60274892,  0.4063968 ,  0.71435211])"
      ]
     },
     "execution_count": 164,
     "metadata": {},
     "output_type": "execute_result"
    }
   ],
   "source": [
    "arr[:3]"
   ]
  },
  {
   "cell_type": "code",
   "execution_count": 165,
   "metadata": {},
   "outputs": [
    {
     "data": {
      "text/plain": [
       "b    1.285598\n",
       "e    1.228222\n",
       "a   -0.398241\n",
       "dtype: float64"
      ]
     },
     "execution_count": 165,
     "metadata": {},
     "output_type": "execute_result"
    }
   ],
   "source": [
    "s[:3]"
   ]
  },
  {
   "cell_type": "markdown",
   "metadata": {},
   "source": [
    "# DataFrame:2d collection of Series"
   ]
  },
  {
   "cell_type": "code",
   "execution_count": 166,
   "metadata": {
    "collapsed": true
   },
   "outputs": [],
   "source": [
    "df=DataFrame({'a':np.random.randn(6),'b':['foo','bar']*3,'c':np.random.randn(6)})"
   ]
  },
  {
   "cell_type": "code",
   "execution_count": 167,
   "metadata": {},
   "outputs": [
    {
     "data": {
      "text/html": [
       "<div>\n",
       "<style>\n",
       "    .dataframe thead tr:only-child th {\n",
       "        text-align: right;\n",
       "    }\n",
       "\n",
       "    .dataframe thead th {\n",
       "        text-align: left;\n",
       "    }\n",
       "\n",
       "    .dataframe tbody tr th {\n",
       "        vertical-align: top;\n",
       "    }\n",
       "</style>\n",
       "<table border=\"1\" class=\"dataframe\">\n",
       "  <thead>\n",
       "    <tr style=\"text-align: right;\">\n",
       "      <th></th>\n",
       "      <th>a</th>\n",
       "      <th>b</th>\n",
       "      <th>c</th>\n",
       "    </tr>\n",
       "  </thead>\n",
       "  <tbody>\n",
       "    <tr>\n",
       "      <th>0</th>\n",
       "      <td>-0.348819</td>\n",
       "      <td>foo</td>\n",
       "      <td>0.212994</td>\n",
       "    </tr>\n",
       "    <tr>\n",
       "      <th>1</th>\n",
       "      <td>0.021642</td>\n",
       "      <td>bar</td>\n",
       "      <td>0.258905</td>\n",
       "    </tr>\n",
       "    <tr>\n",
       "      <th>2</th>\n",
       "      <td>-0.367898</td>\n",
       "      <td>foo</td>\n",
       "      <td>1.906585</td>\n",
       "    </tr>\n",
       "    <tr>\n",
       "      <th>3</th>\n",
       "      <td>-0.769405</td>\n",
       "      <td>bar</td>\n",
       "      <td>-1.576026</td>\n",
       "    </tr>\n",
       "    <tr>\n",
       "      <th>4</th>\n",
       "      <td>-0.111407</td>\n",
       "      <td>foo</td>\n",
       "      <td>-0.572915</td>\n",
       "    </tr>\n",
       "    <tr>\n",
       "      <th>5</th>\n",
       "      <td>-1.114185</td>\n",
       "      <td>bar</td>\n",
       "      <td>-0.294098</td>\n",
       "    </tr>\n",
       "  </tbody>\n",
       "</table>\n",
       "</div>"
      ],
      "text/plain": [
       "          a    b         c\n",
       "0 -0.348819  foo  0.212994\n",
       "1  0.021642  bar  0.258905\n",
       "2 -0.367898  foo  1.906585\n",
       "3 -0.769405  bar -1.576026\n",
       "4 -0.111407  foo -0.572915\n",
       "5 -1.114185  bar -0.294098"
      ]
     },
     "execution_count": 167,
     "metadata": {},
     "output_type": "execute_result"
    }
   ],
   "source": [
    "df"
   ]
  },
  {
   "cell_type": "code",
   "execution_count": 168,
   "metadata": {},
   "outputs": [
    {
     "data": {
      "text/plain": [
       "RangeIndex(start=0, stop=6, step=1)"
      ]
     },
     "execution_count": 168,
     "metadata": {},
     "output_type": "execute_result"
    }
   ],
   "source": [
    "df.index"
   ]
  },
  {
   "cell_type": "code",
   "execution_count": 169,
   "metadata": {},
   "outputs": [
    {
     "data": {
      "text/plain": [
       "Index([u'a', u'b', u'c'], dtype='object')"
      ]
     },
     "execution_count": 169,
     "metadata": {},
     "output_type": "execute_result"
    }
   ],
   "source": [
    "df.columns"
   ]
  },
  {
   "cell_type": "code",
   "execution_count": 170,
   "metadata": {},
   "outputs": [
    {
     "data": {
      "text/plain": [
       "0   -0.348819\n",
       "1    0.021642\n",
       "2   -0.367898\n",
       "Name: a, dtype: float64"
      ]
     },
     "execution_count": 170,
     "metadata": {},
     "output_type": "execute_result"
    }
   ],
   "source": [
    "df['a'].head(3)"
   ]
  },
  {
   "cell_type": "code",
   "execution_count": 171,
   "metadata": {
    "collapsed": true
   },
   "outputs": [],
   "source": [
    "df['d']=random.randn(6)"
   ]
  },
  {
   "cell_type": "code",
   "execution_count": 172,
   "metadata": {},
   "outputs": [
    {
     "data": {
      "text/html": [
       "<div>\n",
       "<style>\n",
       "    .dataframe thead tr:only-child th {\n",
       "        text-align: right;\n",
       "    }\n",
       "\n",
       "    .dataframe thead th {\n",
       "        text-align: left;\n",
       "    }\n",
       "\n",
       "    .dataframe tbody tr th {\n",
       "        vertical-align: top;\n",
       "    }\n",
       "</style>\n",
       "<table border=\"1\" class=\"dataframe\">\n",
       "  <thead>\n",
       "    <tr style=\"text-align: right;\">\n",
       "      <th></th>\n",
       "      <th>a</th>\n",
       "      <th>b</th>\n",
       "      <th>c</th>\n",
       "      <th>d</th>\n",
       "    </tr>\n",
       "  </thead>\n",
       "  <tbody>\n",
       "    <tr>\n",
       "      <th>0</th>\n",
       "      <td>-0.348819</td>\n",
       "      <td>foo</td>\n",
       "      <td>0.212994</td>\n",
       "      <td>-0.564425</td>\n",
       "    </tr>\n",
       "    <tr>\n",
       "      <th>1</th>\n",
       "      <td>0.021642</td>\n",
       "      <td>bar</td>\n",
       "      <td>0.258905</td>\n",
       "      <td>-1.231367</td>\n",
       "    </tr>\n",
       "    <tr>\n",
       "      <th>2</th>\n",
       "      <td>-0.367898</td>\n",
       "      <td>foo</td>\n",
       "      <td>1.906585</td>\n",
       "      <td>-1.144451</td>\n",
       "    </tr>\n",
       "    <tr>\n",
       "      <th>3</th>\n",
       "      <td>-0.769405</td>\n",
       "      <td>bar</td>\n",
       "      <td>-1.576026</td>\n",
       "      <td>0.774393</td>\n",
       "    </tr>\n",
       "    <tr>\n",
       "      <th>4</th>\n",
       "      <td>-0.111407</td>\n",
       "      <td>foo</td>\n",
       "      <td>-0.572915</td>\n",
       "      <td>0.467948</td>\n",
       "    </tr>\n",
       "    <tr>\n",
       "      <th>5</th>\n",
       "      <td>-1.114185</td>\n",
       "      <td>bar</td>\n",
       "      <td>-0.294098</td>\n",
       "      <td>-1.098931</td>\n",
       "    </tr>\n",
       "  </tbody>\n",
       "</table>\n",
       "</div>"
      ],
      "text/plain": [
       "          a    b         c         d\n",
       "0 -0.348819  foo  0.212994 -0.564425\n",
       "1  0.021642  bar  0.258905 -1.231367\n",
       "2 -0.367898  foo  1.906585 -1.144451\n",
       "3 -0.769405  bar -1.576026  0.774393\n",
       "4 -0.111407  foo -0.572915  0.467948\n",
       "5 -1.114185  bar -0.294098 -1.098931"
      ]
     },
     "execution_count": 172,
     "metadata": {},
     "output_type": "execute_result"
    }
   ],
   "source": [
    "df"
   ]
  },
  {
   "cell_type": "code",
   "execution_count": 173,
   "metadata": {},
   "outputs": [
    {
     "data": {
      "text/plain": [
       "array(['foo', 'bar', 'foo', 'bar', 'foo', 'bar'], \n",
       "      dtype='|S3')"
      ]
     },
     "execution_count": 173,
     "metadata": {},
     "output_type": "execute_result"
    }
   ],
   "source": [
    "np.tile(['foo','bar'],3)"
   ]
  },
  {
   "cell_type": "code",
   "execution_count": 174,
   "metadata": {},
   "outputs": [
    {
     "data": {
      "text/html": [
       "<div>\n",
       "<style>\n",
       "    .dataframe thead tr:only-child th {\n",
       "        text-align: right;\n",
       "    }\n",
       "\n",
       "    .dataframe thead th {\n",
       "        text-align: left;\n",
       "    }\n",
       "\n",
       "    .dataframe tbody tr th {\n",
       "        vertical-align: top;\n",
       "    }\n",
       "</style>\n",
       "<table border=\"1\" class=\"dataframe\">\n",
       "  <thead>\n",
       "    <tr style=\"text-align: right;\">\n",
       "      <th></th>\n",
       "      <th>a</th>\n",
       "      <th>b</th>\n",
       "      <th>c</th>\n",
       "      <th>d</th>\n",
       "    </tr>\n",
       "  </thead>\n",
       "  <tbody>\n",
       "    <tr>\n",
       "      <th>4</th>\n",
       "      <td>-0.111407</td>\n",
       "      <td>foo</td>\n",
       "      <td>-0.572915</td>\n",
       "      <td>0.467948</td>\n",
       "    </tr>\n",
       "    <tr>\n",
       "      <th>5</th>\n",
       "      <td>-1.114185</td>\n",
       "      <td>bar</td>\n",
       "      <td>-0.294098</td>\n",
       "      <td>-1.098931</td>\n",
       "    </tr>\n",
       "  </tbody>\n",
       "</table>\n",
       "</div>"
      ],
      "text/plain": [
       "          a    b         c         d\n",
       "4 -0.111407  foo -0.572915  0.467948\n",
       "5 -1.114185  bar -0.294098 -1.098931"
      ]
     },
     "execution_count": 174,
     "metadata": {},
     "output_type": "execute_result"
    }
   ],
   "source": [
    "df[-2:]"
   ]
  },
  {
   "cell_type": "code",
   "execution_count": 175,
   "metadata": {},
   "outputs": [
    {
     "data": {
      "text/html": [
       "<div>\n",
       "<style>\n",
       "    .dataframe thead tr:only-child th {\n",
       "        text-align: right;\n",
       "    }\n",
       "\n",
       "    .dataframe thead th {\n",
       "        text-align: left;\n",
       "    }\n",
       "\n",
       "    .dataframe tbody tr th {\n",
       "        vertical-align: top;\n",
       "    }\n",
       "</style>\n",
       "<table border=\"1\" class=\"dataframe\">\n",
       "  <thead>\n",
       "    <tr style=\"text-align: right;\">\n",
       "      <th></th>\n",
       "      <th>a</th>\n",
       "      <th>b</th>\n",
       "      <th>c</th>\n",
       "      <th>d</th>\n",
       "    </tr>\n",
       "  </thead>\n",
       "  <tbody>\n",
       "    <tr>\n",
       "      <th>0</th>\n",
       "      <td>-0.348819</td>\n",
       "      <td>foo</td>\n",
       "      <td>0.212994</td>\n",
       "      <td>-0.564425</td>\n",
       "    </tr>\n",
       "    <tr>\n",
       "      <th>1</th>\n",
       "      <td>0.021642</td>\n",
       "      <td>bar</td>\n",
       "      <td>0.258905</td>\n",
       "      <td>-1.231367</td>\n",
       "    </tr>\n",
       "    <tr>\n",
       "      <th>2</th>\n",
       "      <td>-0.367898</td>\n",
       "      <td>foo</td>\n",
       "      <td>1.906585</td>\n",
       "      <td>-1.144451</td>\n",
       "    </tr>\n",
       "    <tr>\n",
       "      <th>3</th>\n",
       "      <td>-0.769405</td>\n",
       "      <td>bar</td>\n",
       "      <td>-1.576026</td>\n",
       "      <td>0.774393</td>\n",
       "    </tr>\n",
       "    <tr>\n",
       "      <th>4</th>\n",
       "      <td>-0.111407</td>\n",
       "      <td>foo</td>\n",
       "      <td>-0.572915</td>\n",
       "      <td>0.467948</td>\n",
       "    </tr>\n",
       "  </tbody>\n",
       "</table>\n",
       "</div>"
      ],
      "text/plain": [
       "          a    b         c         d\n",
       "0 -0.348819  foo  0.212994 -0.564425\n",
       "1  0.021642  bar  0.258905 -1.231367\n",
       "2 -0.367898  foo  1.906585 -1.144451\n",
       "3 -0.769405  bar -1.576026  0.774393\n",
       "4 -0.111407  foo -0.572915  0.467948"
      ]
     },
     "execution_count": 175,
     "metadata": {},
     "output_type": "execute_result"
    }
   ],
   "source": [
    "df[:-1]"
   ]
  },
  {
   "cell_type": "code",
   "execution_count": 176,
   "metadata": {},
   "outputs": [
    {
     "data": {
      "text/plain": [
       "a   -0.348819\n",
       "b         foo\n",
       "c    0.212994\n",
       "d   -0.564425\n",
       "Name: 0, dtype: object"
      ]
     },
     "execution_count": 176,
     "metadata": {},
     "output_type": "execute_result"
    }
   ],
   "source": [
    "df.xs(0)"
   ]
  },
  {
   "cell_type": "code",
   "execution_count": 177,
   "metadata": {},
   "outputs": [
    {
     "data": {
      "text/plain": [
       "Index([u'a', u'b', u'c', u'd'], dtype='object')"
      ]
     },
     "execution_count": 177,
     "metadata": {},
     "output_type": "execute_result"
    }
   ],
   "source": [
    "df.xs(0).index"
   ]
  },
  {
   "cell_type": "code",
   "execution_count": 178,
   "metadata": {},
   "outputs": [
    {
     "data": {
      "text/html": [
       "<div>\n",
       "<style>\n",
       "    .dataframe thead tr:only-child th {\n",
       "        text-align: right;\n",
       "    }\n",
       "\n",
       "    .dataframe thead th {\n",
       "        text-align: left;\n",
       "    }\n",
       "\n",
       "    .dataframe tbody tr th {\n",
       "        vertical-align: top;\n",
       "    }\n",
       "</style>\n",
       "<table border=\"1\" class=\"dataframe\">\n",
       "  <thead>\n",
       "    <tr style=\"text-align: right;\">\n",
       "      <th></th>\n",
       "      <th>c</th>\n",
       "      <th>b</th>\n",
       "    </tr>\n",
       "  </thead>\n",
       "  <tbody>\n",
       "    <tr>\n",
       "      <th>2</th>\n",
       "      <td>1.906585</td>\n",
       "      <td>foo</td>\n",
       "    </tr>\n",
       "    <tr>\n",
       "      <th>3</th>\n",
       "      <td>-1.576026</td>\n",
       "      <td>bar</td>\n",
       "    </tr>\n",
       "    <tr>\n",
       "      <th>4</th>\n",
       "      <td>-0.572915</td>\n",
       "      <td>foo</td>\n",
       "    </tr>\n",
       "  </tbody>\n",
       "</table>\n",
       "</div>"
      ],
      "text/plain": [
       "          c    b\n",
       "2  1.906585  foo\n",
       "3 -1.576026  bar\n",
       "4 -0.572915  foo"
      ]
     },
     "execution_count": 178,
     "metadata": {},
     "output_type": "execute_result"
    }
   ],
   "source": [
    "df.loc[2:4,['c','b']]"
   ]
  },
  {
   "cell_type": "code",
   "execution_count": 179,
   "metadata": {},
   "outputs": [
    {
     "data": {
      "text/html": [
       "<div>\n",
       "<style>\n",
       "    .dataframe thead tr:only-child th {\n",
       "        text-align: right;\n",
       "    }\n",
       "\n",
       "    .dataframe thead th {\n",
       "        text-align: left;\n",
       "    }\n",
       "\n",
       "    .dataframe tbody tr th {\n",
       "        vertical-align: top;\n",
       "    }\n",
       "</style>\n",
       "<table border=\"1\" class=\"dataframe\">\n",
       "  <thead>\n",
       "    <tr style=\"text-align: right;\">\n",
       "      <th></th>\n",
       "      <th>b</th>\n",
       "      <th>c</th>\n",
       "    </tr>\n",
       "  </thead>\n",
       "  <tbody>\n",
       "    <tr>\n",
       "      <th>2</th>\n",
       "      <td>foo</td>\n",
       "      <td>1.906585</td>\n",
       "    </tr>\n",
       "    <tr>\n",
       "      <th>3</th>\n",
       "      <td>bar</td>\n",
       "      <td>-1.576026</td>\n",
       "    </tr>\n",
       "    <tr>\n",
       "      <th>4</th>\n",
       "      <td>foo</td>\n",
       "      <td>-0.572915</td>\n",
       "    </tr>\n",
       "  </tbody>\n",
       "</table>\n",
       "</div>"
      ],
      "text/plain": [
       "     b         c\n",
       "2  foo  1.906585\n",
       "3  bar -1.576026\n",
       "4  foo -0.572915"
      ]
     },
     "execution_count": 179,
     "metadata": {},
     "output_type": "execute_result"
    }
   ],
   "source": [
    "df.loc[2:4,'b':'c']"
   ]
  },
  {
   "cell_type": "code",
   "execution_count": 180,
   "metadata": {},
   "outputs": [
    {
     "data": {
      "text/html": [
       "<div>\n",
       "<style>\n",
       "    .dataframe thead tr:only-child th {\n",
       "        text-align: right;\n",
       "    }\n",
       "\n",
       "    .dataframe thead th {\n",
       "        text-align: left;\n",
       "    }\n",
       "\n",
       "    .dataframe tbody tr th {\n",
       "        vertical-align: top;\n",
       "    }\n",
       "</style>\n",
       "<table border=\"1\" class=\"dataframe\">\n",
       "  <thead>\n",
       "    <tr style=\"text-align: right;\">\n",
       "      <th></th>\n",
       "      <th>a</th>\n",
       "      <th>b</th>\n",
       "      <th>c</th>\n",
       "      <th>d</th>\n",
       "    </tr>\n",
       "  </thead>\n",
       "  <tbody>\n",
       "    <tr>\n",
       "      <th>3</th>\n",
       "      <td>-0.769405</td>\n",
       "      <td>bar</td>\n",
       "      <td>-1.576026</td>\n",
       "      <td>0.774393</td>\n",
       "    </tr>\n",
       "    <tr>\n",
       "      <th>4</th>\n",
       "      <td>-0.111407</td>\n",
       "      <td>foo</td>\n",
       "      <td>-0.572915</td>\n",
       "      <td>0.467948</td>\n",
       "    </tr>\n",
       "    <tr>\n",
       "      <th>5</th>\n",
       "      <td>-1.114185</td>\n",
       "      <td>bar</td>\n",
       "      <td>-0.294098</td>\n",
       "      <td>-1.098931</td>\n",
       "    </tr>\n",
       "  </tbody>\n",
       "</table>\n",
       "</div>"
      ],
      "text/plain": [
       "          a    b         c         d\n",
       "3 -0.769405  bar -1.576026  0.774393\n",
       "4 -0.111407  foo -0.572915  0.467948\n",
       "5 -1.114185  bar -0.294098 -1.098931"
      ]
     },
     "execution_count": 180,
     "metadata": {},
     "output_type": "execute_result"
    }
   ],
   "source": [
    "df[df['c']<0]"
   ]
  },
  {
   "cell_type": "code",
   "execution_count": 181,
   "metadata": {
    "collapsed": true
   },
   "outputs": [],
   "source": [
    "df=DataFrame({'a':np.random.randn(6),'b':['foo','bar']*3,'c':np.random.randn(6)},index=pd.date_range('1/1/2000',periods=6))"
   ]
  },
  {
   "cell_type": "code",
   "execution_count": 182,
   "metadata": {},
   "outputs": [
    {
     "data": {
      "text/html": [
       "<div>\n",
       "<style>\n",
       "    .dataframe thead tr:only-child th {\n",
       "        text-align: right;\n",
       "    }\n",
       "\n",
       "    .dataframe thead th {\n",
       "        text-align: left;\n",
       "    }\n",
       "\n",
       "    .dataframe tbody tr th {\n",
       "        vertical-align: top;\n",
       "    }\n",
       "</style>\n",
       "<table border=\"1\" class=\"dataframe\">\n",
       "  <thead>\n",
       "    <tr style=\"text-align: right;\">\n",
       "      <th></th>\n",
       "      <th>a</th>\n",
       "      <th>b</th>\n",
       "      <th>c</th>\n",
       "    </tr>\n",
       "  </thead>\n",
       "  <tbody>\n",
       "    <tr>\n",
       "      <th>2000-01-01</th>\n",
       "      <td>1.181006</td>\n",
       "      <td>foo</td>\n",
       "      <td>-2.419573</td>\n",
       "    </tr>\n",
       "    <tr>\n",
       "      <th>2000-01-02</th>\n",
       "      <td>0.396552</td>\n",
       "      <td>bar</td>\n",
       "      <td>0.355277</td>\n",
       "    </tr>\n",
       "    <tr>\n",
       "      <th>2000-01-03</th>\n",
       "      <td>2.472842</td>\n",
       "      <td>foo</td>\n",
       "      <td>-1.834912</td>\n",
       "    </tr>\n",
       "    <tr>\n",
       "      <th>2000-01-04</th>\n",
       "      <td>0.877090</td>\n",
       "      <td>bar</td>\n",
       "      <td>0.390691</td>\n",
       "    </tr>\n",
       "    <tr>\n",
       "      <th>2000-01-05</th>\n",
       "      <td>1.158332</td>\n",
       "      <td>foo</td>\n",
       "      <td>-2.591904</td>\n",
       "    </tr>\n",
       "    <tr>\n",
       "      <th>2000-01-06</th>\n",
       "      <td>-1.016652</td>\n",
       "      <td>bar</td>\n",
       "      <td>0.218276</td>\n",
       "    </tr>\n",
       "  </tbody>\n",
       "</table>\n",
       "</div>"
      ],
      "text/plain": [
       "                   a    b         c\n",
       "2000-01-01  1.181006  foo -2.419573\n",
       "2000-01-02  0.396552  bar  0.355277\n",
       "2000-01-03  2.472842  foo -1.834912\n",
       "2000-01-04  0.877090  bar  0.390691\n",
       "2000-01-05  1.158332  foo -2.591904\n",
       "2000-01-06 -1.016652  bar  0.218276"
      ]
     },
     "execution_count": 182,
     "metadata": {},
     "output_type": "execute_result"
    }
   ],
   "source": [
    "df"
   ]
  },
  {
   "cell_type": "code",
   "execution_count": 183,
   "metadata": {
    "collapsed": true
   },
   "outputs": [],
   "source": [
    "df=DataFrame({'a':np.random.randn(6),\n",
    "             'b':['fo','bar']*3,\n",
    "             'c':np.random.randn(6)},\n",
    "            columns=['a','b','c','d',])"
   ]
  },
  {
   "cell_type": "code",
   "execution_count": 184,
   "metadata": {},
   "outputs": [
    {
     "data": {
      "text/html": [
       "<div>\n",
       "<style>\n",
       "    .dataframe thead tr:only-child th {\n",
       "        text-align: right;\n",
       "    }\n",
       "\n",
       "    .dataframe thead th {\n",
       "        text-align: left;\n",
       "    }\n",
       "\n",
       "    .dataframe tbody tr th {\n",
       "        vertical-align: top;\n",
       "    }\n",
       "</style>\n",
       "<table border=\"1\" class=\"dataframe\">\n",
       "  <thead>\n",
       "    <tr style=\"text-align: right;\">\n",
       "      <th></th>\n",
       "      <th>a</th>\n",
       "      <th>b</th>\n",
       "      <th>c</th>\n",
       "      <th>d</th>\n",
       "    </tr>\n",
       "  </thead>\n",
       "  <tbody>\n",
       "    <tr>\n",
       "      <th>0</th>\n",
       "      <td>-0.979298</td>\n",
       "      <td>fo</td>\n",
       "      <td>1.093674</td>\n",
       "      <td>NaN</td>\n",
       "    </tr>\n",
       "    <tr>\n",
       "      <th>1</th>\n",
       "      <td>-0.980510</td>\n",
       "      <td>bar</td>\n",
       "      <td>1.063055</td>\n",
       "      <td>NaN</td>\n",
       "    </tr>\n",
       "    <tr>\n",
       "      <th>2</th>\n",
       "      <td>0.859419</td>\n",
       "      <td>fo</td>\n",
       "      <td>-0.035013</td>\n",
       "      <td>NaN</td>\n",
       "    </tr>\n",
       "    <tr>\n",
       "      <th>3</th>\n",
       "      <td>-1.527002</td>\n",
       "      <td>bar</td>\n",
       "      <td>-0.697996</td>\n",
       "      <td>NaN</td>\n",
       "    </tr>\n",
       "    <tr>\n",
       "      <th>4</th>\n",
       "      <td>-0.612911</td>\n",
       "      <td>fo</td>\n",
       "      <td>-0.572588</td>\n",
       "      <td>NaN</td>\n",
       "    </tr>\n",
       "    <tr>\n",
       "      <th>5</th>\n",
       "      <td>-0.366828</td>\n",
       "      <td>bar</td>\n",
       "      <td>1.297662</td>\n",
       "      <td>NaN</td>\n",
       "    </tr>\n",
       "  </tbody>\n",
       "</table>\n",
       "</div>"
      ],
      "text/plain": [
       "          a    b         c    d\n",
       "0 -0.979298   fo  1.093674  NaN\n",
       "1 -0.980510  bar  1.063055  NaN\n",
       "2  0.859419   fo -0.035013  NaN\n",
       "3 -1.527002  bar -0.697996  NaN\n",
       "4 -0.612911   fo -0.572588  NaN\n",
       "5 -0.366828  bar  1.297662  NaN"
      ]
     },
     "execution_count": 184,
     "metadata": {},
     "output_type": "execute_result"
    }
   ],
   "source": [
    "df"
   ]
  },
  {
   "cell_type": "markdown",
   "metadata": {},
   "source": [
    "# creation from nested dict"
   ]
  },
  {
   "cell_type": "code",
   "execution_count": 185,
   "metadata": {
    "collapsed": true
   },
   "outputs": [],
   "source": [
    "data={}\n",
    "for col in ['foo','bar','baz']:\n",
    "    for row in ['a','b','c','d']:\n",
    "        data.setdefault(col,{})[row]=random.randn()"
   ]
  },
  {
   "cell_type": "code",
   "execution_count": 186,
   "metadata": {},
   "outputs": [
    {
     "data": {
      "text/plain": [
       "{'bar': {'a': -0.3399453812989266,\n",
       "  'b': -0.16301119875319636,\n",
       "  'c': 0.03538871498447167,\n",
       "  'd': -0.6247022353203159},\n",
       " 'baz': {'a': 0.2612028883494694,\n",
       "  'b': 1.01650388711918,\n",
       "  'c': -1.1367010999194676,\n",
       "  'd': 0.6350522002805955},\n",
       " 'foo': {'a': -0.8529411551231244,\n",
       "  'b': 1.7233263327649146,\n",
       "  'c': 0.7407344019878712,\n",
       "  'd': -0.04045044322435257}}"
      ]
     },
     "execution_count": 186,
     "metadata": {},
     "output_type": "execute_result"
    }
   ],
   "source": [
    "data"
   ]
  },
  {
   "cell_type": "code",
   "execution_count": 187,
   "metadata": {},
   "outputs": [
    {
     "data": {
      "text/html": [
       "<div>\n",
       "<style>\n",
       "    .dataframe thead tr:only-child th {\n",
       "        text-align: right;\n",
       "    }\n",
       "\n",
       "    .dataframe thead th {\n",
       "        text-align: left;\n",
       "    }\n",
       "\n",
       "    .dataframe tbody tr th {\n",
       "        vertical-align: top;\n",
       "    }\n",
       "</style>\n",
       "<table border=\"1\" class=\"dataframe\">\n",
       "  <thead>\n",
       "    <tr style=\"text-align: right;\">\n",
       "      <th></th>\n",
       "      <th>bar</th>\n",
       "      <th>baz</th>\n",
       "      <th>foo</th>\n",
       "    </tr>\n",
       "  </thead>\n",
       "  <tbody>\n",
       "    <tr>\n",
       "      <th>a</th>\n",
       "      <td>-0.339945</td>\n",
       "      <td>0.261203</td>\n",
       "      <td>-0.852941</td>\n",
       "    </tr>\n",
       "    <tr>\n",
       "      <th>b</th>\n",
       "      <td>-0.163011</td>\n",
       "      <td>1.016504</td>\n",
       "      <td>1.723326</td>\n",
       "    </tr>\n",
       "    <tr>\n",
       "      <th>c</th>\n",
       "      <td>0.035389</td>\n",
       "      <td>-1.136701</td>\n",
       "      <td>0.740734</td>\n",
       "    </tr>\n",
       "    <tr>\n",
       "      <th>d</th>\n",
       "      <td>-0.624702</td>\n",
       "      <td>0.635052</td>\n",
       "      <td>-0.040450</td>\n",
       "    </tr>\n",
       "  </tbody>\n",
       "</table>\n",
       "</div>"
      ],
      "text/plain": [
       "        bar       baz       foo\n",
       "a -0.339945  0.261203 -0.852941\n",
       "b -0.163011  1.016504  1.723326\n",
       "c  0.035389 -1.136701  0.740734\n",
       "d -0.624702  0.635052 -0.040450"
      ]
     },
     "execution_count": 187,
     "metadata": {},
     "output_type": "execute_result"
    }
   ],
   "source": [
    "DataFrame(data)"
   ]
  },
  {
   "cell_type": "code",
   "execution_count": 188,
   "metadata": {
    "collapsed": true
   },
   "outputs": [],
   "source": [
    "del data['foo']['c']"
   ]
  },
  {
   "cell_type": "code",
   "execution_count": 189,
   "metadata": {},
   "outputs": [
    {
     "data": {
      "text/html": [
       "<div>\n",
       "<style>\n",
       "    .dataframe thead tr:only-child th {\n",
       "        text-align: right;\n",
       "    }\n",
       "\n",
       "    .dataframe thead th {\n",
       "        text-align: left;\n",
       "    }\n",
       "\n",
       "    .dataframe tbody tr th {\n",
       "        vertical-align: top;\n",
       "    }\n",
       "</style>\n",
       "<table border=\"1\" class=\"dataframe\">\n",
       "  <thead>\n",
       "    <tr style=\"text-align: right;\">\n",
       "      <th></th>\n",
       "      <th>bar</th>\n",
       "      <th>baz</th>\n",
       "      <th>foo</th>\n",
       "    </tr>\n",
       "  </thead>\n",
       "  <tbody>\n",
       "    <tr>\n",
       "      <th>a</th>\n",
       "      <td>-0.339945</td>\n",
       "      <td>0.261203</td>\n",
       "      <td>-0.852941</td>\n",
       "    </tr>\n",
       "    <tr>\n",
       "      <th>b</th>\n",
       "      <td>-0.163011</td>\n",
       "      <td>1.016504</td>\n",
       "      <td>1.723326</td>\n",
       "    </tr>\n",
       "    <tr>\n",
       "      <th>c</th>\n",
       "      <td>0.035389</td>\n",
       "      <td>-1.136701</td>\n",
       "      <td>NaN</td>\n",
       "    </tr>\n",
       "    <tr>\n",
       "      <th>d</th>\n",
       "      <td>-0.624702</td>\n",
       "      <td>0.635052</td>\n",
       "      <td>-0.040450</td>\n",
       "    </tr>\n",
       "  </tbody>\n",
       "</table>\n",
       "</div>"
      ],
      "text/plain": [
       "        bar       baz       foo\n",
       "a -0.339945  0.261203 -0.852941\n",
       "b -0.163011  1.016504  1.723326\n",
       "c  0.035389 -1.136701       NaN\n",
       "d -0.624702  0.635052 -0.040450"
      ]
     },
     "execution_count": 189,
     "metadata": {},
     "output_type": "execute_result"
    }
   ],
   "source": [
    "DataFrame(data)"
   ]
  },
  {
   "cell_type": "markdown",
   "metadata": {},
   "source": [
    "# Data Alignment"
   ]
  },
  {
   "cell_type": "code",
   "execution_count": 190,
   "metadata": {
    "collapsed": true
   },
   "outputs": [],
   "source": [
    "close_px=read_csv(r'C:\\Users\\abhij\\Desktop\\pandas-exercises-master\\stock_data.csv',index_col=0,parse_dates=True)"
   ]
  },
  {
   "cell_type": "code",
   "execution_count": 191,
   "metadata": {},
   "outputs": [
    {
     "data": {
      "text/html": [
       "<div>\n",
       "<style>\n",
       "    .dataframe thead tr:only-child th {\n",
       "        text-align: right;\n",
       "    }\n",
       "\n",
       "    .dataframe thead th {\n",
       "        text-align: left;\n",
       "    }\n",
       "\n",
       "    .dataframe tbody tr th {\n",
       "        vertical-align: top;\n",
       "    }\n",
       "</style>\n",
       "<table border=\"1\" class=\"dataframe\">\n",
       "  <thead>\n",
       "    <tr style=\"text-align: right;\">\n",
       "      <th></th>\n",
       "      <th>AA</th>\n",
       "      <th>AAPL</th>\n",
       "      <th>GE</th>\n",
       "      <th>IBM</th>\n",
       "      <th>JNJ</th>\n",
       "      <th>MSFT</th>\n",
       "      <th>PEP</th>\n",
       "      <th>SPX</th>\n",
       "      <th>XOM</th>\n",
       "    </tr>\n",
       "  </thead>\n",
       "  <tbody>\n",
       "    <tr>\n",
       "      <th>2007-10-29</th>\n",
       "      <td>37.41</td>\n",
       "      <td>185.09</td>\n",
       "      <td>34.46</td>\n",
       "      <td>106.78</td>\n",
       "      <td>57.13</td>\n",
       "      <td>31.78</td>\n",
       "      <td>65.67</td>\n",
       "      <td>1540.98</td>\n",
       "      <td>85.51</td>\n",
       "    </tr>\n",
       "    <tr>\n",
       "      <th>2007-10-30</th>\n",
       "      <td>36.43</td>\n",
       "      <td>187.00</td>\n",
       "      <td>34.39</td>\n",
       "      <td>106.15</td>\n",
       "      <td>56.99</td>\n",
       "      <td>32.70</td>\n",
       "      <td>65.80</td>\n",
       "      <td>1531.02</td>\n",
       "      <td>83.25</td>\n",
       "    </tr>\n",
       "    <tr>\n",
       "      <th>2007-10-31</th>\n",
       "      <td>36.79</td>\n",
       "      <td>189.95</td>\n",
       "      <td>34.97</td>\n",
       "      <td>108.01</td>\n",
       "      <td>57.30</td>\n",
       "      <td>33.84</td>\n",
       "      <td>65.69</td>\n",
       "      <td>1549.38</td>\n",
       "      <td>84.03</td>\n",
       "    </tr>\n",
       "    <tr>\n",
       "      <th>2007-11-01</th>\n",
       "      <td>35.22</td>\n",
       "      <td>187.44</td>\n",
       "      <td>34.27</td>\n",
       "      <td>105.72</td>\n",
       "      <td>56.85</td>\n",
       "      <td>34.07</td>\n",
       "      <td>64.51</td>\n",
       "      <td>1508.44</td>\n",
       "      <td>80.84</td>\n",
       "    </tr>\n",
       "    <tr>\n",
       "      <th>2007-11-02</th>\n",
       "      <td>35.83</td>\n",
       "      <td>187.87</td>\n",
       "      <td>34.27</td>\n",
       "      <td>106.59</td>\n",
       "      <td>56.95</td>\n",
       "      <td>34.07</td>\n",
       "      <td>65.03</td>\n",
       "      <td>1509.65</td>\n",
       "      <td>80.32</td>\n",
       "    </tr>\n",
       "  </tbody>\n",
       "</table>\n",
       "</div>"
      ],
      "text/plain": [
       "               AA    AAPL     GE     IBM    JNJ   MSFT    PEP      SPX    XOM\n",
       "2007-10-29  37.41  185.09  34.46  106.78  57.13  31.78  65.67  1540.98  85.51\n",
       "2007-10-30  36.43  187.00  34.39  106.15  56.99  32.70  65.80  1531.02  83.25\n",
       "2007-10-31  36.79  189.95  34.97  108.01  57.30  33.84  65.69  1549.38  84.03\n",
       "2007-11-01  35.22  187.44  34.27  105.72  56.85  34.07  64.51  1508.44  80.84\n",
       "2007-11-02  35.83  187.87  34.27  106.59  56.95  34.07  65.03  1509.65  80.32"
      ]
     },
     "execution_count": 191,
     "metadata": {},
     "output_type": "execute_result"
    }
   ],
   "source": [
    "close_px.head()"
   ]
  },
  {
   "cell_type": "code",
   "execution_count": 192,
   "metadata": {},
   "outputs": [
    {
     "name": "stdout",
     "output_type": "stream",
     "text": [
      "411.63    2011-09-12    379.94      \n",
      "          2011-09-13    384.62      \n",
      "          2011-09-14    389.30      \n",
      "          2011-09-15    392.96      \n",
      "          2011-09-16    400.50      \n",
      "          2011-09-19    411.63      \n",
      "          2011-09-20    413.45      \n",
      "          2011-09-21    412.14      \n",
      "          2011-09-22    401.82      \n",
      "          2011-09-23    404.30      \n",
      "          2011-09-26    403.17      \n",
      "          2011-09-27    399.26      \n",
      "          2011-09-28    397.01      \n",
      "          2011-09-29    390.57      \n",
      "          2011-09-30    381.32      \n",
      "          Name: AAPL, dtype: float64\n"
     ]
    }
   ],
   "source": [
    "s1=close_px['AAPL'][-20]\n",
    "s2=close_px['AAPL'][-25:-10]\n",
    "side_by_side(s1,s2)"
   ]
  },
  {
   "cell_type": "code",
   "execution_count": 193,
   "metadata": {},
   "outputs": [
    {
     "data": {
      "text/plain": [
       "2011-09-12    791.57\n",
       "2011-09-13    796.25\n",
       "2011-09-14    800.93\n",
       "2011-09-15    804.59\n",
       "2011-09-16    812.13\n",
       "2011-09-19    823.26\n",
       "2011-09-20    825.08\n",
       "2011-09-21    823.77\n",
       "2011-09-22    813.45\n",
       "2011-09-23    815.93\n",
       "2011-09-26    814.80\n",
       "2011-09-27    810.89\n",
       "2011-09-28    808.64\n",
       "2011-09-29    802.20\n",
       "2011-09-30    792.95\n",
       "Name: AAPL, dtype: float64"
      ]
     },
     "execution_count": 193,
     "metadata": {},
     "output_type": "execute_result"
    }
   ],
   "source": [
    "s1+s2"
   ]
  },
  {
   "cell_type": "code",
   "execution_count": 194,
   "metadata": {
    "collapsed": true
   },
   "outputs": [],
   "source": [
    "df=close_px.iloc[-10:,:3]"
   ]
  },
  {
   "cell_type": "code",
   "execution_count": 195,
   "metadata": {},
   "outputs": [
    {
     "data": {
      "text/html": [
       "<div>\n",
       "<style>\n",
       "    .dataframe thead tr:only-child th {\n",
       "        text-align: right;\n",
       "    }\n",
       "\n",
       "    .dataframe thead th {\n",
       "        text-align: left;\n",
       "    }\n",
       "\n",
       "    .dataframe tbody tr th {\n",
       "        vertical-align: top;\n",
       "    }\n",
       "</style>\n",
       "<table border=\"1\" class=\"dataframe\">\n",
       "  <thead>\n",
       "    <tr style=\"text-align: right;\">\n",
       "      <th></th>\n",
       "      <th>AA</th>\n",
       "      <th>AAPL</th>\n",
       "      <th>GE</th>\n",
       "    </tr>\n",
       "  </thead>\n",
       "  <tbody>\n",
       "    <tr>\n",
       "      <th>2011-10-03</th>\n",
       "      <td>8.90</td>\n",
       "      <td>374.60</td>\n",
       "      <td>14.69</td>\n",
       "    </tr>\n",
       "    <tr>\n",
       "      <th>2011-10-04</th>\n",
       "      <td>9.12</td>\n",
       "      <td>372.50</td>\n",
       "      <td>14.86</td>\n",
       "    </tr>\n",
       "    <tr>\n",
       "      <th>2011-10-05</th>\n",
       "      <td>9.37</td>\n",
       "      <td>378.25</td>\n",
       "      <td>15.27</td>\n",
       "    </tr>\n",
       "    <tr>\n",
       "      <th>2011-10-06</th>\n",
       "      <td>9.88</td>\n",
       "      <td>377.37</td>\n",
       "      <td>15.53</td>\n",
       "    </tr>\n",
       "    <tr>\n",
       "      <th>2011-10-07</th>\n",
       "      <td>9.71</td>\n",
       "      <td>369.80</td>\n",
       "      <td>15.50</td>\n",
       "    </tr>\n",
       "  </tbody>\n",
       "</table>\n",
       "</div>"
      ],
      "text/plain": [
       "              AA    AAPL     GE\n",
       "2011-10-03  8.90  374.60  14.69\n",
       "2011-10-04  9.12  372.50  14.86\n",
       "2011-10-05  9.37  378.25  15.27\n",
       "2011-10-06  9.88  377.37  15.53\n",
       "2011-10-07  9.71  369.80  15.50"
      ]
     },
     "execution_count": 195,
     "metadata": {},
     "output_type": "execute_result"
    }
   ],
   "source": [
    "df.head()"
   ]
  },
  {
   "cell_type": "code",
   "execution_count": 196,
   "metadata": {},
   "outputs": [
    {
     "ename": "AttributeError",
     "evalue": "'numpy.float64' object has no attribute 'align'",
     "output_type": "error",
     "traceback": [
      "\u001b[1;31m---------------------------------------------------------------------------\u001b[0m",
      "\u001b[1;31mAttributeError\u001b[0m                            Traceback (most recent call last)",
      "\u001b[1;32m<ipython-input-196-8b0eaa664acb>\u001b[0m in \u001b[0;36m<module>\u001b[1;34m()\u001b[0m\n\u001b[1;32m----> 1\u001b[1;33m \u001b[0mb\u001b[0m\u001b[1;33m,\u001b[0m \u001b[0mc\u001b[0m  \u001b[1;33m=\u001b[0m \u001b[0ms1\u001b[0m\u001b[1;33m.\u001b[0m\u001b[0malign\u001b[0m\u001b[1;33m(\u001b[0m\u001b[0ms2\u001b[0m\u001b[1;33m,\u001b[0m \u001b[0mjoin\u001b[0m\u001b[1;33m=\u001b[0m\u001b[1;34m'inner'\u001b[0m\u001b[1;33m)\u001b[0m\u001b[1;33m\u001b[0m\u001b[0m\n\u001b[0m\u001b[0;32m      2\u001b[0m \u001b[0mside_by_side\u001b[0m\u001b[1;33m(\u001b[0m\u001b[0mb\u001b[0m\u001b[1;33m,\u001b[0m \u001b[0mc\u001b[0m\u001b[1;33m)\u001b[0m\u001b[1;33m\u001b[0m\u001b[0m\n",
      "\u001b[1;31mAttributeError\u001b[0m: 'numpy.float64' object has no attribute 'align'"
     ]
    }
   ],
   "source": [
    "b, c  = s1.align(s2, join='inner')\n",
    "side_by_side(b, c)"
   ]
  },
  {
   "cell_type": "code",
   "execution_count": 197,
   "metadata": {},
   "outputs": [
    {
     "ename": "AttributeError",
     "evalue": "'numpy.float64' object has no attribute 'align'",
     "output_type": "error",
     "traceback": [
      "\u001b[1;31m---------------------------------------------------------------------------\u001b[0m",
      "\u001b[1;31mAttributeError\u001b[0m                            Traceback (most recent call last)",
      "\u001b[1;32m<ipython-input-197-5850b9beabe6>\u001b[0m in \u001b[0;36m<module>\u001b[1;34m()\u001b[0m\n\u001b[1;32m----> 1\u001b[1;33m \u001b[0mb\u001b[0m\u001b[1;33m,\u001b[0m \u001b[0mc\u001b[0m  \u001b[1;33m=\u001b[0m \u001b[0ms1\u001b[0m\u001b[1;33m.\u001b[0m\u001b[0malign\u001b[0m\u001b[1;33m(\u001b[0m\u001b[0ms2\u001b[0m\u001b[1;33m,\u001b[0m \u001b[0mjoin\u001b[0m\u001b[1;33m=\u001b[0m\u001b[1;34m'outer'\u001b[0m\u001b[1;33m)\u001b[0m\u001b[1;33m\u001b[0m\u001b[0m\n\u001b[0m\u001b[0;32m      2\u001b[0m \u001b[0mside_by_side\u001b[0m\u001b[1;33m(\u001b[0m\u001b[0mb\u001b[0m\u001b[1;33m,\u001b[0m \u001b[0mc\u001b[0m\u001b[1;33m)\u001b[0m\u001b[1;33m\u001b[0m\u001b[0m\n",
      "\u001b[1;31mAttributeError\u001b[0m: 'numpy.float64' object has no attribute 'align'"
     ]
    }
   ],
   "source": [
    "b, c  = s1.align(s2, join='outer')\n",
    "side_by_side(b, c)"
   ]
  },
  {
   "cell_type": "code",
   "execution_count": 198,
   "metadata": {},
   "outputs": [
    {
     "ename": "AttributeError",
     "evalue": "'numpy.float64' object has no attribute 'align'",
     "output_type": "error",
     "traceback": [
      "\u001b[1;31m---------------------------------------------------------------------------\u001b[0m",
      "\u001b[1;31mAttributeError\u001b[0m                            Traceback (most recent call last)",
      "\u001b[1;32m<ipython-input-198-8d61a40c54c5>\u001b[0m in \u001b[0;36m<module>\u001b[1;34m()\u001b[0m\n\u001b[1;32m----> 1\u001b[1;33m \u001b[0mb\u001b[0m\u001b[1;33m,\u001b[0m \u001b[0mc\u001b[0m  \u001b[1;33m=\u001b[0m \u001b[0ms1\u001b[0m\u001b[1;33m.\u001b[0m\u001b[0malign\u001b[0m\u001b[1;33m(\u001b[0m\u001b[0ms2\u001b[0m\u001b[1;33m,\u001b[0m \u001b[0mjoin\u001b[0m\u001b[1;33m=\u001b[0m\u001b[1;34m'right'\u001b[0m\u001b[1;33m)\u001b[0m\u001b[1;33m\u001b[0m\u001b[0m\n\u001b[0m\u001b[0;32m      2\u001b[0m \u001b[0mside_by_side\u001b[0m\u001b[1;33m(\u001b[0m\u001b[0mb\u001b[0m\u001b[1;33m,\u001b[0m \u001b[0mc\u001b[0m\u001b[1;33m)\u001b[0m\u001b[1;33m\u001b[0m\u001b[0m\n",
      "\u001b[1;31mAttributeError\u001b[0m: 'numpy.float64' object has no attribute 'align'"
     ]
    }
   ],
   "source": [
    "b, c  = s1.align(s2, join='right')\n",
    "side_by_side(b, c)"
   ]
  },
  {
   "cell_type": "code",
   "execution_count": 199,
   "metadata": {},
   "outputs": [
    {
     "name": "stderr",
     "output_type": "stream",
     "text": [
      "C:\\Users\\abhij\\Anaconda2\\lib\\site-packages\\ipykernel_launcher.py:1: DeprecationWarning: \n",
      ".ix is deprecated. Please use\n",
      ".loc for label based indexing or\n",
      ".iloc for positional indexing\n",
      "\n",
      "See the documentation here:\n",
      "http://pandas.pydata.org/pandas-docs/stable/indexing.html#deprecate_ix\n",
      "  \"\"\"Entry point for launching an IPython kernel.\n"
     ]
    }
   ],
   "source": [
    "df1=close_px.ix[-10:,['AAPL','IBM','MSFT']]"
   ]
  },
  {
   "cell_type": "code",
   "execution_count": 200,
   "metadata": {},
   "outputs": [
    {
     "data": {
      "text/html": [
       "<div>\n",
       "<style>\n",
       "    .dataframe thead tr:only-child th {\n",
       "        text-align: right;\n",
       "    }\n",
       "\n",
       "    .dataframe thead th {\n",
       "        text-align: left;\n",
       "    }\n",
       "\n",
       "    .dataframe tbody tr th {\n",
       "        vertical-align: top;\n",
       "    }\n",
       "</style>\n",
       "<table border=\"1\" class=\"dataframe\">\n",
       "  <thead>\n",
       "    <tr style=\"text-align: right;\">\n",
       "      <th></th>\n",
       "      <th>AAPL</th>\n",
       "      <th>IBM</th>\n",
       "      <th>MSFT</th>\n",
       "    </tr>\n",
       "  </thead>\n",
       "  <tbody>\n",
       "    <tr>\n",
       "      <th>2011-10-03</th>\n",
       "      <td>374.60</td>\n",
       "      <td>173.29</td>\n",
       "      <td>24.53</td>\n",
       "    </tr>\n",
       "    <tr>\n",
       "      <th>2011-10-04</th>\n",
       "      <td>372.50</td>\n",
       "      <td>174.74</td>\n",
       "      <td>25.34</td>\n",
       "    </tr>\n",
       "    <tr>\n",
       "      <th>2011-10-05</th>\n",
       "      <td>378.25</td>\n",
       "      <td>176.85</td>\n",
       "      <td>25.89</td>\n",
       "    </tr>\n",
       "    <tr>\n",
       "      <th>2011-10-06</th>\n",
       "      <td>377.37</td>\n",
       "      <td>181.69</td>\n",
       "      <td>26.34</td>\n",
       "    </tr>\n",
       "    <tr>\n",
       "      <th>2011-10-07</th>\n",
       "      <td>369.80</td>\n",
       "      <td>182.39</td>\n",
       "      <td>26.25</td>\n",
       "    </tr>\n",
       "    <tr>\n",
       "      <th>2011-10-10</th>\n",
       "      <td>388.81</td>\n",
       "      <td>186.62</td>\n",
       "      <td>26.94</td>\n",
       "    </tr>\n",
       "    <tr>\n",
       "      <th>2011-10-11</th>\n",
       "      <td>400.29</td>\n",
       "      <td>185.00</td>\n",
       "      <td>27.00</td>\n",
       "    </tr>\n",
       "    <tr>\n",
       "      <th>2011-10-12</th>\n",
       "      <td>402.19</td>\n",
       "      <td>186.12</td>\n",
       "      <td>26.96</td>\n",
       "    </tr>\n",
       "    <tr>\n",
       "      <th>2011-10-13</th>\n",
       "      <td>408.43</td>\n",
       "      <td>186.82</td>\n",
       "      <td>27.18</td>\n",
       "    </tr>\n",
       "    <tr>\n",
       "      <th>2011-10-14</th>\n",
       "      <td>422.00</td>\n",
       "      <td>190.53</td>\n",
       "      <td>27.27</td>\n",
       "    </tr>\n",
       "  </tbody>\n",
       "</table>\n",
       "</div>"
      ],
      "text/plain": [
       "              AAPL     IBM   MSFT\n",
       "2011-10-03  374.60  173.29  24.53\n",
       "2011-10-04  372.50  174.74  25.34\n",
       "2011-10-05  378.25  176.85  25.89\n",
       "2011-10-06  377.37  181.69  26.34\n",
       "2011-10-07  369.80  182.39  26.25\n",
       "2011-10-10  388.81  186.62  26.94\n",
       "2011-10-11  400.29  185.00  27.00\n",
       "2011-10-12  402.19  186.12  26.96\n",
       "2011-10-13  408.43  186.82  27.18\n",
       "2011-10-14  422.00  190.53  27.27"
      ]
     },
     "execution_count": 200,
     "metadata": {},
     "output_type": "execute_result"
    }
   ],
   "source": [
    "df1"
   ]
  },
  {
   "cell_type": "code",
   "execution_count": 201,
   "metadata": {
    "collapsed": true
   },
   "outputs": [],
   "source": [
    "df2=close_px.ix[::2,['IBM','MSFT']]"
   ]
  },
  {
   "cell_type": "code",
   "execution_count": 202,
   "metadata": {},
   "outputs": [
    {
     "name": "stdout",
     "output_type": "stream",
     "text": [
      "              AAPL     IBM   MSFT                   IBM   MSFT\n",
      "2011-10-03  374.60  173.29  24.53    2007-10-29  106.78  31.78\n",
      "2011-10-04  372.50  174.74  25.34    2007-10-31  108.01  33.84\n",
      "2011-10-05  378.25  176.85  25.89    2007-11-02  106.59  34.07\n",
      "2011-10-06  377.37  181.69  26.34    2007-11-06  105.27  33.47\n",
      "2011-10-07  369.80  182.39  26.25    2007-11-08   99.05  31.94\n",
      "2011-10-10  388.81  186.62  26.94    2007-11-12   94.70  30.69\n",
      "2011-10-11  400.29  185.00  27.00    2007-11-14   96.56  31.30\n",
      "2011-10-12  402.19  186.12  26.96    2007-11-16   97.82  31.44\n",
      "2011-10-13  408.43  186.82  27.18    2007-11-20   96.54  31.90\n",
      "2011-10-14  422.00  190.53  27.27    2007-11-23   97.13  31.46\n",
      "                                     2007-11-27   96.92  30.49\n",
      "                                     2007-11-29  100.35  30.98\n",
      "                                     2007-12-03   98.79  30.36\n",
      "                                     2007-12-05  100.97  31.50\n",
      "                                     2007-12-07  101.62  31.85\n",
      "                                     2007-12-11   99.87  31.45\n",
      "                                     2007-12-13  100.98  32.49\n",
      "                                     2007-12-17   97.58  31.72\n",
      "                                     2007-12-19  100.01  32.09\n",
      "                                     2007-12-21  103.66  33.26\n",
      "                                     2007-12-26  104.14  33.77\n",
      "                                     2007-12-28  102.77  33.32\n",
      "                                     2008-01-02   97.73  32.49\n",
      "                                     2008-01-04   94.40  31.71\n",
      "                                     2008-01-08   91.10  30.85\n",
      "                                     2008-01-10   93.27  31.67\n",
      "                                     2008-01-14   96.08  31.72\n",
      "                                     2008-01-16   94.87  30.65\n",
      "                                     2008-01-18   96.52  30.45\n",
      "                                     2008-01-23   99.04  29.45\n",
      "                                     ...            ...    ...\n",
      "                                     2011-07-22  184.38  27.36\n",
      "                                     2011-07-26  182.14  27.90\n",
      "                                     2011-07-28  181.01  27.55\n",
      "                                     2011-08-01  179.97  27.10\n",
      "                                     2011-08-03  178.05  26.75\n",
      "                                     2011-08-05  172.23  25.52\n",
      "                                     2011-08-09  170.61  25.42\n",
      "                                     2011-08-11  166.73  25.03\n",
      "                                     2011-08-15  172.99  25.35\n",
      "                                     2011-08-17  171.48  25.25\n",
      "                                     2011-08-19  157.54  24.05\n",
      "                                     2011-08-23  164.32  24.72\n",
      "                                     2011-08-25  165.58  24.57\n",
      "                                     2011-08-29  172.62  25.84\n",
      "                                     2011-08-31  171.91  26.60\n",
      "                                     2011-09-02  166.98  25.80\n",
      "                                     2011-09-07  167.31  26.00\n",
      "                                     2011-09-09  161.37  25.74\n",
      "                                     2011-09-13  163.43  26.04\n",
      "                                     2011-09-15  170.09  26.99\n",
      "                                     2011-09-19  173.13  27.21\n",
      "                                     2011-09-21  173.02  25.99\n",
      "                                     2011-09-23  169.34  25.06\n",
      "                                     2011-09-27  177.71  25.67\n",
      "                                     2011-09-29  179.17  25.45\n",
      "                                     2011-10-03  173.29  24.53\n",
      "                                     2011-10-05  176.85  25.89\n",
      "                                     2011-10-07  182.39  26.25\n",
      "                                     2011-10-11  185.00  27.00\n",
      "                                     2011-10-13  186.82  27.18\n",
      "                                                              \n",
      "                                     [500 rows x 2 columns]   \n"
     ]
    }
   ],
   "source": [
    "side_by_side(df1,df2)"
   ]
  },
  {
   "cell_type": "code",
   "execution_count": 203,
   "metadata": {
    "collapsed": true
   },
   "outputs": [],
   "source": [
    "df3=df1+df2"
   ]
  },
  {
   "cell_type": "code",
   "execution_count": 204,
   "metadata": {},
   "outputs": [
    {
     "name": "stdout",
     "output_type": "stream",
     "text": [
      "               IBM   MSFT                   IBM   MSFT\n",
      "2011-10-03  173.29  24.53    2011-10-03  173.29  24.53\n",
      "2011-10-05  176.85  25.89    2011-10-05  176.85  25.89\n",
      "2011-10-07  182.39  26.25    2011-10-07  182.39  26.25\n",
      "2011-10-11  185.00  27.00    2011-10-11  185.00  27.00\n",
      "2011-10-13  186.82  27.18    2011-10-13  186.82  27.18\n"
     ]
    }
   ],
   "source": [
    "b,c=df1.align(df2,join='inner')\n",
    "side_by_side(b,c)"
   ]
  },
  {
   "cell_type": "markdown",
   "metadata": {},
   "source": [
    "# Transposing:no copy if all columns are same type"
   ]
  },
  {
   "cell_type": "code",
   "execution_count": 205,
   "metadata": {
    "collapsed": true
   },
   "outputs": [],
   "source": [
    "df=close_px"
   ]
  },
  {
   "cell_type": "code",
   "execution_count": 206,
   "metadata": {},
   "outputs": [
    {
     "data": {
      "text/html": [
       "<div>\n",
       "<style>\n",
       "    .dataframe thead tr:only-child th {\n",
       "        text-align: right;\n",
       "    }\n",
       "\n",
       "    .dataframe thead th {\n",
       "        text-align: left;\n",
       "    }\n",
       "\n",
       "    .dataframe tbody tr th {\n",
       "        vertical-align: top;\n",
       "    }\n",
       "</style>\n",
       "<table border=\"1\" class=\"dataframe\">\n",
       "  <thead>\n",
       "    <tr style=\"text-align: right;\">\n",
       "      <th></th>\n",
       "      <th>2007-10-29 00:00:00</th>\n",
       "      <th>2007-10-30 00:00:00</th>\n",
       "      <th>2007-10-31 00:00:00</th>\n",
       "      <th>2007-11-01 00:00:00</th>\n",
       "      <th>2007-11-02 00:00:00</th>\n",
       "    </tr>\n",
       "  </thead>\n",
       "  <tbody>\n",
       "    <tr>\n",
       "      <th>AA</th>\n",
       "      <td>37.41</td>\n",
       "      <td>36.43</td>\n",
       "      <td>36.79</td>\n",
       "      <td>35.22</td>\n",
       "      <td>35.83</td>\n",
       "    </tr>\n",
       "    <tr>\n",
       "      <th>AAPL</th>\n",
       "      <td>185.09</td>\n",
       "      <td>187.00</td>\n",
       "      <td>189.95</td>\n",
       "      <td>187.44</td>\n",
       "      <td>187.87</td>\n",
       "    </tr>\n",
       "    <tr>\n",
       "      <th>GE</th>\n",
       "      <td>34.46</td>\n",
       "      <td>34.39</td>\n",
       "      <td>34.97</td>\n",
       "      <td>34.27</td>\n",
       "      <td>34.27</td>\n",
       "    </tr>\n",
       "    <tr>\n",
       "      <th>IBM</th>\n",
       "      <td>106.78</td>\n",
       "      <td>106.15</td>\n",
       "      <td>108.01</td>\n",
       "      <td>105.72</td>\n",
       "      <td>106.59</td>\n",
       "    </tr>\n",
       "    <tr>\n",
       "      <th>JNJ</th>\n",
       "      <td>57.13</td>\n",
       "      <td>56.99</td>\n",
       "      <td>57.30</td>\n",
       "      <td>56.85</td>\n",
       "      <td>56.95</td>\n",
       "    </tr>\n",
       "    <tr>\n",
       "      <th>MSFT</th>\n",
       "      <td>31.78</td>\n",
       "      <td>32.70</td>\n",
       "      <td>33.84</td>\n",
       "      <td>34.07</td>\n",
       "      <td>34.07</td>\n",
       "    </tr>\n",
       "    <tr>\n",
       "      <th>PEP</th>\n",
       "      <td>65.67</td>\n",
       "      <td>65.80</td>\n",
       "      <td>65.69</td>\n",
       "      <td>64.51</td>\n",
       "      <td>65.03</td>\n",
       "    </tr>\n",
       "    <tr>\n",
       "      <th>SPX</th>\n",
       "      <td>1540.98</td>\n",
       "      <td>1531.02</td>\n",
       "      <td>1549.38</td>\n",
       "      <td>1508.44</td>\n",
       "      <td>1509.65</td>\n",
       "    </tr>\n",
       "    <tr>\n",
       "      <th>XOM</th>\n",
       "      <td>85.51</td>\n",
       "      <td>83.25</td>\n",
       "      <td>84.03</td>\n",
       "      <td>80.84</td>\n",
       "      <td>80.32</td>\n",
       "    </tr>\n",
       "  </tbody>\n",
       "</table>\n",
       "</div>"
      ],
      "text/plain": [
       "      2007-10-29  2007-10-30  2007-10-31  2007-11-01  2007-11-02\n",
       "AA         37.41       36.43       36.79       35.22       35.83\n",
       "AAPL      185.09      187.00      189.95      187.44      187.87\n",
       "GE         34.46       34.39       34.97       34.27       34.27\n",
       "IBM       106.78      106.15      108.01      105.72      106.59\n",
       "JNJ        57.13       56.99       57.30       56.85       56.95\n",
       "MSFT       31.78       32.70       33.84       34.07       34.07\n",
       "PEP        65.67       65.80       65.69       64.51       65.03\n",
       "SPX      1540.98     1531.02     1549.38     1508.44     1509.65\n",
       "XOM        85.51       83.25       84.03       80.84       80.32"
      ]
     },
     "execution_count": 206,
     "metadata": {},
     "output_type": "execute_result"
    }
   ],
   "source": [
    "df[:5].T"
   ]
  },
  {
   "cell_type": "markdown",
   "metadata": {},
   "source": [
    "# Columns can be any type "
   ]
  },
  {
   "cell_type": "code",
   "execution_count": 207,
   "metadata": {
    "collapsed": true
   },
   "outputs": [],
   "source": [
    "n=10\n",
    "foo=DataFrame(index=range(n))\n",
    "foo['floats']=random.randn(n)\n",
    "foo['ints']=np.arange(n)\n",
    "foo['strings']=['foo','boo']*(n/2)\n",
    "foo['objects']=date_range('1/1/2000',periods=n)"
   ]
  },
  {
   "cell_type": "code",
   "execution_count": 208,
   "metadata": {},
   "outputs": [
    {
     "data": {
      "text/html": [
       "<div>\n",
       "<style>\n",
       "    .dataframe thead tr:only-child th {\n",
       "        text-align: right;\n",
       "    }\n",
       "\n",
       "    .dataframe thead th {\n",
       "        text-align: left;\n",
       "    }\n",
       "\n",
       "    .dataframe tbody tr th {\n",
       "        vertical-align: top;\n",
       "    }\n",
       "</style>\n",
       "<table border=\"1\" class=\"dataframe\">\n",
       "  <thead>\n",
       "    <tr style=\"text-align: right;\">\n",
       "      <th></th>\n",
       "      <th>floats</th>\n",
       "      <th>ints</th>\n",
       "      <th>strings</th>\n",
       "      <th>objects</th>\n",
       "    </tr>\n",
       "  </thead>\n",
       "  <tbody>\n",
       "    <tr>\n",
       "      <th>0</th>\n",
       "      <td>-0.198352</td>\n",
       "      <td>0</td>\n",
       "      <td>foo</td>\n",
       "      <td>2000-01-01</td>\n",
       "    </tr>\n",
       "    <tr>\n",
       "      <th>1</th>\n",
       "      <td>0.351274</td>\n",
       "      <td>1</td>\n",
       "      <td>boo</td>\n",
       "      <td>2000-01-02</td>\n",
       "    </tr>\n",
       "    <tr>\n",
       "      <th>2</th>\n",
       "      <td>1.638393</td>\n",
       "      <td>2</td>\n",
       "      <td>foo</td>\n",
       "      <td>2000-01-03</td>\n",
       "    </tr>\n",
       "    <tr>\n",
       "      <th>3</th>\n",
       "      <td>-1.924702</td>\n",
       "      <td>3</td>\n",
       "      <td>boo</td>\n",
       "      <td>2000-01-04</td>\n",
       "    </tr>\n",
       "    <tr>\n",
       "      <th>4</th>\n",
       "      <td>1.581400</td>\n",
       "      <td>4</td>\n",
       "      <td>foo</td>\n",
       "      <td>2000-01-05</td>\n",
       "    </tr>\n",
       "    <tr>\n",
       "      <th>5</th>\n",
       "      <td>0.055835</td>\n",
       "      <td>5</td>\n",
       "      <td>boo</td>\n",
       "      <td>2000-01-06</td>\n",
       "    </tr>\n",
       "    <tr>\n",
       "      <th>6</th>\n",
       "      <td>0.115056</td>\n",
       "      <td>6</td>\n",
       "      <td>foo</td>\n",
       "      <td>2000-01-07</td>\n",
       "    </tr>\n",
       "    <tr>\n",
       "      <th>7</th>\n",
       "      <td>-0.067775</td>\n",
       "      <td>7</td>\n",
       "      <td>boo</td>\n",
       "      <td>2000-01-08</td>\n",
       "    </tr>\n",
       "    <tr>\n",
       "      <th>8</th>\n",
       "      <td>0.489141</td>\n",
       "      <td>8</td>\n",
       "      <td>foo</td>\n",
       "      <td>2000-01-09</td>\n",
       "    </tr>\n",
       "    <tr>\n",
       "      <th>9</th>\n",
       "      <td>-0.551730</td>\n",
       "      <td>9</td>\n",
       "      <td>boo</td>\n",
       "      <td>2000-01-10</td>\n",
       "    </tr>\n",
       "  </tbody>\n",
       "</table>\n",
       "</div>"
      ],
      "text/plain": [
       "     floats  ints strings    objects\n",
       "0 -0.198352     0     foo 2000-01-01\n",
       "1  0.351274     1     boo 2000-01-02\n",
       "2  1.638393     2     foo 2000-01-03\n",
       "3 -1.924702     3     boo 2000-01-04\n",
       "4  1.581400     4     foo 2000-01-05\n",
       "5  0.055835     5     boo 2000-01-06\n",
       "6  0.115056     6     foo 2000-01-07\n",
       "7 -0.067775     7     boo 2000-01-08\n",
       "8  0.489141     8     foo 2000-01-09\n",
       "9 -0.551730     9     boo 2000-01-10"
      ]
     },
     "execution_count": 208,
     "metadata": {},
     "output_type": "execute_result"
    }
   ],
   "source": [
    "foo"
   ]
  },
  {
   "cell_type": "code",
   "execution_count": 209,
   "metadata": {},
   "outputs": [
    {
     "data": {
      "text/plain": [
       "floats            float64\n",
       "ints                int32\n",
       "strings            object\n",
       "objects    datetime64[ns]\n",
       "dtype: object"
      ]
     },
     "execution_count": 209,
     "metadata": {},
     "output_type": "execute_result"
    }
   ],
   "source": [
    "foo.dtypes"
   ]
  },
  {
   "cell_type": "code",
   "execution_count": 210,
   "metadata": {},
   "outputs": [
    {
     "data": {
      "text/html": [
       "<div>\n",
       "<style>\n",
       "    .dataframe thead tr:only-child th {\n",
       "        text-align: right;\n",
       "    }\n",
       "\n",
       "    .dataframe thead th {\n",
       "        text-align: left;\n",
       "    }\n",
       "\n",
       "    .dataframe tbody tr th {\n",
       "        vertical-align: top;\n",
       "    }\n",
       "</style>\n",
       "<table border=\"1\" class=\"dataframe\">\n",
       "  <thead>\n",
       "    <tr style=\"text-align: right;\">\n",
       "      <th></th>\n",
       "      <th>0</th>\n",
       "      <th>1</th>\n",
       "      <th>2</th>\n",
       "      <th>3</th>\n",
       "      <th>4</th>\n",
       "      <th>5</th>\n",
       "      <th>6</th>\n",
       "      <th>7</th>\n",
       "      <th>8</th>\n",
       "      <th>9</th>\n",
       "    </tr>\n",
       "  </thead>\n",
       "  <tbody>\n",
       "    <tr>\n",
       "      <th>floats</th>\n",
       "      <td>-0.198352</td>\n",
       "      <td>0.351274</td>\n",
       "      <td>1.63839</td>\n",
       "      <td>-1.9247</td>\n",
       "      <td>1.5814</td>\n",
       "      <td>0.0558348</td>\n",
       "      <td>0.115056</td>\n",
       "      <td>-0.0677751</td>\n",
       "      <td>0.489141</td>\n",
       "      <td>-0.55173</td>\n",
       "    </tr>\n",
       "    <tr>\n",
       "      <th>ints</th>\n",
       "      <td>0</td>\n",
       "      <td>1</td>\n",
       "      <td>2</td>\n",
       "      <td>3</td>\n",
       "      <td>4</td>\n",
       "      <td>5</td>\n",
       "      <td>6</td>\n",
       "      <td>7</td>\n",
       "      <td>8</td>\n",
       "      <td>9</td>\n",
       "    </tr>\n",
       "    <tr>\n",
       "      <th>strings</th>\n",
       "      <td>foo</td>\n",
       "      <td>boo</td>\n",
       "      <td>foo</td>\n",
       "      <td>boo</td>\n",
       "      <td>foo</td>\n",
       "      <td>boo</td>\n",
       "      <td>foo</td>\n",
       "      <td>boo</td>\n",
       "      <td>foo</td>\n",
       "      <td>boo</td>\n",
       "    </tr>\n",
       "    <tr>\n",
       "      <th>objects</th>\n",
       "      <td>2000-01-01 00:00:00</td>\n",
       "      <td>2000-01-02 00:00:00</td>\n",
       "      <td>2000-01-03 00:00:00</td>\n",
       "      <td>2000-01-04 00:00:00</td>\n",
       "      <td>2000-01-05 00:00:00</td>\n",
       "      <td>2000-01-06 00:00:00</td>\n",
       "      <td>2000-01-07 00:00:00</td>\n",
       "      <td>2000-01-08 00:00:00</td>\n",
       "      <td>2000-01-09 00:00:00</td>\n",
       "      <td>2000-01-10 00:00:00</td>\n",
       "    </tr>\n",
       "  </tbody>\n",
       "</table>\n",
       "</div>"
      ],
      "text/plain": [
       "                           0                    1                    2  \\\n",
       "floats             -0.198352             0.351274              1.63839   \n",
       "ints                       0                    1                    2   \n",
       "strings                  foo                  boo                  foo   \n",
       "objects  2000-01-01 00:00:00  2000-01-02 00:00:00  2000-01-03 00:00:00   \n",
       "\n",
       "                           3                    4                    5  \\\n",
       "floats               -1.9247               1.5814            0.0558348   \n",
       "ints                       3                    4                    5   \n",
       "strings                  boo                  foo                  boo   \n",
       "objects  2000-01-04 00:00:00  2000-01-05 00:00:00  2000-01-06 00:00:00   \n",
       "\n",
       "                           6                    7                    8  \\\n",
       "floats              0.115056           -0.0677751             0.489141   \n",
       "ints                       6                    7                    8   \n",
       "strings                  foo                  boo                  foo   \n",
       "objects  2000-01-07 00:00:00  2000-01-08 00:00:00  2000-01-09 00:00:00   \n",
       "\n",
       "                           9  \n",
       "floats              -0.55173  \n",
       "ints                       9  \n",
       "strings                  boo  \n",
       "objects  2000-01-10 00:00:00  "
      ]
     },
     "execution_count": 210,
     "metadata": {},
     "output_type": "execute_result"
    }
   ],
   "source": [
    "foo.T"
   ]
  },
  {
   "cell_type": "code",
   "execution_count": 211,
   "metadata": {},
   "outputs": [
    {
     "data": {
      "text/html": [
       "<div>\n",
       "<style>\n",
       "    .dataframe thead tr:only-child th {\n",
       "        text-align: right;\n",
       "    }\n",
       "\n",
       "    .dataframe thead th {\n",
       "        text-align: left;\n",
       "    }\n",
       "\n",
       "    .dataframe tbody tr th {\n",
       "        vertical-align: top;\n",
       "    }\n",
       "</style>\n",
       "<table border=\"1\" class=\"dataframe\">\n",
       "  <thead>\n",
       "    <tr style=\"text-align: right;\">\n",
       "      <th></th>\n",
       "      <th>floats</th>\n",
       "      <th>ints</th>\n",
       "      <th>strings</th>\n",
       "      <th>objects</th>\n",
       "    </tr>\n",
       "  </thead>\n",
       "  <tbody>\n",
       "    <tr>\n",
       "      <th>0</th>\n",
       "      <td>-0.198352</td>\n",
       "      <td>0</td>\n",
       "      <td>foo</td>\n",
       "      <td>2000-01-01 00:00:00</td>\n",
       "    </tr>\n",
       "    <tr>\n",
       "      <th>1</th>\n",
       "      <td>0.351274</td>\n",
       "      <td>1</td>\n",
       "      <td>boo</td>\n",
       "      <td>2000-01-02 00:00:00</td>\n",
       "    </tr>\n",
       "    <tr>\n",
       "      <th>2</th>\n",
       "      <td>1.63839</td>\n",
       "      <td>2</td>\n",
       "      <td>foo</td>\n",
       "      <td>2000-01-03 00:00:00</td>\n",
       "    </tr>\n",
       "    <tr>\n",
       "      <th>3</th>\n",
       "      <td>-1.9247</td>\n",
       "      <td>3</td>\n",
       "      <td>boo</td>\n",
       "      <td>2000-01-04 00:00:00</td>\n",
       "    </tr>\n",
       "    <tr>\n",
       "      <th>4</th>\n",
       "      <td>1.5814</td>\n",
       "      <td>4</td>\n",
       "      <td>foo</td>\n",
       "      <td>2000-01-05 00:00:00</td>\n",
       "    </tr>\n",
       "    <tr>\n",
       "      <th>5</th>\n",
       "      <td>0.0558348</td>\n",
       "      <td>5</td>\n",
       "      <td>boo</td>\n",
       "      <td>2000-01-06 00:00:00</td>\n",
       "    </tr>\n",
       "    <tr>\n",
       "      <th>6</th>\n",
       "      <td>0.115056</td>\n",
       "      <td>6</td>\n",
       "      <td>foo</td>\n",
       "      <td>2000-01-07 00:00:00</td>\n",
       "    </tr>\n",
       "    <tr>\n",
       "      <th>7</th>\n",
       "      <td>-0.0677751</td>\n",
       "      <td>7</td>\n",
       "      <td>boo</td>\n",
       "      <td>2000-01-08 00:00:00</td>\n",
       "    </tr>\n",
       "    <tr>\n",
       "      <th>8</th>\n",
       "      <td>0.489141</td>\n",
       "      <td>8</td>\n",
       "      <td>foo</td>\n",
       "      <td>2000-01-09 00:00:00</td>\n",
       "    </tr>\n",
       "    <tr>\n",
       "      <th>9</th>\n",
       "      <td>-0.55173</td>\n",
       "      <td>9</td>\n",
       "      <td>boo</td>\n",
       "      <td>2000-01-10 00:00:00</td>\n",
       "    </tr>\n",
       "  </tbody>\n",
       "</table>\n",
       "</div>"
      ],
      "text/plain": [
       "      floats ints strings              objects\n",
       "0  -0.198352    0     foo  2000-01-01 00:00:00\n",
       "1   0.351274    1     boo  2000-01-02 00:00:00\n",
       "2    1.63839    2     foo  2000-01-03 00:00:00\n",
       "3    -1.9247    3     boo  2000-01-04 00:00:00\n",
       "4     1.5814    4     foo  2000-01-05 00:00:00\n",
       "5  0.0558348    5     boo  2000-01-06 00:00:00\n",
       "6   0.115056    6     foo  2000-01-07 00:00:00\n",
       "7 -0.0677751    7     boo  2000-01-08 00:00:00\n",
       "8   0.489141    8     foo  2000-01-09 00:00:00\n",
       "9   -0.55173    9     boo  2000-01-10 00:00:00"
      ]
     },
     "execution_count": 211,
     "metadata": {},
     "output_type": "execute_result"
    }
   ],
   "source": [
    "foo.T.T"
   ]
  },
  {
   "cell_type": "markdown",
   "metadata": {},
   "source": [
    "# Function application\n",
    "We can apply arbitrary functions to the rows or columns of a DataFrame"
   ]
  },
  {
   "cell_type": "code",
   "execution_count": 212,
   "metadata": {
    "collapsed": true
   },
   "outputs": [],
   "source": [
    "df=close_px"
   ]
  },
  {
   "cell_type": "code",
   "execution_count": 213,
   "metadata": {},
   "outputs": [
    {
     "data": {
      "text/plain": [
       "AA        17.13819\n",
       "AAPL     217.38695\n",
       "GE        18.36225\n",
       "IBM      122.68701\n",
       "JNJ       58.22890\n",
       "MSFT      24.94784\n",
       "PEP       59.60793\n",
       "SPX     1153.72909\n",
       "XOM       71.51370\n",
       "dtype: float64"
      ]
     },
     "execution_count": 213,
     "metadata": {},
     "output_type": "execute_result"
    }
   ],
   "source": [
    "df.apply(np.mean)"
   ]
  },
  {
   "cell_type": "code",
   "execution_count": 214,
   "metadata": {},
   "outputs": [
    {
     "data": {
      "text/plain": [
       "AA        17.13819\n",
       "AAPL     217.38695\n",
       "GE        18.36225\n",
       "IBM      122.68701\n",
       "JNJ       58.22890\n",
       "MSFT      24.94784\n",
       "PEP       59.60793\n",
       "SPX     1153.72909\n",
       "XOM       71.51370\n",
       "dtype: float64"
      ]
     },
     "execution_count": 214,
     "metadata": {},
     "output_type": "execute_result"
    }
   ],
   "source": [
    "df.mean()"
   ]
  },
  {
   "cell_type": "code",
   "execution_count": 215,
   "metadata": {},
   "outputs": [
    {
     "data": {
      "text/plain": [
       "2007-10-29    238.312222\n",
       "2007-10-30    237.081111\n",
       "2007-10-31    239.995556\n",
       "2007-11-01    234.151111\n",
       "2007-11-02    234.508889\n",
       "dtype: float64"
      ]
     },
     "execution_count": 215,
     "metadata": {},
     "output_type": "execute_result"
    }
   ],
   "source": [
    "# to get the mean of the first row based on a columsn.Also exlcudes missing data (NaN:not a numer)\n",
    "df.mean(1).head()"
   ]
  },
  {
   "cell_type": "code",
   "execution_count": 216,
   "metadata": {},
   "outputs": [
    {
     "data": {
      "text/plain": [
       "2007-10-29    238.312222\n",
       "2007-10-30    237.081111\n",
       "2007-10-31    239.995556\n",
       "2007-11-01    234.151111\n",
       "2007-11-02    234.508889\n",
       "2007-11-05    233.175556\n",
       "2007-11-06    236.181111\n",
       "2007-11-07    229.647778\n",
       "2007-11-08    228.185556\n",
       "2007-11-09    223.683333\n",
       "2007-11-12    220.516667\n",
       "2007-11-13    228.068889\n",
       "2007-11-14    226.210000\n",
       "2007-11-15    223.495556\n",
       "2007-11-16    224.961111\n",
       "2007-11-19    221.380000\n",
       "2007-11-20    223.208889\n",
       "2007-11-21    220.244444\n",
       "2007-11-23    223.656667\n",
       "2007-11-26    219.301111\n",
       "2007-11-27    222.401111\n",
       "2007-11-28    228.524444\n",
       "2007-11-29    229.073333\n",
       "2007-11-30    229.925556\n",
       "2007-12-03    228.267778\n",
       "2007-12-04    227.237778\n",
       "2007-12-05    230.928889\n",
       "2007-12-06    234.421111\n",
       "2007-12-07    234.565556\n",
       "2007-12-10    236.094444\n",
       "                 ...    \n",
       "2011-09-02    218.662222\n",
       "2011-09-06    217.857778\n",
       "2011-09-07    222.717778\n",
       "2011-09-08    220.898889\n",
       "2011-09-09    215.554444\n",
       "2011-09-12    216.945556\n",
       "2011-09-13    218.850000\n",
       "2011-09-14    221.893333\n",
       "2011-09-15    225.426667\n",
       "2011-09-16    227.345556\n",
       "2011-09-19    226.913333\n",
       "2011-09-20    227.016667\n",
       "2011-09-21    222.224444\n",
       "2011-09-22    215.810000\n",
       "2011-09-23    216.850000\n",
       "2011-09-26    220.932222\n",
       "2011-09-27    222.602222\n",
       "2011-09-28    219.323333\n",
       "2011-09-29    220.207778\n",
       "2011-09-30    215.056667\n",
       "2011-10-03    209.862222\n",
       "2011-10-04    212.884444\n",
       "2011-10-05    216.250000\n",
       "2011-10-06    219.227778\n",
       "2011-10-07    217.424444\n",
       "2011-10-10    225.118889\n",
       "2011-10-11    226.161111\n",
       "2011-10-12    228.128889\n",
       "2011-10-13    228.374444\n",
       "2011-10-14    232.923333\n",
       "Length: 1000, dtype: float64"
      ]
     },
     "execution_count": 216,
     "metadata": {},
     "output_type": "execute_result"
    }
   ],
   "source": [
    "df.mean(1,skipna=False)  #flag skipna :to include Nan.In this data ,no NaN."
   ]
  },
  {
   "cell_type": "code",
   "execution_count": 217,
   "metadata": {},
   "outputs": [
    {
     "data": {
      "text/plain": [
       "2007-10-29    238.312222\n",
       "2007-10-30    237.081111\n",
       "2007-10-31    239.995556\n",
       "2007-11-01    234.151111\n",
       "2007-11-02    234.508889\n",
       "2007-11-05    233.175556\n",
       "2007-11-06    236.181111\n",
       "2007-11-07    229.647778\n",
       "2007-11-08    228.185556\n",
       "2007-11-09    223.683333\n",
       "2007-11-12    220.516667\n",
       "2007-11-13    228.068889\n",
       "2007-11-14    226.210000\n",
       "2007-11-15    223.495556\n",
       "2007-11-16    224.961111\n",
       "2007-11-19    221.380000\n",
       "2007-11-20    223.208889\n",
       "2007-11-21    220.244444\n",
       "2007-11-23    223.656667\n",
       "2007-11-26    219.301111\n",
       "2007-11-27    222.401111\n",
       "2007-11-28    228.524444\n",
       "2007-11-29    229.073333\n",
       "2007-11-30    229.925556\n",
       "2007-12-03    228.267778\n",
       "2007-12-04    227.237778\n",
       "2007-12-05    230.928889\n",
       "2007-12-06    234.421111\n",
       "2007-12-07    234.565556\n",
       "2007-12-10    236.094444\n",
       "                 ...    \n",
       "2011-09-02    218.662222\n",
       "2011-09-06    217.857778\n",
       "2011-09-07    222.717778\n",
       "2011-09-08    220.898889\n",
       "2011-09-09    215.554444\n",
       "2011-09-12    216.945556\n",
       "2011-09-13    218.850000\n",
       "2011-09-14    221.893333\n",
       "2011-09-15    225.426667\n",
       "2011-09-16    227.345556\n",
       "2011-09-19    226.913333\n",
       "2011-09-20    227.016667\n",
       "2011-09-21    222.224444\n",
       "2011-09-22    215.810000\n",
       "2011-09-23    216.850000\n",
       "2011-09-26    220.932222\n",
       "2011-09-27    222.602222\n",
       "2011-09-28    219.323333\n",
       "2011-09-29    220.207778\n",
       "2011-09-30    215.056667\n",
       "2011-10-03    209.862222\n",
       "2011-10-04    212.884444\n",
       "2011-10-05    216.250000\n",
       "2011-10-06    219.227778\n",
       "2011-10-07    217.424444\n",
       "2011-10-10    225.118889\n",
       "2011-10-11    226.161111\n",
       "2011-10-12    228.128889\n",
       "2011-10-13    228.374444\n",
       "2011-10-14    232.923333\n",
       "Length: 1000, dtype: float64"
      ]
     },
     "execution_count": 217,
     "metadata": {},
     "output_type": "execute_result"
    }
   ],
   "source": [
    "df.apply(np.mean,axis=1) # same as above"
   ]
  },
  {
   "cell_type": "code",
   "execution_count": 218,
   "metadata": {},
   "outputs": [
    {
     "data": {
      "text/plain": [
       "2007-10-29    185.09\n",
       "2007-10-30    187.00\n",
       "2007-10-31    189.95\n",
       "2007-11-01    187.44\n",
       "2007-11-02    187.87\n",
       "Name: AAPL, dtype: float64"
      ]
     },
     "execution_count": 218,
     "metadata": {},
     "output_type": "execute_result"
    }
   ],
   "source": [
    "close_px.AAPL.head()"
   ]
  },
  {
   "cell_type": "code",
   "execution_count": 219,
   "metadata": {},
   "outputs": [
    {
     "data": {
      "text/plain": [
       "Timestamp('2011-10-14 00:00:00')"
      ]
     },
     "execution_count": 219,
     "metadata": {},
     "output_type": "execute_result"
    }
   ],
   "source": [
    "close_px.AAPL.idxmax() #gives index of tis maximum value"
   ]
  },
  {
   "cell_type": "code",
   "execution_count": 220,
   "metadata": {},
   "outputs": [
    {
     "ename": "SyntaxError",
     "evalue": "invalid syntax (<ipython-input-220-82095caa06d1>, line 1)",
     "output_type": "error",
     "traceback": [
      "\u001b[1;36m  File \u001b[1;32m\"<ipython-input-220-82095caa06d1>\"\u001b[1;36m, line \u001b[1;32m1\u001b[0m\n\u001b[1;33m    close_px.AAPL.index[] # If you are numpy aficionado, does the same thing.\u001b[0m\n\u001b[1;37m                        ^\u001b[0m\n\u001b[1;31mSyntaxError\u001b[0m\u001b[1;31m:\u001b[0m invalid syntax\n"
     ]
    }
   ],
   "source": [
    "close_px.AAPL.index[] # If you are numpy aficionado, does the same thing."
   ]
  },
  {
   "cell_type": "code",
   "execution_count": 221,
   "metadata": {},
   "outputs": [
    {
     "ename": "ValueError",
     "evalue": "occurred at index AA",
     "output_type": "error",
     "traceback": [
      "\u001b[1;31m---------------------------------------------------------------------------\u001b[0m",
      "\u001b[1;31mValueError\u001b[0m                                Traceback (most recent call last)",
      "\u001b[1;32m<ipython-input-221-50201a5f7d1c>\u001b[0m in \u001b[0;36m<module>\u001b[1;34m()\u001b[0m\n\u001b[0;32m      1\u001b[0m \u001b[1;32mdef\u001b[0m \u001b[0mpeak_date\u001b[0m\u001b[1;33m(\u001b[0m\u001b[0mseries\u001b[0m\u001b[1;33m)\u001b[0m\u001b[1;33m:\u001b[0m\u001b[1;33m\u001b[0m\u001b[0m\n\u001b[0;32m      2\u001b[0m     \u001b[1;32mreturn\u001b[0m \u001b[0mseries\u001b[0m\u001b[1;33m.\u001b[0m\u001b[0mindex\u001b[0m\u001b[1;33m[\u001b[0m\u001b[0mseries\u001b[0m\u001b[1;33m.\u001b[0m\u001b[0margmax\u001b[0m\u001b[1;33m(\u001b[0m\u001b[1;33m)\u001b[0m\u001b[1;33m]\u001b[0m    \u001b[1;31m# new method: series.idxmax()\u001b[0m\u001b[1;33m\u001b[0m\u001b[0m\n\u001b[1;32m----> 3\u001b[1;33m \u001b[0mclose_px\u001b[0m\u001b[1;33m.\u001b[0m\u001b[0mapply\u001b[0m\u001b[1;33m(\u001b[0m\u001b[0mpeak_date\u001b[0m\u001b[1;33m)\u001b[0m\u001b[1;33m\u001b[0m\u001b[0m\n\u001b[0m",
      "\u001b[1;32mC:\\Users\\abhij\\Anaconda2\\lib\\site-packages\\pandas\\core\\frame.pyc\u001b[0m in \u001b[0;36mapply\u001b[1;34m(self, func, axis, broadcast, raw, reduce, args, **kwds)\u001b[0m\n\u001b[0;32m   4358\u001b[0m                         \u001b[0mf\u001b[0m\u001b[1;33m,\u001b[0m \u001b[0maxis\u001b[0m\u001b[1;33m,\u001b[0m\u001b[1;33m\u001b[0m\u001b[0m\n\u001b[0;32m   4359\u001b[0m                         \u001b[0mreduce\u001b[0m\u001b[1;33m=\u001b[0m\u001b[0mreduce\u001b[0m\u001b[1;33m,\u001b[0m\u001b[1;33m\u001b[0m\u001b[0m\n\u001b[1;32m-> 4360\u001b[1;33m                         ignore_failures=ignore_failures)\n\u001b[0m\u001b[0;32m   4361\u001b[0m             \u001b[1;32melse\u001b[0m\u001b[1;33m:\u001b[0m\u001b[1;33m\u001b[0m\u001b[0m\n\u001b[0;32m   4362\u001b[0m                 \u001b[1;32mreturn\u001b[0m \u001b[0mself\u001b[0m\u001b[1;33m.\u001b[0m\u001b[0m_apply_broadcast\u001b[0m\u001b[1;33m(\u001b[0m\u001b[0mf\u001b[0m\u001b[1;33m,\u001b[0m \u001b[0maxis\u001b[0m\u001b[1;33m)\u001b[0m\u001b[1;33m\u001b[0m\u001b[0m\n",
      "\u001b[1;32mC:\\Users\\abhij\\Anaconda2\\lib\\site-packages\\pandas\\core\\frame.pyc\u001b[0m in \u001b[0;36m_apply_standard\u001b[1;34m(self, func, axis, ignore_failures, reduce)\u001b[0m\n\u001b[0;32m   4454\u001b[0m             \u001b[1;32mtry\u001b[0m\u001b[1;33m:\u001b[0m\u001b[1;33m\u001b[0m\u001b[0m\n\u001b[0;32m   4455\u001b[0m                 \u001b[1;32mfor\u001b[0m \u001b[0mi\u001b[0m\u001b[1;33m,\u001b[0m \u001b[0mv\u001b[0m \u001b[1;32min\u001b[0m \u001b[0menumerate\u001b[0m\u001b[1;33m(\u001b[0m\u001b[0mseries_gen\u001b[0m\u001b[1;33m)\u001b[0m\u001b[1;33m:\u001b[0m\u001b[1;33m\u001b[0m\u001b[0m\n\u001b[1;32m-> 4456\u001b[1;33m                     \u001b[0mresults\u001b[0m\u001b[1;33m[\u001b[0m\u001b[0mi\u001b[0m\u001b[1;33m]\u001b[0m \u001b[1;33m=\u001b[0m \u001b[0mfunc\u001b[0m\u001b[1;33m(\u001b[0m\u001b[0mv\u001b[0m\u001b[1;33m)\u001b[0m\u001b[1;33m\u001b[0m\u001b[0m\n\u001b[0m\u001b[0;32m   4457\u001b[0m                     \u001b[0mkeys\u001b[0m\u001b[1;33m.\u001b[0m\u001b[0mappend\u001b[0m\u001b[1;33m(\u001b[0m\u001b[0mv\u001b[0m\u001b[1;33m.\u001b[0m\u001b[0mname\u001b[0m\u001b[1;33m)\u001b[0m\u001b[1;33m\u001b[0m\u001b[0m\n\u001b[0;32m   4458\u001b[0m             \u001b[1;32mexcept\u001b[0m \u001b[0mException\u001b[0m \u001b[1;32mas\u001b[0m \u001b[0me\u001b[0m\u001b[1;33m:\u001b[0m\u001b[1;33m\u001b[0m\u001b[0m\n",
      "\u001b[1;32m<ipython-input-221-50201a5f7d1c>\u001b[0m in \u001b[0;36mpeak_date\u001b[1;34m(series)\u001b[0m\n\u001b[0;32m      1\u001b[0m \u001b[1;32mdef\u001b[0m \u001b[0mpeak_date\u001b[0m\u001b[1;33m(\u001b[0m\u001b[0mseries\u001b[0m\u001b[1;33m)\u001b[0m\u001b[1;33m:\u001b[0m\u001b[1;33m\u001b[0m\u001b[0m\n\u001b[1;32m----> 2\u001b[1;33m     \u001b[1;32mreturn\u001b[0m \u001b[0mseries\u001b[0m\u001b[1;33m.\u001b[0m\u001b[0mindex\u001b[0m\u001b[1;33m[\u001b[0m\u001b[0mseries\u001b[0m\u001b[1;33m.\u001b[0m\u001b[0margmax\u001b[0m\u001b[1;33m(\u001b[0m\u001b[1;33m)\u001b[0m\u001b[1;33m]\u001b[0m    \u001b[1;31m# new method: series.idxmax()\u001b[0m\u001b[1;33m\u001b[0m\u001b[0m\n\u001b[0m\u001b[0;32m      3\u001b[0m \u001b[0mclose_px\u001b[0m\u001b[1;33m.\u001b[0m\u001b[0mapply\u001b[0m\u001b[1;33m(\u001b[0m\u001b[0mpeak_date\u001b[0m\u001b[1;33m)\u001b[0m\u001b[1;33m\u001b[0m\u001b[0m\n",
      "\u001b[1;32mC:\\Users\\abhij\\Anaconda2\\lib\\site-packages\\pandas\\core\\indexes\\datetimelike.pyc\u001b[0m in \u001b[0;36m__getitem__\u001b[1;34m(self, key)\u001b[0m\n\u001b[0;32m    265\u001b[0m         \u001b[0mis_int\u001b[0m \u001b[1;33m=\u001b[0m \u001b[0mis_integer\u001b[0m\u001b[1;33m(\u001b[0m\u001b[0mkey\u001b[0m\u001b[1;33m)\u001b[0m\u001b[1;33m\u001b[0m\u001b[0m\n\u001b[0;32m    266\u001b[0m         \u001b[1;32mif\u001b[0m \u001b[0mis_scalar\u001b[0m\u001b[1;33m(\u001b[0m\u001b[0mkey\u001b[0m\u001b[1;33m)\u001b[0m \u001b[1;32mand\u001b[0m \u001b[1;32mnot\u001b[0m \u001b[0mis_int\u001b[0m\u001b[1;33m:\u001b[0m\u001b[1;33m\u001b[0m\u001b[0m\n\u001b[1;32m--> 267\u001b[1;33m             \u001b[1;32mraise\u001b[0m \u001b[0mValueError\u001b[0m\u001b[1;33m\u001b[0m\u001b[0m\n\u001b[0m\u001b[0;32m    268\u001b[0m \u001b[1;33m\u001b[0m\u001b[0m\n\u001b[0;32m    269\u001b[0m         \u001b[0mgetitem\u001b[0m \u001b[1;33m=\u001b[0m \u001b[0mself\u001b[0m\u001b[1;33m.\u001b[0m\u001b[0m_data\u001b[0m\u001b[1;33m.\u001b[0m\u001b[0m__getitem__\u001b[0m\u001b[1;33m\u001b[0m\u001b[0m\n",
      "\u001b[1;31mValueError\u001b[0m: occurred at index AA"
     ]
    }
   ],
   "source": [
    "def peak_date(series):\n",
    "    return series.index[series.argmax()]    # new method: series.idxmax()\n",
    "close_px.apply(peak_date)"
   ]
  },
  {
   "cell_type": "code",
   "execution_count": 222,
   "metadata": {},
   "outputs": [
    {
     "data": {
      "text/plain": [
       "AA       36.76\n",
       "AAPL    343.80\n",
       "GE       28.78\n",
       "IBM     122.39\n",
       "JNJ      24.56\n",
       "MSFT     19.74\n",
       "PEP      28.79\n",
       "SPX     872.85\n",
       "XOM      32.63\n",
       "dtype: float64"
      ]
     },
     "execution_count": 222,
     "metadata": {},
     "output_type": "execute_result"
    }
   ],
   "source": [
    "df.apply(lambda x:x.max()-x.min()) #np.ptp"
   ]
  },
  {
   "cell_type": "code",
   "execution_count": 223,
   "metadata": {},
   "outputs": [
    {
     "data": {
      "text/html": [
       "<div>\n",
       "<style>\n",
       "    .dataframe thead tr:only-child th {\n",
       "        text-align: right;\n",
       "    }\n",
       "\n",
       "    .dataframe thead th {\n",
       "        text-align: left;\n",
       "    }\n",
       "\n",
       "    .dataframe tbody tr th {\n",
       "        vertical-align: top;\n",
       "    }\n",
       "</style>\n",
       "<table border=\"1\" class=\"dataframe\">\n",
       "  <thead>\n",
       "    <tr style=\"text-align: right;\">\n",
       "      <th></th>\n",
       "      <th>AA</th>\n",
       "      <th>AAPL</th>\n",
       "      <th>GE</th>\n",
       "      <th>IBM</th>\n",
       "      <th>JNJ</th>\n",
       "      <th>MSFT</th>\n",
       "      <th>PEP</th>\n",
       "      <th>SPX</th>\n",
       "      <th>XOM</th>\n",
       "    </tr>\n",
       "  </thead>\n",
       "  <tbody>\n",
       "    <tr>\n",
       "      <th>2007-10-29</th>\n",
       "      <td>3.621938</td>\n",
       "      <td>5.220842</td>\n",
       "      <td>3.539799</td>\n",
       "      <td>4.670771</td>\n",
       "      <td>4.045329</td>\n",
       "      <td>3.458837</td>\n",
       "      <td>4.184642</td>\n",
       "      <td>7.340174</td>\n",
       "      <td>4.448633</td>\n",
       "    </tr>\n",
       "    <tr>\n",
       "      <th>2007-10-30</th>\n",
       "      <td>3.595393</td>\n",
       "      <td>5.231109</td>\n",
       "      <td>3.537766</td>\n",
       "      <td>4.664853</td>\n",
       "      <td>4.042876</td>\n",
       "      <td>3.487375</td>\n",
       "      <td>4.186620</td>\n",
       "      <td>7.333689</td>\n",
       "      <td>4.421848</td>\n",
       "    </tr>\n",
       "    <tr>\n",
       "      <th>2007-10-31</th>\n",
       "      <td>3.605226</td>\n",
       "      <td>5.246761</td>\n",
       "      <td>3.554491</td>\n",
       "      <td>4.682224</td>\n",
       "      <td>4.048301</td>\n",
       "      <td>3.521644</td>\n",
       "      <td>4.184947</td>\n",
       "      <td>7.345610</td>\n",
       "      <td>4.431174</td>\n",
       "    </tr>\n",
       "    <tr>\n",
       "      <th>2007-11-01</th>\n",
       "      <td>3.561614</td>\n",
       "      <td>5.233459</td>\n",
       "      <td>3.534270</td>\n",
       "      <td>4.660794</td>\n",
       "      <td>4.040416</td>\n",
       "      <td>3.528417</td>\n",
       "      <td>4.166820</td>\n",
       "      <td>7.318831</td>\n",
       "      <td>4.392472</td>\n",
       "    </tr>\n",
       "    <tr>\n",
       "      <th>2007-11-02</th>\n",
       "      <td>3.578786</td>\n",
       "      <td>5.235750</td>\n",
       "      <td>3.534270</td>\n",
       "      <td>4.668990</td>\n",
       "      <td>4.042174</td>\n",
       "      <td>3.528417</td>\n",
       "      <td>4.174849</td>\n",
       "      <td>7.319633</td>\n",
       "      <td>4.386019</td>\n",
       "    </tr>\n",
       "    <tr>\n",
       "      <th>2007-11-05</th>\n",
       "      <td>3.561614</td>\n",
       "      <td>5.226714</td>\n",
       "      <td>3.530763</td>\n",
       "      <td>4.658521</td>\n",
       "      <td>4.037774</td>\n",
       "      <td>3.519573</td>\n",
       "      <td>4.171923</td>\n",
       "      <td>7.314666</td>\n",
       "      <td>4.382901</td>\n",
       "    </tr>\n",
       "    <tr>\n",
       "      <th>2007-11-06</th>\n",
       "      <td>3.579065</td>\n",
       "      <td>5.256401</td>\n",
       "      <td>3.530470</td>\n",
       "      <td>4.656528</td>\n",
       "      <td>4.039536</td>\n",
       "      <td>3.510650</td>\n",
       "      <td>4.181897</td>\n",
       "      <td>7.326643</td>\n",
       "      <td>4.413525</td>\n",
       "    </tr>\n",
       "    <tr>\n",
       "      <th>2007-11-07</th>\n",
       "      <td>3.548467</td>\n",
       "      <td>5.227358</td>\n",
       "      <td>3.502550</td>\n",
       "      <td>4.641406</td>\n",
       "      <td>4.028739</td>\n",
       "      <td>3.485845</td>\n",
       "      <td>4.166045</td>\n",
       "      <td>7.296834</td>\n",
       "      <td>4.381527</td>\n",
       "    </tr>\n",
       "    <tr>\n",
       "      <th>2007-11-08</th>\n",
       "      <td>3.555348</td>\n",
       "      <td>5.167468</td>\n",
       "      <td>3.501043</td>\n",
       "      <td>4.595625</td>\n",
       "      <td>4.039360</td>\n",
       "      <td>3.463859</td>\n",
       "      <td>4.182050</td>\n",
       "      <td>7.296257</td>\n",
       "      <td>4.406719</td>\n",
       "    </tr>\n",
       "    <tr>\n",
       "      <th>2007-11-09</th>\n",
       "      <td>3.540089</td>\n",
       "      <td>5.108185</td>\n",
       "      <td>3.484619</td>\n",
       "      <td>4.538817</td>\n",
       "      <td>4.048126</td>\n",
       "      <td>3.434310</td>\n",
       "      <td>4.181745</td>\n",
       "      <td>7.281867</td>\n",
       "      <td>4.377516</td>\n",
       "    </tr>\n",
       "    <tr>\n",
       "      <th>2007-11-12</th>\n",
       "      <td>3.506458</td>\n",
       "      <td>5.035393</td>\n",
       "      <td>3.481240</td>\n",
       "      <td>4.550714</td>\n",
       "      <td>4.065602</td>\n",
       "      <td>3.423937</td>\n",
       "      <td>4.169297</td>\n",
       "      <td>7.271829</td>\n",
       "      <td>4.350536</td>\n",
       "    </tr>\n",
       "    <tr>\n",
       "      <th>2007-11-13</th>\n",
       "      <td>3.527536</td>\n",
       "      <td>5.135563</td>\n",
       "      <td>3.505858</td>\n",
       "      <td>4.587719</td>\n",
       "      <td>4.080584</td>\n",
       "      <td>3.459152</td>\n",
       "      <td>4.179757</td>\n",
       "      <td>7.300507</td>\n",
       "      <td>4.377893</td>\n",
       "    </tr>\n",
       "    <tr>\n",
       "      <th>2007-11-14</th>\n",
       "      <td>3.533687</td>\n",
       "      <td>5.112650</td>\n",
       "      <td>3.500741</td>\n",
       "      <td>4.570165</td>\n",
       "      <td>4.074312</td>\n",
       "      <td>3.443618</td>\n",
       "      <td>4.189503</td>\n",
       "      <td>7.293412</td>\n",
       "      <td>4.371345</td>\n",
       "    </tr>\n",
       "    <tr>\n",
       "      <th>2007-11-15</th>\n",
       "      <td>3.519277</td>\n",
       "      <td>5.101694</td>\n",
       "      <td>3.482777</td>\n",
       "      <td>4.571717</td>\n",
       "      <td>4.074142</td>\n",
       "      <td>3.438493</td>\n",
       "      <td>4.183118</td>\n",
       "      <td>7.280112</td>\n",
       "      <td>4.350020</td>\n",
       "    </tr>\n",
       "    <tr>\n",
       "      <th>2007-11-16</th>\n",
       "      <td>3.518684</td>\n",
       "      <td>5.114334</td>\n",
       "      <td>3.491647</td>\n",
       "      <td>4.583129</td>\n",
       "      <td>4.086984</td>\n",
       "      <td>3.448081</td>\n",
       "      <td>4.190866</td>\n",
       "      <td>7.285328</td>\n",
       "      <td>4.357222</td>\n",
       "    </tr>\n",
       "    <tr>\n",
       "      <th>2007-11-19</th>\n",
       "      <td>3.484005</td>\n",
       "      <td>5.099562</td>\n",
       "      <td>3.478776</td>\n",
       "      <td>4.558288</td>\n",
       "      <td>4.084631</td>\n",
       "      <td>3.444257</td>\n",
       "      <td>4.203199</td>\n",
       "      <td>7.267714</td>\n",
       "      <td>4.345492</td>\n",
       "    </tr>\n",
       "    <tr>\n",
       "      <th>2007-11-20</th>\n",
       "      <td>3.492865</td>\n",
       "      <td>5.129011</td>\n",
       "      <td>3.475686</td>\n",
       "      <td>4.569957</td>\n",
       "      <td>4.085472</td>\n",
       "      <td>3.462606</td>\n",
       "      <td>4.200055</td>\n",
       "      <td>7.272190</td>\n",
       "      <td>4.388630</td>\n",
       "    </tr>\n",
       "    <tr>\n",
       "      <th>2007-11-21</th>\n",
       "      <td>3.486763</td>\n",
       "      <td>5.126698</td>\n",
       "      <td>3.452524</td>\n",
       "      <td>4.558288</td>\n",
       "      <td>4.078046</td>\n",
       "      <td>3.452207</td>\n",
       "      <td>4.202750</td>\n",
       "      <td>7.256135</td>\n",
       "      <td>4.379774</td>\n",
       "    </tr>\n",
       "    <tr>\n",
       "      <th>2007-11-23</th>\n",
       "      <td>3.486151</td>\n",
       "      <td>5.144816</td>\n",
       "      <td>3.466048</td>\n",
       "      <td>4.576050</td>\n",
       "      <td>4.080246</td>\n",
       "      <td>3.448717</td>\n",
       "      <td>4.209012</td>\n",
       "      <td>7.272884</td>\n",
       "      <td>4.393955</td>\n",
       "    </tr>\n",
       "    <tr>\n",
       "      <th>2007-11-26</th>\n",
       "      <td>3.478467</td>\n",
       "      <td>5.150629</td>\n",
       "      <td>3.440739</td>\n",
       "      <td>4.555875</td>\n",
       "      <td>4.087656</td>\n",
       "      <td>3.414772</td>\n",
       "      <td>4.198104</td>\n",
       "      <td>7.249371</td>\n",
       "      <td>4.363990</td>\n",
       "    </tr>\n",
       "    <tr>\n",
       "      <th>2007-11-27</th>\n",
       "      <td>3.483085</td>\n",
       "      <td>5.163700</td>\n",
       "      <td>3.460095</td>\n",
       "      <td>4.573886</td>\n",
       "      <td>4.093010</td>\n",
       "      <td>3.417399</td>\n",
       "      <td>4.214347</td>\n",
       "      <td>7.264191</td>\n",
       "      <td>4.372103</td>\n",
       "    </tr>\n",
       "    <tr>\n",
       "      <th>2007-11-28</th>\n",
       "      <td>3.516013</td>\n",
       "      <td>5.194178</td>\n",
       "      <td>3.486763</td>\n",
       "      <td>4.607468</td>\n",
       "      <td>4.101982</td>\n",
       "      <td>3.436565</td>\n",
       "      <td>4.230622</td>\n",
       "      <td>7.292351</td>\n",
       "      <td>4.389747</td>\n",
       "    </tr>\n",
       "    <tr>\n",
       "      <th>2007-11-29</th>\n",
       "      <td>3.525478</td>\n",
       "      <td>5.216511</td>\n",
       "      <td>3.478158</td>\n",
       "      <td>4.608664</td>\n",
       "      <td>4.102809</td>\n",
       "      <td>3.433342</td>\n",
       "      <td>4.222445</td>\n",
       "      <td>7.292827</td>\n",
       "      <td>4.397408</td>\n",
       "    </tr>\n",
       "    <tr>\n",
       "      <th>2007-11-30</th>\n",
       "      <td>3.520461</td>\n",
       "      <td>5.205215</td>\n",
       "      <td>3.482163</td>\n",
       "      <td>4.586803</td>\n",
       "      <td>4.093177</td>\n",
       "      <td>3.433665</td>\n",
       "      <td>4.230913</td>\n",
       "      <td>7.300567</td>\n",
       "      <td>4.403788</td>\n",
       "    </tr>\n",
       "    <tr>\n",
       "      <th>2007-12-03</th>\n",
       "      <td>3.495901</td>\n",
       "      <td>5.186603</td>\n",
       "      <td>3.446171</td>\n",
       "      <td>4.592996</td>\n",
       "      <td>4.092677</td>\n",
       "      <td>3.413126</td>\n",
       "      <td>4.223031</td>\n",
       "      <td>7.294663</td>\n",
       "      <td>4.400358</td>\n",
       "    </tr>\n",
       "    <tr>\n",
       "      <th>2007-12-04</th>\n",
       "      <td>3.489208</td>\n",
       "      <td>5.191901</td>\n",
       "      <td>3.427515</td>\n",
       "      <td>4.600560</td>\n",
       "      <td>4.096010</td>\n",
       "      <td>3.408835</td>\n",
       "      <td>4.223910</td>\n",
       "      <td>7.288101</td>\n",
       "      <td>4.392101</td>\n",
       "    </tr>\n",
       "    <tr>\n",
       "      <th>2007-12-05</th>\n",
       "      <td>3.499231</td>\n",
       "      <td>5.223055</td>\n",
       "      <td>3.440098</td>\n",
       "      <td>4.614823</td>\n",
       "      <td>4.099995</td>\n",
       "      <td>3.449988</td>\n",
       "      <td>4.223910</td>\n",
       "      <td>7.303177</td>\n",
       "      <td>4.412313</td>\n",
       "    </tr>\n",
       "    <tr>\n",
       "      <th>2007-12-06</th>\n",
       "      <td>3.506158</td>\n",
       "      <td>5.246761</td>\n",
       "      <td>3.455054</td>\n",
       "      <td>4.628887</td>\n",
       "      <td>4.101320</td>\n",
       "      <td>3.461665</td>\n",
       "      <td>4.233817</td>\n",
       "      <td>7.318102</td>\n",
       "      <td>4.429029</td>\n",
       "    </tr>\n",
       "    <tr>\n",
       "      <th>2007-12-07</th>\n",
       "      <td>3.535145</td>\n",
       "      <td>5.269403</td>\n",
       "      <td>3.454106</td>\n",
       "      <td>4.621240</td>\n",
       "      <td>4.092176</td>\n",
       "      <td>3.461037</td>\n",
       "      <td>4.233382</td>\n",
       "      <td>7.316322</td>\n",
       "      <td>4.429745</td>\n",
       "    </tr>\n",
       "    <tr>\n",
       "      <th>2007-12-10</th>\n",
       "      <td>3.560193</td>\n",
       "      <td>5.268940</td>\n",
       "      <td>3.458837</td>\n",
       "      <td>4.626051</td>\n",
       "      <td>4.093844</td>\n",
       "      <td>3.467609</td>\n",
       "      <td>4.237001</td>\n",
       "      <td>7.323804</td>\n",
       "      <td>4.435449</td>\n",
       "    </tr>\n",
       "    <tr>\n",
       "      <th>...</th>\n",
       "      <td>...</td>\n",
       "      <td>...</td>\n",
       "      <td>...</td>\n",
       "      <td>...</td>\n",
       "      <td>...</td>\n",
       "      <td>...</td>\n",
       "      <td>...</td>\n",
       "      <td>...</td>\n",
       "      <td>...</td>\n",
       "    </tr>\n",
       "    <tr>\n",
       "      <th>2011-09-02</th>\n",
       "      <td>2.488234</td>\n",
       "      <td>5.924389</td>\n",
       "      <td>2.747912</td>\n",
       "      <td>5.117874</td>\n",
       "      <td>4.159976</td>\n",
       "      <td>3.250374</td>\n",
       "      <td>4.147885</td>\n",
       "      <td>7.068146</td>\n",
       "      <td>4.278609</td>\n",
       "    </tr>\n",
       "    <tr>\n",
       "      <th>2011-09-06</th>\n",
       "      <td>2.465554</td>\n",
       "      <td>5.939487</td>\n",
       "      <td>2.715357</td>\n",
       "      <td>5.106612</td>\n",
       "      <td>4.168833</td>\n",
       "      <td>3.239071</td>\n",
       "      <td>4.134366</td>\n",
       "      <td>7.060682</td>\n",
       "      <td>4.264790</td>\n",
       "    </tr>\n",
       "    <tr>\n",
       "      <th>2011-09-07</th>\n",
       "      <td>2.505526</td>\n",
       "      <td>5.950460</td>\n",
       "      <td>2.750471</td>\n",
       "      <td>5.119848</td>\n",
       "      <td>4.180981</td>\n",
       "      <td>3.258097</td>\n",
       "      <td>4.120986</td>\n",
       "      <td>7.088926</td>\n",
       "      <td>4.299324</td>\n",
       "    </tr>\n",
       "    <tr>\n",
       "      <th>2011-09-08</th>\n",
       "      <td>2.487404</td>\n",
       "      <td>5.951007</td>\n",
       "      <td>2.736962</td>\n",
       "      <td>5.107459</td>\n",
       "      <td>4.173618</td>\n",
       "      <td>3.266522</td>\n",
       "      <td>4.116432</td>\n",
       "      <td>7.078257</td>\n",
       "      <td>4.287991</td>\n",
       "    </tr>\n",
       "    <tr>\n",
       "      <th>2011-09-09</th>\n",
       "      <td>2.449279</td>\n",
       "      <td>5.933518</td>\n",
       "      <td>2.704711</td>\n",
       "      <td>5.083700</td>\n",
       "      <td>4.153242</td>\n",
       "      <td>3.248046</td>\n",
       "      <td>4.094178</td>\n",
       "      <td>7.051189</td>\n",
       "      <td>4.262821</td>\n",
       "    </tr>\n",
       "    <tr>\n",
       "      <th>2011-09-12</th>\n",
       "      <td>2.446685</td>\n",
       "      <td>5.940013</td>\n",
       "      <td>2.699346</td>\n",
       "      <td>5.090186</td>\n",
       "      <td>4.152456</td>\n",
       "      <td>3.253857</td>\n",
       "      <td>4.096675</td>\n",
       "      <td>7.058130</td>\n",
       "      <td>4.274441</td>\n",
       "    </tr>\n",
       "    <tr>\n",
       "      <th>2011-09-13</th>\n",
       "      <td>2.453588</td>\n",
       "      <td>5.952256</td>\n",
       "      <td>2.725235</td>\n",
       "      <td>5.096385</td>\n",
       "      <td>4.152771</td>\n",
       "      <td>3.259634</td>\n",
       "      <td>4.103304</td>\n",
       "      <td>7.067209</td>\n",
       "      <td>4.271793</td>\n",
       "    </tr>\n",
       "    <tr>\n",
       "      <th>2011-09-14</th>\n",
       "      <td>2.462150</td>\n",
       "      <td>5.964350</td>\n",
       "      <td>2.749832</td>\n",
       "      <td>5.119430</td>\n",
       "      <td>4.154655</td>\n",
       "      <td>3.277145</td>\n",
       "      <td>4.120337</td>\n",
       "      <td>7.080599</td>\n",
       "      <td>4.285516</td>\n",
       "    </tr>\n",
       "    <tr>\n",
       "      <th>2011-09-15</th>\n",
       "      <td>2.483239</td>\n",
       "      <td>5.973708</td>\n",
       "      <td>2.777576</td>\n",
       "      <td>5.136328</td>\n",
       "      <td>4.165114</td>\n",
       "      <td>3.295466</td>\n",
       "      <td>4.146621</td>\n",
       "      <td>7.097640</td>\n",
       "      <td>4.304200</td>\n",
       "    </tr>\n",
       "    <tr>\n",
       "      <th>2011-09-16</th>\n",
       "      <td>2.482404</td>\n",
       "      <td>5.992714</td>\n",
       "      <td>2.793004</td>\n",
       "      <td>5.153234</td>\n",
       "      <td>4.168060</td>\n",
       "      <td>3.300271</td>\n",
       "      <td>4.127941</td>\n",
       "      <td>7.103330</td>\n",
       "      <td>4.311470</td>\n",
       "    </tr>\n",
       "    <tr>\n",
       "      <th>2011-09-19</th>\n",
       "      <td>2.449279</td>\n",
       "      <td>6.020125</td>\n",
       "      <td>2.783776</td>\n",
       "      <td>5.154043</td>\n",
       "      <td>4.161068</td>\n",
       "      <td>3.303585</td>\n",
       "      <td>4.103635</td>\n",
       "      <td>7.093479</td>\n",
       "      <td>4.300003</td>\n",
       "    </tr>\n",
       "    <tr>\n",
       "      <th>2011-09-20</th>\n",
       "      <td>2.420368</td>\n",
       "      <td>6.024537</td>\n",
       "      <td>2.775086</td>\n",
       "      <td>5.163185</td>\n",
       "      <td>4.162315</td>\n",
       "      <td>3.295096</td>\n",
       "      <td>4.100824</td>\n",
       "      <td>7.091817</td>\n",
       "      <td>4.304200</td>\n",
       "    </tr>\n",
       "    <tr>\n",
       "      <th>2011-09-21</th>\n",
       "      <td>2.383243</td>\n",
       "      <td>6.021363</td>\n",
       "      <td>2.733068</td>\n",
       "      <td>5.153407</td>\n",
       "      <td>4.145196</td>\n",
       "      <td>3.257712</td>\n",
       "      <td>4.107425</td>\n",
       "      <td>7.061986</td>\n",
       "      <td>4.276249</td>\n",
       "    </tr>\n",
       "    <tr>\n",
       "      <th>2011-09-22</th>\n",
       "      <td>2.313525</td>\n",
       "      <td>5.996004</td>\n",
       "      <td>2.710713</td>\n",
       "      <td>5.127648</td>\n",
       "      <td>4.125843</td>\n",
       "      <td>3.221273</td>\n",
       "      <td>4.109562</td>\n",
       "      <td>7.029583</td>\n",
       "      <td>4.237579</td>\n",
       "    </tr>\n",
       "    <tr>\n",
       "      <th>2011-09-23</th>\n",
       "      <td>2.309561</td>\n",
       "      <td>6.002157</td>\n",
       "      <td>2.721953</td>\n",
       "      <td>5.131909</td>\n",
       "      <td>4.120500</td>\n",
       "      <td>3.221273</td>\n",
       "      <td>4.099995</td>\n",
       "      <td>7.035647</td>\n",
       "      <td>4.238589</td>\n",
       "    </tr>\n",
       "    <tr>\n",
       "      <th>2011-09-26</th>\n",
       "      <td>2.346602</td>\n",
       "      <td>5.999358</td>\n",
       "      <td>2.745346</td>\n",
       "      <td>5.161982</td>\n",
       "      <td>4.138202</td>\n",
       "      <td>3.236323</td>\n",
       "      <td>4.125359</td>\n",
       "      <td>7.058715</td>\n",
       "      <td>4.272770</td>\n",
       "    </tr>\n",
       "    <tr>\n",
       "      <th>2011-09-27</th>\n",
       "      <td>2.349469</td>\n",
       "      <td>5.989613</td>\n",
       "      <td>2.757475</td>\n",
       "      <td>5.180153</td>\n",
       "      <td>4.156067</td>\n",
       "      <td>3.245323</td>\n",
       "      <td>4.134046</td>\n",
       "      <td>7.069347</td>\n",
       "      <td>4.289226</td>\n",
       "    </tr>\n",
       "    <tr>\n",
       "      <th>2011-09-28</th>\n",
       "      <td>2.299581</td>\n",
       "      <td>5.983961</td>\n",
       "      <td>2.737609</td>\n",
       "      <td>5.179252</td>\n",
       "      <td>4.147095</td>\n",
       "      <td>3.241811</td>\n",
       "      <td>4.126650</td>\n",
       "      <td>7.048439</td>\n",
       "      <td>4.277638</td>\n",
       "    </tr>\n",
       "    <tr>\n",
       "      <th>2011-09-29</th>\n",
       "      <td>2.308567</td>\n",
       "      <td>5.967607</td>\n",
       "      <td>2.763800</td>\n",
       "      <td>5.188335</td>\n",
       "      <td>4.157319</td>\n",
       "      <td>3.236716</td>\n",
       "      <td>4.136446</td>\n",
       "      <td>7.056520</td>\n",
       "      <td>4.302442</td>\n",
       "    </tr>\n",
       "    <tr>\n",
       "      <th>2011-09-30</th>\n",
       "      <td>2.258633</td>\n",
       "      <td>5.943639</td>\n",
       "      <td>2.722610</td>\n",
       "      <td>5.164043</td>\n",
       "      <td>4.154028</td>\n",
       "      <td>3.214466</td>\n",
       "      <td>4.125520</td>\n",
       "      <td>7.031229</td>\n",
       "      <td>4.285378</td>\n",
       "    </tr>\n",
       "    <tr>\n",
       "      <th>2011-10-03</th>\n",
       "      <td>2.186051</td>\n",
       "      <td>5.925859</td>\n",
       "      <td>2.687167</td>\n",
       "      <td>5.154966</td>\n",
       "      <td>4.128424</td>\n",
       "      <td>3.199897</td>\n",
       "      <td>4.099166</td>\n",
       "      <td>7.002365</td>\n",
       "      <td>4.264790</td>\n",
       "    </tr>\n",
       "    <tr>\n",
       "      <th>2011-10-04</th>\n",
       "      <td>2.210470</td>\n",
       "      <td>5.920237</td>\n",
       "      <td>2.698673</td>\n",
       "      <td>5.163299</td>\n",
       "      <td>4.129873</td>\n",
       "      <td>3.232384</td>\n",
       "      <td>4.101817</td>\n",
       "      <td>7.024605</td>\n",
       "      <td>4.288128</td>\n",
       "    </tr>\n",
       "    <tr>\n",
       "      <th>2011-10-05</th>\n",
       "      <td>2.237513</td>\n",
       "      <td>5.935555</td>\n",
       "      <td>2.725890</td>\n",
       "      <td>5.175302</td>\n",
       "      <td>4.132764</td>\n",
       "      <td>3.253857</td>\n",
       "      <td>4.099166</td>\n",
       "      <td>7.042312</td>\n",
       "      <td>4.303389</td>\n",
       "    </tr>\n",
       "    <tr>\n",
       "      <th>2011-10-06</th>\n",
       "      <td>2.290513</td>\n",
       "      <td>5.933226</td>\n",
       "      <td>2.742774</td>\n",
       "      <td>5.202302</td>\n",
       "      <td>4.140114</td>\n",
       "      <td>3.271089</td>\n",
       "      <td>4.103800</td>\n",
       "      <td>7.060451</td>\n",
       "      <td>4.302578</td>\n",
       "    </tr>\n",
       "    <tr>\n",
       "      <th>2011-10-07</th>\n",
       "      <td>2.273156</td>\n",
       "      <td>5.912962</td>\n",
       "      <td>2.740840</td>\n",
       "      <td>5.206147</td>\n",
       "      <td>4.145196</td>\n",
       "      <td>3.267666</td>\n",
       "      <td>4.111202</td>\n",
       "      <td>7.052254</td>\n",
       "      <td>4.298101</td>\n",
       "    </tr>\n",
       "    <tr>\n",
       "      <th>2011-10-10</th>\n",
       "      <td>2.311545</td>\n",
       "      <td>5.963091</td>\n",
       "      <td>2.781301</td>\n",
       "      <td>5.229074</td>\n",
       "      <td>4.165579</td>\n",
       "      <td>3.293612</td>\n",
       "      <td>4.125035</td>\n",
       "      <td>7.085809</td>\n",
       "      <td>4.334411</td>\n",
       "    </tr>\n",
       "    <tr>\n",
       "      <th>2011-10-11</th>\n",
       "      <td>2.332144</td>\n",
       "      <td>5.992189</td>\n",
       "      <td>2.781301</td>\n",
       "      <td>5.220356</td>\n",
       "      <td>4.158258</td>\n",
       "      <td>3.295837</td>\n",
       "      <td>4.110054</td>\n",
       "      <td>7.086353</td>\n",
       "      <td>4.334280</td>\n",
       "    </tr>\n",
       "    <tr>\n",
       "      <th>2011-10-12</th>\n",
       "      <td>2.307573</td>\n",
       "      <td>5.996925</td>\n",
       "      <td>2.797281</td>\n",
       "      <td>5.226392</td>\n",
       "      <td>4.164026</td>\n",
       "      <td>3.294354</td>\n",
       "      <td>4.138361</td>\n",
       "      <td>7.096100</td>\n",
       "      <td>4.345881</td>\n",
       "    </tr>\n",
       "    <tr>\n",
       "      <th>2011-10-13</th>\n",
       "      <td>2.312535</td>\n",
       "      <td>6.012321</td>\n",
       "      <td>2.786245</td>\n",
       "      <td>5.230146</td>\n",
       "      <td>4.162470</td>\n",
       "      <td>3.302481</td>\n",
       "      <td>4.132924</td>\n",
       "      <td>7.093122</td>\n",
       "      <td>4.335590</td>\n",
       "    </tr>\n",
       "    <tr>\n",
       "      <th>2011-10-14</th>\n",
       "      <td>2.328253</td>\n",
       "      <td>6.045005</td>\n",
       "      <td>2.809403</td>\n",
       "      <td>5.249810</td>\n",
       "      <td>4.170070</td>\n",
       "      <td>3.305787</td>\n",
       "      <td>4.130998</td>\n",
       "      <td>7.110353</td>\n",
       "      <td>4.358118</td>\n",
       "    </tr>\n",
       "  </tbody>\n",
       "</table>\n",
       "<p>1000 rows × 9 columns</p>\n",
       "</div>"
      ],
      "text/plain": [
       "                  AA      AAPL        GE       IBM       JNJ      MSFT  \\\n",
       "2007-10-29  3.621938  5.220842  3.539799  4.670771  4.045329  3.458837   \n",
       "2007-10-30  3.595393  5.231109  3.537766  4.664853  4.042876  3.487375   \n",
       "2007-10-31  3.605226  5.246761  3.554491  4.682224  4.048301  3.521644   \n",
       "2007-11-01  3.561614  5.233459  3.534270  4.660794  4.040416  3.528417   \n",
       "2007-11-02  3.578786  5.235750  3.534270  4.668990  4.042174  3.528417   \n",
       "2007-11-05  3.561614  5.226714  3.530763  4.658521  4.037774  3.519573   \n",
       "2007-11-06  3.579065  5.256401  3.530470  4.656528  4.039536  3.510650   \n",
       "2007-11-07  3.548467  5.227358  3.502550  4.641406  4.028739  3.485845   \n",
       "2007-11-08  3.555348  5.167468  3.501043  4.595625  4.039360  3.463859   \n",
       "2007-11-09  3.540089  5.108185  3.484619  4.538817  4.048126  3.434310   \n",
       "2007-11-12  3.506458  5.035393  3.481240  4.550714  4.065602  3.423937   \n",
       "2007-11-13  3.527536  5.135563  3.505858  4.587719  4.080584  3.459152   \n",
       "2007-11-14  3.533687  5.112650  3.500741  4.570165  4.074312  3.443618   \n",
       "2007-11-15  3.519277  5.101694  3.482777  4.571717  4.074142  3.438493   \n",
       "2007-11-16  3.518684  5.114334  3.491647  4.583129  4.086984  3.448081   \n",
       "2007-11-19  3.484005  5.099562  3.478776  4.558288  4.084631  3.444257   \n",
       "2007-11-20  3.492865  5.129011  3.475686  4.569957  4.085472  3.462606   \n",
       "2007-11-21  3.486763  5.126698  3.452524  4.558288  4.078046  3.452207   \n",
       "2007-11-23  3.486151  5.144816  3.466048  4.576050  4.080246  3.448717   \n",
       "2007-11-26  3.478467  5.150629  3.440739  4.555875  4.087656  3.414772   \n",
       "2007-11-27  3.483085  5.163700  3.460095  4.573886  4.093010  3.417399   \n",
       "2007-11-28  3.516013  5.194178  3.486763  4.607468  4.101982  3.436565   \n",
       "2007-11-29  3.525478  5.216511  3.478158  4.608664  4.102809  3.433342   \n",
       "2007-11-30  3.520461  5.205215  3.482163  4.586803  4.093177  3.433665   \n",
       "2007-12-03  3.495901  5.186603  3.446171  4.592996  4.092677  3.413126   \n",
       "2007-12-04  3.489208  5.191901  3.427515  4.600560  4.096010  3.408835   \n",
       "2007-12-05  3.499231  5.223055  3.440098  4.614823  4.099995  3.449988   \n",
       "2007-12-06  3.506158  5.246761  3.455054  4.628887  4.101320  3.461665   \n",
       "2007-12-07  3.535145  5.269403  3.454106  4.621240  4.092176  3.461037   \n",
       "2007-12-10  3.560193  5.268940  3.458837  4.626051  4.093844  3.467609   \n",
       "...              ...       ...       ...       ...       ...       ...   \n",
       "2011-09-02  2.488234  5.924389  2.747912  5.117874  4.159976  3.250374   \n",
       "2011-09-06  2.465554  5.939487  2.715357  5.106612  4.168833  3.239071   \n",
       "2011-09-07  2.505526  5.950460  2.750471  5.119848  4.180981  3.258097   \n",
       "2011-09-08  2.487404  5.951007  2.736962  5.107459  4.173618  3.266522   \n",
       "2011-09-09  2.449279  5.933518  2.704711  5.083700  4.153242  3.248046   \n",
       "2011-09-12  2.446685  5.940013  2.699346  5.090186  4.152456  3.253857   \n",
       "2011-09-13  2.453588  5.952256  2.725235  5.096385  4.152771  3.259634   \n",
       "2011-09-14  2.462150  5.964350  2.749832  5.119430  4.154655  3.277145   \n",
       "2011-09-15  2.483239  5.973708  2.777576  5.136328  4.165114  3.295466   \n",
       "2011-09-16  2.482404  5.992714  2.793004  5.153234  4.168060  3.300271   \n",
       "2011-09-19  2.449279  6.020125  2.783776  5.154043  4.161068  3.303585   \n",
       "2011-09-20  2.420368  6.024537  2.775086  5.163185  4.162315  3.295096   \n",
       "2011-09-21  2.383243  6.021363  2.733068  5.153407  4.145196  3.257712   \n",
       "2011-09-22  2.313525  5.996004  2.710713  5.127648  4.125843  3.221273   \n",
       "2011-09-23  2.309561  6.002157  2.721953  5.131909  4.120500  3.221273   \n",
       "2011-09-26  2.346602  5.999358  2.745346  5.161982  4.138202  3.236323   \n",
       "2011-09-27  2.349469  5.989613  2.757475  5.180153  4.156067  3.245323   \n",
       "2011-09-28  2.299581  5.983961  2.737609  5.179252  4.147095  3.241811   \n",
       "2011-09-29  2.308567  5.967607  2.763800  5.188335  4.157319  3.236716   \n",
       "2011-09-30  2.258633  5.943639  2.722610  5.164043  4.154028  3.214466   \n",
       "2011-10-03  2.186051  5.925859  2.687167  5.154966  4.128424  3.199897   \n",
       "2011-10-04  2.210470  5.920237  2.698673  5.163299  4.129873  3.232384   \n",
       "2011-10-05  2.237513  5.935555  2.725890  5.175302  4.132764  3.253857   \n",
       "2011-10-06  2.290513  5.933226  2.742774  5.202302  4.140114  3.271089   \n",
       "2011-10-07  2.273156  5.912962  2.740840  5.206147  4.145196  3.267666   \n",
       "2011-10-10  2.311545  5.963091  2.781301  5.229074  4.165579  3.293612   \n",
       "2011-10-11  2.332144  5.992189  2.781301  5.220356  4.158258  3.295837   \n",
       "2011-10-12  2.307573  5.996925  2.797281  5.226392  4.164026  3.294354   \n",
       "2011-10-13  2.312535  6.012321  2.786245  5.230146  4.162470  3.302481   \n",
       "2011-10-14  2.328253  6.045005  2.809403  5.249810  4.170070  3.305787   \n",
       "\n",
       "                 PEP       SPX       XOM  \n",
       "2007-10-29  4.184642  7.340174  4.448633  \n",
       "2007-10-30  4.186620  7.333689  4.421848  \n",
       "2007-10-31  4.184947  7.345610  4.431174  \n",
       "2007-11-01  4.166820  7.318831  4.392472  \n",
       "2007-11-02  4.174849  7.319633  4.386019  \n",
       "2007-11-05  4.171923  7.314666  4.382901  \n",
       "2007-11-06  4.181897  7.326643  4.413525  \n",
       "2007-11-07  4.166045  7.296834  4.381527  \n",
       "2007-11-08  4.182050  7.296257  4.406719  \n",
       "2007-11-09  4.181745  7.281867  4.377516  \n",
       "2007-11-12  4.169297  7.271829  4.350536  \n",
       "2007-11-13  4.179757  7.300507  4.377893  \n",
       "2007-11-14  4.189503  7.293412  4.371345  \n",
       "2007-11-15  4.183118  7.280112  4.350020  \n",
       "2007-11-16  4.190866  7.285328  4.357222  \n",
       "2007-11-19  4.203199  7.267714  4.345492  \n",
       "2007-11-20  4.200055  7.272190  4.388630  \n",
       "2007-11-21  4.202750  7.256135  4.379774  \n",
       "2007-11-23  4.209012  7.272884  4.393955  \n",
       "2007-11-26  4.198104  7.249371  4.363990  \n",
       "2007-11-27  4.214347  7.264191  4.372103  \n",
       "2007-11-28  4.230622  7.292351  4.389747  \n",
       "2007-11-29  4.222445  7.292827  4.397408  \n",
       "2007-11-30  4.230913  7.300567  4.403788  \n",
       "2007-12-03  4.223031  7.294663  4.400358  \n",
       "2007-12-04  4.223910  7.288101  4.392101  \n",
       "2007-12-05  4.223910  7.303177  4.412313  \n",
       "2007-12-06  4.233817  7.318102  4.429029  \n",
       "2007-12-07  4.233382  7.316322  4.429745  \n",
       "2007-12-10  4.237001  7.323804  4.435449  \n",
       "...              ...       ...       ...  \n",
       "2011-09-02  4.147885  7.068146  4.278609  \n",
       "2011-09-06  4.134366  7.060682  4.264790  \n",
       "2011-09-07  4.120986  7.088926  4.299324  \n",
       "2011-09-08  4.116432  7.078257  4.287991  \n",
       "2011-09-09  4.094178  7.051189  4.262821  \n",
       "2011-09-12  4.096675  7.058130  4.274441  \n",
       "2011-09-13  4.103304  7.067209  4.271793  \n",
       "2011-09-14  4.120337  7.080599  4.285516  \n",
       "2011-09-15  4.146621  7.097640  4.304200  \n",
       "2011-09-16  4.127941  7.103330  4.311470  \n",
       "2011-09-19  4.103635  7.093479  4.300003  \n",
       "2011-09-20  4.100824  7.091817  4.304200  \n",
       "2011-09-21  4.107425  7.061986  4.276249  \n",
       "2011-09-22  4.109562  7.029583  4.237579  \n",
       "2011-09-23  4.099995  7.035647  4.238589  \n",
       "2011-09-26  4.125359  7.058715  4.272770  \n",
       "2011-09-27  4.134046  7.069347  4.289226  \n",
       "2011-09-28  4.126650  7.048439  4.277638  \n",
       "2011-09-29  4.136446  7.056520  4.302442  \n",
       "2011-09-30  4.125520  7.031229  4.285378  \n",
       "2011-10-03  4.099166  7.002365  4.264790  \n",
       "2011-10-04  4.101817  7.024605  4.288128  \n",
       "2011-10-05  4.099166  7.042312  4.303389  \n",
       "2011-10-06  4.103800  7.060451  4.302578  \n",
       "2011-10-07  4.111202  7.052254  4.298101  \n",
       "2011-10-10  4.125035  7.085809  4.334411  \n",
       "2011-10-11  4.110054  7.086353  4.334280  \n",
       "2011-10-12  4.138361  7.096100  4.345881  \n",
       "2011-10-13  4.132924  7.093122  4.335590  \n",
       "2011-10-14  4.130998  7.110353  4.358118  \n",
       "\n",
       "[1000 rows x 9 columns]"
      ]
     },
     "execution_count": 223,
     "metadata": {},
     "output_type": "execute_result"
    }
   ],
   "source": [
    "np.log(close_px)"
   ]
  },
  {
   "cell_type": "markdown",
   "metadata": {},
   "source": [
    "# Plotting"
   ]
  },
  {
   "cell_type": "code",
   "execution_count": 224,
   "metadata": {},
   "outputs": [
    {
     "data": {
      "text/html": [
       "<div>\n",
       "<style>\n",
       "    .dataframe thead tr:only-child th {\n",
       "        text-align: right;\n",
       "    }\n",
       "\n",
       "    .dataframe thead th {\n",
       "        text-align: left;\n",
       "    }\n",
       "\n",
       "    .dataframe tbody tr th {\n",
       "        vertical-align: top;\n",
       "    }\n",
       "</style>\n",
       "<table border=\"1\" class=\"dataframe\">\n",
       "  <thead>\n",
       "    <tr style=\"text-align: right;\">\n",
       "      <th></th>\n",
       "      <th>AAPL</th>\n",
       "      <th>IBM</th>\n",
       "      <th>MSFT</th>\n",
       "      <th>XOM</th>\n",
       "    </tr>\n",
       "  </thead>\n",
       "  <tbody>\n",
       "    <tr>\n",
       "      <th>2007-10-29</th>\n",
       "      <td>185.09</td>\n",
       "      <td>106.78</td>\n",
       "      <td>31.78</td>\n",
       "      <td>85.51</td>\n",
       "    </tr>\n",
       "    <tr>\n",
       "      <th>2007-10-30</th>\n",
       "      <td>187.00</td>\n",
       "      <td>106.15</td>\n",
       "      <td>32.70</td>\n",
       "      <td>83.25</td>\n",
       "    </tr>\n",
       "    <tr>\n",
       "      <th>2007-10-31</th>\n",
       "      <td>189.95</td>\n",
       "      <td>108.01</td>\n",
       "      <td>33.84</td>\n",
       "      <td>84.03</td>\n",
       "    </tr>\n",
       "    <tr>\n",
       "      <th>2007-11-01</th>\n",
       "      <td>187.44</td>\n",
       "      <td>105.72</td>\n",
       "      <td>34.07</td>\n",
       "      <td>80.84</td>\n",
       "    </tr>\n",
       "    <tr>\n",
       "      <th>2007-11-02</th>\n",
       "      <td>187.87</td>\n",
       "      <td>106.59</td>\n",
       "      <td>34.07</td>\n",
       "      <td>80.32</td>\n",
       "    </tr>\n",
       "  </tbody>\n",
       "</table>\n",
       "</div>"
      ],
      "text/plain": [
       "              AAPL     IBM   MSFT    XOM\n",
       "2007-10-29  185.09  106.78  31.78  85.51\n",
       "2007-10-30  187.00  106.15  32.70  83.25\n",
       "2007-10-31  189.95  108.01  33.84  84.03\n",
       "2007-11-01  187.44  105.72  34.07  80.84\n",
       "2007-11-02  187.87  106.59  34.07  80.32"
      ]
     },
     "execution_count": 224,
     "metadata": {},
     "output_type": "execute_result"
    }
   ],
   "source": [
    "close_px[['AAPL','IBM','MSFT','XOM']].head()"
   ]
  },
  {
   "cell_type": "code",
   "execution_count": 237,
   "metadata": {},
   "outputs": [
    {
     "data": {
      "text/plain": [
       "<matplotlib.axes._subplots.AxesSubplot at 0x9be0570>"
      ]
     },
     "execution_count": 237,
     "metadata": {},
     "output_type": "execute_result"
    },
    {
     "data": {
      "image/png": "[encoded data removed]",
      "text/plain": [
       "<matplotlib.figure.Figure at 0x9cb4710>"
      ]
     },
     "metadata": {},
     "output_type": "display_data"
    }
   ],
   "source": [
    "close_px[['AAPL','IBM','MSFT','XOM']].plot()"
   ]
  },
  {
   "cell_type": "code",
   "execution_count": 238,
   "metadata": {},
   "outputs": [
    {
     "data": {
      "text/plain": [
       "AA        10.26\n",
       "AAPL     422.00\n",
       "GE        16.60\n",
       "IBM      190.53\n",
       "JNJ       64.72\n",
       "MSFT      27.27\n",
       "PEP       62.24\n",
       "SPX     1224.58\n",
       "XOM       78.11\n",
       "Name: 2011-10-14 00:00:00, dtype: float64"
      ]
     },
     "execution_count": 238,
     "metadata": {},
     "output_type": "execute_result"
    }
   ],
   "source": [
    "close_px.iloc[-1]"
   ]
  },
  {
   "cell_type": "code",
   "execution_count": 239,
   "metadata": {},
   "outputs": [
    {
     "data": {
      "text/plain": [
       "<matplotlib.lines.Line2D at 0xa054190>"
      ]
     },
     "execution_count": 239,
     "metadata": {},
     "output_type": "execute_result"
    },
    {
     "data": {
      "image/png": "[encoded data removed]",
      "text/plain": [
       "<matplotlib.figure.Figure at 0x9f7fa50>"
      ]
     },
     "metadata": {},
     "output_type": "display_data"
    }
   ],
   "source": [
    "close_px.iloc[-1].plot(kind='bar')\n",
    "plt.title('Prices on %s' % close_px.index[-1])\n",
    "plt.axhline(0)"
   ]
  },
  {
   "cell_type": "markdown",
   "metadata": {},
   "source": [
    "#  Hierarchical Indexing "
   ]
  },
  {
   "cell_type": "code",
   "execution_count": 228,
   "metadata": {
    "collapsed": true
   },
   "outputs": [],
   "source": [
    "index=MultiIndex(levels=[['foo','bar','baz','qux'],['one','two','three']],labels=[[0, 0, 0, 1, 1, 2, 2, 3, 3, 3],\n",
    "                                   [0, 1, 2, 0, 1, 1, 2, 0, 1, 2]])\n",
    "hdf=DataFrame(np.random.randn(10,3),index=index,columns=['A','B','C'])"
   ]
  },
  {
   "cell_type": "code",
   "execution_count": 229,
   "metadata": {},
   "outputs": [
    {
     "data": {
      "text/html": [
       "<div>\n",
       "<style>\n",
       "    .dataframe thead tr:only-child th {\n",
       "        text-align: right;\n",
       "    }\n",
       "\n",
       "    .dataframe thead th {\n",
       "        text-align: left;\n",
       "    }\n",
       "\n",
       "    .dataframe tbody tr th {\n",
       "        vertical-align: top;\n",
       "    }\n",
       "</style>\n",
       "<table border=\"1\" class=\"dataframe\">\n",
       "  <thead>\n",
       "    <tr style=\"text-align: right;\">\n",
       "      <th></th>\n",
       "      <th></th>\n",
       "      <th>A</th>\n",
       "      <th>B</th>\n",
       "      <th>C</th>\n",
       "    </tr>\n",
       "  </thead>\n",
       "  <tbody>\n",
       "    <tr>\n",
       "      <th rowspan=\"3\" valign=\"top\">foo</th>\n",
       "      <th>one</th>\n",
       "      <td>-1.553892</td>\n",
       "      <td>0.113046</td>\n",
       "      <td>0.437603</td>\n",
       "    </tr>\n",
       "    <tr>\n",
       "      <th>two</th>\n",
       "      <td>1.067778</td>\n",
       "      <td>-0.238468</td>\n",
       "      <td>-0.196865</td>\n",
       "    </tr>\n",
       "    <tr>\n",
       "      <th>three</th>\n",
       "      <td>0.049747</td>\n",
       "      <td>0.300654</td>\n",
       "      <td>-1.105675</td>\n",
       "    </tr>\n",
       "    <tr>\n",
       "      <th rowspan=\"2\" valign=\"top\">bar</th>\n",
       "      <th>one</th>\n",
       "      <td>0.485553</td>\n",
       "      <td>-1.531675</td>\n",
       "      <td>-0.361036</td>\n",
       "    </tr>\n",
       "    <tr>\n",
       "      <th>two</th>\n",
       "      <td>-0.215824</td>\n",
       "      <td>0.919282</td>\n",
       "      <td>-0.439861</td>\n",
       "    </tr>\n",
       "    <tr>\n",
       "      <th rowspan=\"2\" valign=\"top\">baz</th>\n",
       "      <th>two</th>\n",
       "      <td>-0.110272</td>\n",
       "      <td>-1.249476</td>\n",
       "      <td>-0.943162</td>\n",
       "    </tr>\n",
       "    <tr>\n",
       "      <th>three</th>\n",
       "      <td>-1.188253</td>\n",
       "      <td>-1.348138</td>\n",
       "      <td>-0.715439</td>\n",
       "    </tr>\n",
       "    <tr>\n",
       "      <th rowspan=\"3\" valign=\"top\">qux</th>\n",
       "      <th>one</th>\n",
       "      <td>-1.674312</td>\n",
       "      <td>-0.876105</td>\n",
       "      <td>-1.016558</td>\n",
       "    </tr>\n",
       "    <tr>\n",
       "      <th>two</th>\n",
       "      <td>-1.330107</td>\n",
       "      <td>1.436056</td>\n",
       "      <td>0.793003</td>\n",
       "    </tr>\n",
       "    <tr>\n",
       "      <th>three</th>\n",
       "      <td>-0.299646</td>\n",
       "      <td>-0.238612</td>\n",
       "      <td>1.456787</td>\n",
       "    </tr>\n",
       "  </tbody>\n",
       "</table>\n",
       "</div>"
      ],
      "text/plain": [
       "                  A         B         C\n",
       "foo one   -1.553892  0.113046  0.437603\n",
       "    two    1.067778 -0.238468 -0.196865\n",
       "    three  0.049747  0.300654 -1.105675\n",
       "bar one    0.485553 -1.531675 -0.361036\n",
       "    two   -0.215824  0.919282 -0.439861\n",
       "baz two   -0.110272 -1.249476 -0.943162\n",
       "    three -1.188253 -1.348138 -0.715439\n",
       "qux one   -1.674312 -0.876105 -1.016558\n",
       "    two   -1.330107  1.436056  0.793003\n",
       "    three -0.299646 -0.238612  1.456787"
      ]
     },
     "execution_count": 229,
     "metadata": {},
     "output_type": "execute_result"
    }
   ],
   "source": [
    "hdf"
   ]
  },
  {
   "cell_type": "code",
   "execution_count": 230,
   "metadata": {},
   "outputs": [
    {
     "data": {
      "text/html": [
       "<div>\n",
       "<style>\n",
       "    .dataframe thead tr:only-child th {\n",
       "        text-align: right;\n",
       "    }\n",
       "\n",
       "    .dataframe thead th {\n",
       "        text-align: left;\n",
       "    }\n",
       "\n",
       "    .dataframe tbody tr th {\n",
       "        vertical-align: top;\n",
       "    }\n",
       "</style>\n",
       "<table border=\"1\" class=\"dataframe\">\n",
       "  <thead>\n",
       "    <tr style=\"text-align: right;\">\n",
       "      <th></th>\n",
       "      <th>A</th>\n",
       "      <th>B</th>\n",
       "      <th>C</th>\n",
       "    </tr>\n",
       "  </thead>\n",
       "  <tbody>\n",
       "    <tr>\n",
       "      <th>one</th>\n",
       "      <td>-1.553892</td>\n",
       "      <td>0.113046</td>\n",
       "      <td>0.437603</td>\n",
       "    </tr>\n",
       "    <tr>\n",
       "      <th>two</th>\n",
       "      <td>1.067778</td>\n",
       "      <td>-0.238468</td>\n",
       "      <td>-0.196865</td>\n",
       "    </tr>\n",
       "    <tr>\n",
       "      <th>three</th>\n",
       "      <td>0.049747</td>\n",
       "      <td>0.300654</td>\n",
       "      <td>-1.105675</td>\n",
       "    </tr>\n",
       "  </tbody>\n",
       "</table>\n",
       "</div>"
      ],
      "text/plain": [
       "              A         B         C\n",
       "one   -1.553892  0.113046  0.437603\n",
       "two    1.067778 -0.238468 -0.196865\n",
       "three  0.049747  0.300654 -1.105675"
      ]
     },
     "execution_count": 230,
     "metadata": {},
     "output_type": "execute_result"
    }
   ],
   "source": [
    "hdf.loc['foo']"
   ]
  },
  {
   "cell_type": "code",
   "execution_count": 231,
   "metadata": {},
   "outputs": [
    {
     "data": {
      "text/html": [
       "<div>\n",
       "<style>\n",
       "    .dataframe thead tr:only-child th {\n",
       "        text-align: right;\n",
       "    }\n",
       "\n",
       "    .dataframe thead th {\n",
       "        text-align: left;\n",
       "    }\n",
       "\n",
       "    .dataframe tbody tr th {\n",
       "        vertical-align: top;\n",
       "    }\n",
       "</style>\n",
       "<table border=\"1\" class=\"dataframe\">\n",
       "  <thead>\n",
       "    <tr style=\"text-align: right;\">\n",
       "      <th></th>\n",
       "      <th></th>\n",
       "      <th>A</th>\n",
       "      <th>B</th>\n",
       "      <th>C</th>\n",
       "    </tr>\n",
       "  </thead>\n",
       "  <tbody>\n",
       "    <tr>\n",
       "      <th rowspan=\"3\" valign=\"top\">foo</th>\n",
       "      <th>one</th>\n",
       "      <td>0.000000</td>\n",
       "      <td>0.000000</td>\n",
       "      <td>0.000000</td>\n",
       "    </tr>\n",
       "    <tr>\n",
       "      <th>two</th>\n",
       "      <td>0.000000</td>\n",
       "      <td>0.000000</td>\n",
       "      <td>0.000000</td>\n",
       "    </tr>\n",
       "    <tr>\n",
       "      <th>three</th>\n",
       "      <td>0.000000</td>\n",
       "      <td>0.000000</td>\n",
       "      <td>0.000000</td>\n",
       "    </tr>\n",
       "    <tr>\n",
       "      <th rowspan=\"2\" valign=\"top\">bar</th>\n",
       "      <th>one</th>\n",
       "      <td>0.485553</td>\n",
       "      <td>-1.531675</td>\n",
       "      <td>-0.361036</td>\n",
       "    </tr>\n",
       "    <tr>\n",
       "      <th>two</th>\n",
       "      <td>-0.215824</td>\n",
       "      <td>0.919282</td>\n",
       "      <td>-0.439861</td>\n",
       "    </tr>\n",
       "    <tr>\n",
       "      <th rowspan=\"2\" valign=\"top\">baz</th>\n",
       "      <th>two</th>\n",
       "      <td>-0.110272</td>\n",
       "      <td>-1.249476</td>\n",
       "      <td>-0.943162</td>\n",
       "    </tr>\n",
       "    <tr>\n",
       "      <th>three</th>\n",
       "      <td>-1.188253</td>\n",
       "      <td>-1.348138</td>\n",
       "      <td>-0.715439</td>\n",
       "    </tr>\n",
       "    <tr>\n",
       "      <th rowspan=\"3\" valign=\"top\">qux</th>\n",
       "      <th>one</th>\n",
       "      <td>-1.674312</td>\n",
       "      <td>-0.876105</td>\n",
       "      <td>-1.016558</td>\n",
       "    </tr>\n",
       "    <tr>\n",
       "      <th>two</th>\n",
       "      <td>-1.330107</td>\n",
       "      <td>1.436056</td>\n",
       "      <td>0.793003</td>\n",
       "    </tr>\n",
       "    <tr>\n",
       "      <th>three</th>\n",
       "      <td>-0.299646</td>\n",
       "      <td>-0.238612</td>\n",
       "      <td>1.456787</td>\n",
       "    </tr>\n",
       "  </tbody>\n",
       "</table>\n",
       "</div>"
      ],
      "text/plain": [
       "                  A         B         C\n",
       "foo one    0.000000  0.000000  0.000000\n",
       "    two    0.000000  0.000000  0.000000\n",
       "    three  0.000000  0.000000  0.000000\n",
       "bar one    0.485553 -1.531675 -0.361036\n",
       "    two   -0.215824  0.919282 -0.439861\n",
       "baz two   -0.110272 -1.249476 -0.943162\n",
       "    three -1.188253 -1.348138 -0.715439\n",
       "qux one   -1.674312 -0.876105 -1.016558\n",
       "    two   -1.330107  1.436056  0.793003\n",
       "    three -0.299646 -0.238612  1.456787"
      ]
     },
     "execution_count": 231,
     "metadata": {},
     "output_type": "execute_result"
    }
   ],
   "source": [
    "hdf.loc['foo']=0\n",
    "hdf"
   ]
  },
  {
   "cell_type": "code",
   "execution_count": 232,
   "metadata": {},
   "outputs": [
    {
     "data": {
      "text/plain": [
       "A    0.0\n",
       "B    0.0\n",
       "C    0.0\n",
       "Name: (foo, three), dtype: float64"
      ]
     },
     "execution_count": 232,
     "metadata": {},
     "output_type": "execute_result"
    }
   ],
   "source": [
    "hdf.loc['foo','three']"
   ]
  },
  {
   "cell_type": "markdown",
   "metadata": {},
   "source": [
    "#  Stacking and Unstacking"
   ]
  },
  {
   "cell_type": "code",
   "execution_count": 247,
   "metadata": {
    "scrolled": true
   },
   "outputs": [
    {
     "data": {
      "text/html": [
       "<div>\n",
       "<style>\n",
       "    .dataframe thead tr:only-child th {\n",
       "        text-align: right;\n",
       "    }\n",
       "\n",
       "    .dataframe thead th {\n",
       "        text-align: left;\n",
       "    }\n",
       "\n",
       "    .dataframe tbody tr th {\n",
       "        vertical-align: top;\n",
       "    }\n",
       "</style>\n",
       "<table border=\"1\" class=\"dataframe\">\n",
       "  <thead>\n",
       "    <tr>\n",
       "      <th></th>\n",
       "      <th></th>\n",
       "      <th colspan=\"2\" halign=\"left\">A</th>\n",
       "      <th colspan=\"2\" halign=\"left\">B</th>\n",
       "    </tr>\n",
       "    <tr>\n",
       "      <th></th>\n",
       "      <th></th>\n",
       "      <th>cat</th>\n",
       "      <th>dog</th>\n",
       "      <th>cat</th>\n",
       "      <th>dog</th>\n",
       "    </tr>\n",
       "  </thead>\n",
       "  <tbody>\n",
       "    <tr>\n",
       "      <th rowspan=\"2\" valign=\"top\">bar</th>\n",
       "      <th>one</th>\n",
       "      <td>0.074771</td>\n",
       "      <td>-0.339794</td>\n",
       "      <td>-1.671142</td>\n",
       "      <td>0.779822</td>\n",
       "    </tr>\n",
       "    <tr>\n",
       "      <th>two</th>\n",
       "      <td>0.347876</td>\n",
       "      <td>0.357173</td>\n",
       "      <td>2.583022</td>\n",
       "      <td>-0.464525</td>\n",
       "    </tr>\n",
       "    <tr>\n",
       "      <th rowspan=\"2\" valign=\"top\">baz</th>\n",
       "      <th>one</th>\n",
       "      <td>0.296588</td>\n",
       "      <td>-0.820141</td>\n",
       "      <td>0.339410</td>\n",
       "      <td>-1.076743</td>\n",
       "    </tr>\n",
       "    <tr>\n",
       "      <th>two</th>\n",
       "      <td>-1.738068</td>\n",
       "      <td>-0.269046</td>\n",
       "      <td>0.992044</td>\n",
       "      <td>0.257442</td>\n",
       "    </tr>\n",
       "    <tr>\n",
       "      <th rowspan=\"2\" valign=\"top\">foo</th>\n",
       "      <th>one</th>\n",
       "      <td>0.727610</td>\n",
       "      <td>0.288919</td>\n",
       "      <td>0.627585</td>\n",
       "      <td>0.944372</td>\n",
       "    </tr>\n",
       "    <tr>\n",
       "      <th>two</th>\n",
       "      <td>0.368074</td>\n",
       "      <td>0.097394</td>\n",
       "      <td>0.799724</td>\n",
       "      <td>-0.117955</td>\n",
       "    </tr>\n",
       "    <tr>\n",
       "      <th rowspan=\"2\" valign=\"top\">qux</th>\n",
       "      <th>one</th>\n",
       "      <td>0.574131</td>\n",
       "      <td>1.469434</td>\n",
       "      <td>-0.346089</td>\n",
       "      <td>-1.541580</td>\n",
       "    </tr>\n",
       "    <tr>\n",
       "      <th>two</th>\n",
       "      <td>-1.039355</td>\n",
       "      <td>0.453386</td>\n",
       "      <td>0.289280</td>\n",
       "      <td>-1.038773</td>\n",
       "    </tr>\n",
       "  </tbody>\n",
       "</table>\n",
       "</div>"
      ],
      "text/plain": [
       "                A                   B          \n",
       "              cat       dog       cat       dog\n",
       "bar one  0.074771 -0.339794 -1.671142  0.779822\n",
       "    two  0.347876  0.357173  2.583022 -0.464525\n",
       "baz one  0.296588 -0.820141  0.339410 -1.076743\n",
       "    two -1.738068 -0.269046  0.992044  0.257442\n",
       "foo one  0.727610  0.288919  0.627585  0.944372\n",
       "    two  0.368074  0.097394  0.799724 -0.117955\n",
       "qux one  0.574131  1.469434 -0.346089 -1.541580\n",
       "    two -1.039355  0.453386  0.289280 -1.038773"
      ]
     },
     "execution_count": 247,
     "metadata": {},
     "output_type": "execute_result"
    }
   ],
   "source": [
    "tuples = zip(*[['bar', 'bar', 'baz', 'baz',\n",
    "                'foo', 'foo', 'qux', 'qux'],\n",
    "               ['one', 'two', 'one', 'two',\n",
    "                'one', 'two', 'one', 'two']])\n",
    "index = MultiIndex.from_tuples(tuples)\n",
    "columns = MultiIndex.from_tuples([('A', 'cat'), ('A', 'dog'),\n",
    "                                  ('B', 'cat'), ('B', 'dog')])\n",
    "df = DataFrame(random.randn(8, 4), index=index, columns=columns)\n",
    "df"
   ]
  },
  {
   "cell_type": "code",
   "execution_count": 248,
   "metadata": {},
   "outputs": [
    {
     "data": {
      "text/html": [
       "<div>\n",
       "<style>\n",
       "    .dataframe thead tr:only-child th {\n",
       "        text-align: right;\n",
       "    }\n",
       "\n",
       "    .dataframe thead th {\n",
       "        text-align: left;\n",
       "    }\n",
       "\n",
       "    .dataframe tbody tr th {\n",
       "        vertical-align: top;\n",
       "    }\n",
       "</style>\n",
       "<table border=\"1\" class=\"dataframe\">\n",
       "  <thead>\n",
       "    <tr>\n",
       "      <th></th>\n",
       "      <th colspan=\"2\" halign=\"left\">cat</th>\n",
       "      <th colspan=\"2\" halign=\"left\">dog</th>\n",
       "    </tr>\n",
       "    <tr>\n",
       "      <th></th>\n",
       "      <th>one</th>\n",
       "      <th>two</th>\n",
       "      <th>one</th>\n",
       "      <th>two</th>\n",
       "    </tr>\n",
       "  </thead>\n",
       "  <tbody>\n",
       "    <tr>\n",
       "      <th>bar</th>\n",
       "      <td>-1.671142</td>\n",
       "      <td>2.583022</td>\n",
       "      <td>0.779822</td>\n",
       "      <td>-0.464525</td>\n",
       "    </tr>\n",
       "    <tr>\n",
       "      <th>baz</th>\n",
       "      <td>0.339410</td>\n",
       "      <td>0.992044</td>\n",
       "      <td>-1.076743</td>\n",
       "      <td>0.257442</td>\n",
       "    </tr>\n",
       "    <tr>\n",
       "      <th>foo</th>\n",
       "      <td>0.627585</td>\n",
       "      <td>0.799724</td>\n",
       "      <td>0.944372</td>\n",
       "      <td>-0.117955</td>\n",
       "    </tr>\n",
       "    <tr>\n",
       "      <th>qux</th>\n",
       "      <td>-0.346089</td>\n",
       "      <td>0.289280</td>\n",
       "      <td>-1.541580</td>\n",
       "      <td>-1.038773</td>\n",
       "    </tr>\n",
       "  </tbody>\n",
       "</table>\n",
       "</div>"
      ],
      "text/plain": [
       "          cat                 dog          \n",
       "          one       two       one       two\n",
       "bar -1.671142  2.583022  0.779822 -0.464525\n",
       "baz  0.339410  0.992044 -1.076743  0.257442\n",
       "foo  0.627585  0.799724  0.944372 -0.117955\n",
       "qux -0.346089  0.289280 -1.541580 -1.038773"
      ]
     },
     "execution_count": 248,
     "metadata": {},
     "output_type": "execute_result"
    }
   ],
   "source": [
    "df2=df.iloc[[0,1,2,4,5,7]]\n",
    "df2\n",
    "df.unstack()['B']"
   ]
  },
  {
   "cell_type": "markdown",
   "metadata": {},
   "source": [
    "# GroupBy"
   ]
  },
  {
   "cell_type": "code",
   "execution_count": 250,
   "metadata": {
    "collapsed": true
   },
   "outputs": [],
   "source": [
    "df=DataFrame({'A':['foo','bar','foo','bar','foo','bar','foo','foo'],\n",
    "              'B':['one','one','two','three','two','two','one','three'],\n",
    "              'C':random.randn(8),\n",
    "             'D':random.randn(8)})"
   ]
  },
  {
   "cell_type": "code",
   "execution_count": 251,
   "metadata": {},
   "outputs": [
    {
     "name": "stdout",
     "output_type": "stream",
     "text": [
      "bar\n",
      "     A      B         C         D\n",
      "1  bar    one  1.775164 -1.017235\n",
      "3  bar  three -0.397331  0.369049\n",
      "5  bar    two -0.446685  1.870836\n",
      "foo\n",
      "     A      B         C         D\n",
      "0  foo    one  1.770730 -1.040877\n",
      "2  foo    two -0.416070  0.172627\n",
      "4  foo    two  0.336176  0.768126\n",
      "6  foo    one -0.162964 -0.040275\n",
      "7  foo  three -0.014001  0.666853\n"
     ]
    }
   ],
   "source": [
    "for key,value in df.groupby('A'):\n",
    "    print key\n",
    "    print value"
   ]
  },
  {
   "cell_type": "code",
   "execution_count": 252,
   "metadata": {},
   "outputs": [
    {
     "data": {
      "text/html": [
       "<div>\n",
       "<style>\n",
       "    .dataframe thead tr:only-child th {\n",
       "        text-align: right;\n",
       "    }\n",
       "\n",
       "    .dataframe thead th {\n",
       "        text-align: left;\n",
       "    }\n",
       "\n",
       "    .dataframe tbody tr th {\n",
       "        vertical-align: top;\n",
       "    }\n",
       "</style>\n",
       "<table border=\"1\" class=\"dataframe\">\n",
       "  <thead>\n",
       "    <tr style=\"text-align: right;\">\n",
       "      <th>A</th>\n",
       "      <th>bar</th>\n",
       "      <th>foo</th>\n",
       "    </tr>\n",
       "  </thead>\n",
       "  <tbody>\n",
       "    <tr>\n",
       "      <th>count</th>\n",
       "      <td>3.000000</td>\n",
       "      <td>5.000000</td>\n",
       "    </tr>\n",
       "    <tr>\n",
       "      <th>mean</th>\n",
       "      <td>0.310383</td>\n",
       "      <td>0.302774</td>\n",
       "    </tr>\n",
       "    <tr>\n",
       "      <th>std</th>\n",
       "      <td>1.268778</td>\n",
       "      <td>0.864582</td>\n",
       "    </tr>\n",
       "    <tr>\n",
       "      <th>min</th>\n",
       "      <td>-0.446685</td>\n",
       "      <td>-0.416070</td>\n",
       "    </tr>\n",
       "    <tr>\n",
       "      <th>25%</th>\n",
       "      <td>-0.422008</td>\n",
       "      <td>-0.162964</td>\n",
       "    </tr>\n",
       "    <tr>\n",
       "      <th>50%</th>\n",
       "      <td>-0.397331</td>\n",
       "      <td>-0.014001</td>\n",
       "    </tr>\n",
       "    <tr>\n",
       "      <th>75%</th>\n",
       "      <td>0.688917</td>\n",
       "      <td>0.336176</td>\n",
       "    </tr>\n",
       "    <tr>\n",
       "      <th>max</th>\n",
       "      <td>1.775164</td>\n",
       "      <td>1.770730</td>\n",
       "    </tr>\n",
       "  </tbody>\n",
       "</table>\n",
       "</div>"
      ],
      "text/plain": [
       "A           bar       foo\n",
       "count  3.000000  5.000000\n",
       "mean   0.310383  0.302774\n",
       "std    1.268778  0.864582\n",
       "min   -0.446685 -0.416070\n",
       "25%   -0.422008 -0.162964\n",
       "50%   -0.397331 -0.014001\n",
       "75%    0.688917  0.336176\n",
       "max    1.775164  1.770730"
      ]
     },
     "execution_count": 252,
     "metadata": {},
     "output_type": "execute_result"
    }
   ],
   "source": [
    "df.groupby('A')['C'].describe().T"
   ]
  },
  {
   "cell_type": "code",
   "execution_count": 253,
   "metadata": {},
   "outputs": [
    {
     "data": {
      "text/html": [
       "<div>\n",
       "<style>\n",
       "    .dataframe thead tr:only-child th {\n",
       "        text-align: right;\n",
       "    }\n",
       "\n",
       "    .dataframe thead th {\n",
       "        text-align: left;\n",
       "    }\n",
       "\n",
       "    .dataframe tbody tr th {\n",
       "        vertical-align: top;\n",
       "    }\n",
       "</style>\n",
       "<table border=\"1\" class=\"dataframe\">\n",
       "  <thead>\n",
       "    <tr style=\"text-align: right;\">\n",
       "      <th></th>\n",
       "      <th>C</th>\n",
       "      <th>D</th>\n",
       "    </tr>\n",
       "    <tr>\n",
       "      <th>A</th>\n",
       "      <th></th>\n",
       "      <th></th>\n",
       "    </tr>\n",
       "  </thead>\n",
       "  <tbody>\n",
       "    <tr>\n",
       "      <th>bar</th>\n",
       "      <td>0.310383</td>\n",
       "      <td>0.407550</td>\n",
       "    </tr>\n",
       "    <tr>\n",
       "      <th>foo</th>\n",
       "      <td>0.302774</td>\n",
       "      <td>0.105291</td>\n",
       "    </tr>\n",
       "  </tbody>\n",
       "</table>\n",
       "</div>"
      ],
      "text/plain": [
       "            C         D\n",
       "A                      \n",
       "bar  0.310383  0.407550\n",
       "foo  0.302774  0.105291"
      ]
     },
     "execution_count": 253,
     "metadata": {},
     "output_type": "execute_result"
    }
   ],
   "source": [
    "df.groupby('A').mean()"
   ]
  },
  {
   "cell_type": "code",
   "execution_count": 254,
   "metadata": {},
   "outputs": [
    {
     "name": "stdout",
     "output_type": "stream",
     "text": [
      "bar\n",
      "     A      B         C         D\n",
      "1  bar    one  1.775164 -1.017235\n",
      "3  bar  three -0.397331  0.369049\n",
      "5  bar    two -0.446685  1.870836\n",
      "foo\n",
      "     A      B         C         D\n",
      "0  foo    one  1.770730 -1.040877\n",
      "2  foo    two -0.416070  0.172627\n",
      "4  foo    two  0.336176  0.768126\n",
      "6  foo    one -0.162964 -0.040275\n",
      "7  foo  three -0.014001  0.666853\n"
     ]
    }
   ],
   "source": [
    "for key, group in df.groupby('A'):\n",
    "    print key\n",
    "    print group"
   ]
  },
  {
   "cell_type": "code",
   "execution_count": 255,
   "metadata": {},
   "outputs": [
    {
     "data": {
      "text/html": [
       "<div>\n",
       "<style>\n",
       "    .dataframe thead tr:only-child th {\n",
       "        text-align: right;\n",
       "    }\n",
       "\n",
       "    .dataframe thead th {\n",
       "        text-align: left;\n",
       "    }\n",
       "\n",
       "    .dataframe tbody tr th {\n",
       "        vertical-align: top;\n",
       "    }\n",
       "</style>\n",
       "<table border=\"1\" class=\"dataframe\">\n",
       "  <thead>\n",
       "    <tr style=\"text-align: right;\">\n",
       "      <th></th>\n",
       "      <th></th>\n",
       "      <th>C</th>\n",
       "      <th>D</th>\n",
       "    </tr>\n",
       "    <tr>\n",
       "      <th>A</th>\n",
       "      <th>B</th>\n",
       "      <th></th>\n",
       "      <th></th>\n",
       "    </tr>\n",
       "  </thead>\n",
       "  <tbody>\n",
       "    <tr>\n",
       "      <th rowspan=\"3\" valign=\"top\">bar</th>\n",
       "      <th>one</th>\n",
       "      <td>1.775164</td>\n",
       "      <td>-1.017235</td>\n",
       "    </tr>\n",
       "    <tr>\n",
       "      <th>three</th>\n",
       "      <td>-0.397331</td>\n",
       "      <td>0.369049</td>\n",
       "    </tr>\n",
       "    <tr>\n",
       "      <th>two</th>\n",
       "      <td>-0.446685</td>\n",
       "      <td>1.870836</td>\n",
       "    </tr>\n",
       "    <tr>\n",
       "      <th rowspan=\"3\" valign=\"top\">foo</th>\n",
       "      <th>one</th>\n",
       "      <td>0.803883</td>\n",
       "      <td>-0.540576</td>\n",
       "    </tr>\n",
       "    <tr>\n",
       "      <th>three</th>\n",
       "      <td>-0.014001</td>\n",
       "      <td>0.666853</td>\n",
       "    </tr>\n",
       "    <tr>\n",
       "      <th>two</th>\n",
       "      <td>-0.039947</td>\n",
       "      <td>0.470376</td>\n",
       "    </tr>\n",
       "  </tbody>\n",
       "</table>\n",
       "</div>"
      ],
      "text/plain": [
       "                  C         D\n",
       "A   B                        \n",
       "bar one    1.775164 -1.017235\n",
       "    three -0.397331  0.369049\n",
       "    two   -0.446685  1.870836\n",
       "foo one    0.803883 -0.540576\n",
       "    three -0.014001  0.666853\n",
       "    two   -0.039947  0.470376"
      ]
     },
     "execution_count": 255,
     "metadata": {},
     "output_type": "execute_result"
    }
   ],
   "source": [
    "df.groupby(['A', 'B']).mean()"
   ]
  },
  {
   "cell_type": "code",
   "execution_count": 256,
   "metadata": {},
   "outputs": [
    {
     "data": {
      "text/html": [
       "<div>\n",
       "<style>\n",
       "    .dataframe thead tr:only-child th {\n",
       "        text-align: right;\n",
       "    }\n",
       "\n",
       "    .dataframe thead th {\n",
       "        text-align: left;\n",
       "    }\n",
       "\n",
       "    .dataframe tbody tr th {\n",
       "        vertical-align: top;\n",
       "    }\n",
       "</style>\n",
       "<table border=\"1\" class=\"dataframe\">\n",
       "  <thead>\n",
       "    <tr style=\"text-align: right;\">\n",
       "      <th></th>\n",
       "      <th>A</th>\n",
       "      <th>B</th>\n",
       "      <th>C</th>\n",
       "      <th>D</th>\n",
       "    </tr>\n",
       "  </thead>\n",
       "  <tbody>\n",
       "    <tr>\n",
       "      <th>0</th>\n",
       "      <td>bar</td>\n",
       "      <td>one</td>\n",
       "      <td>1.775164</td>\n",
       "      <td>-1.017235</td>\n",
       "    </tr>\n",
       "    <tr>\n",
       "      <th>1</th>\n",
       "      <td>bar</td>\n",
       "      <td>three</td>\n",
       "      <td>-0.397331</td>\n",
       "      <td>0.369049</td>\n",
       "    </tr>\n",
       "    <tr>\n",
       "      <th>2</th>\n",
       "      <td>bar</td>\n",
       "      <td>two</td>\n",
       "      <td>-0.446685</td>\n",
       "      <td>1.870836</td>\n",
       "    </tr>\n",
       "    <tr>\n",
       "      <th>3</th>\n",
       "      <td>foo</td>\n",
       "      <td>one</td>\n",
       "      <td>0.803883</td>\n",
       "      <td>-0.540576</td>\n",
       "    </tr>\n",
       "    <tr>\n",
       "      <th>4</th>\n",
       "      <td>foo</td>\n",
       "      <td>three</td>\n",
       "      <td>-0.014001</td>\n",
       "      <td>0.666853</td>\n",
       "    </tr>\n",
       "    <tr>\n",
       "      <th>5</th>\n",
       "      <td>foo</td>\n",
       "      <td>two</td>\n",
       "      <td>-0.039947</td>\n",
       "      <td>0.470376</td>\n",
       "    </tr>\n",
       "  </tbody>\n",
       "</table>\n",
       "</div>"
      ],
      "text/plain": [
       "     A      B         C         D\n",
       "0  bar    one  1.775164 -1.017235\n",
       "1  bar  three -0.397331  0.369049\n",
       "2  bar    two -0.446685  1.870836\n",
       "3  foo    one  0.803883 -0.540576\n",
       "4  foo  three -0.014001  0.666853\n",
       "5  foo    two -0.039947  0.470376"
      ]
     },
     "execution_count": 256,
     "metadata": {},
     "output_type": "execute_result"
    }
   ],
   "source": [
    "df.groupby(['A', 'B'], as_index=False).mean()"
   ]
  },
  {
   "cell_type": "markdown",
   "metadata": {},
   "source": [
    "#  GroupBy example: linear regression by group"
   ]
  },
  {
   "cell_type": "code",
   "execution_count": 260,
   "metadata": {},
   "outputs": [
    {
     "name": "stderr",
     "output_type": "stream",
     "text": [
      "C:\\Users\\abhij\\Anaconda2\\lib\\site-packages\\ipykernel_launcher.py:6: SettingWithCopyWarning: \n",
      "A value is trying to be set on a copy of a slice from a DataFrame.\n",
      "Try using .loc[row_indexer,col_indexer] = value instead\n",
      "\n",
      "See the caveats in the documentation: http://pandas.pydata.org/pandas-docs/stable/indexing.html#indexing-view-versus-copy\n",
      "  \n"
     ]
    },
    {
     "ename": "AttributeError",
     "evalue": "'module' object has no attribute 'OLS'",
     "output_type": "error",
     "traceback": [
      "\u001b[1;31m---------------------------------------------------------------------------\u001b[0m",
      "\u001b[1;31mAttributeError\u001b[0m                            Traceback (most recent call last)",
      "\u001b[1;32m<ipython-input-260-8d3d603bfd85>\u001b[0m in \u001b[0;36m<module>\u001b[1;34m()\u001b[0m\n\u001b[0;32m      8\u001b[0m     \u001b[1;32mreturn\u001b[0m \u001b[0mmodel\u001b[0m\u001b[1;33m.\u001b[0m\u001b[0mparams\u001b[0m\u001b[1;33m\u001b[0m\u001b[0m\n\u001b[0;32m      9\u001b[0m \u001b[1;33m\u001b[0m\u001b[0m\n\u001b[1;32m---> 10\u001b[1;33m \u001b[0mget_beta\u001b[0m\u001b[1;33m(\u001b[0m\u001b[0mrets\u001b[0m\u001b[1;33m)\u001b[0m\u001b[1;33m\u001b[0m\u001b[0m\n\u001b[0m",
      "\u001b[1;32m<ipython-input-260-8d3d603bfd85>\u001b[0m in \u001b[0;36mget_beta\u001b[1;34m(rets)\u001b[0m\n\u001b[0;32m      5\u001b[0m     \u001b[0mrets\u001b[0m \u001b[1;33m=\u001b[0m \u001b[0mrets\u001b[0m\u001b[1;33m.\u001b[0m\u001b[0mdropna\u001b[0m\u001b[1;33m(\u001b[0m\u001b[1;33m)\u001b[0m\u001b[1;33m\u001b[0m\u001b[0m\n\u001b[0;32m      6\u001b[0m     \u001b[0mrets\u001b[0m\u001b[1;33m[\u001b[0m\u001b[1;34m'intercept'\u001b[0m\u001b[1;33m]\u001b[0m \u001b[1;33m=\u001b[0m \u001b[1;36m1.\u001b[0m\u001b[1;33m\u001b[0m\u001b[0m\n\u001b[1;32m----> 7\u001b[1;33m     \u001b[0mmodel\u001b[0m \u001b[1;33m=\u001b[0m \u001b[0mscikit_learn\u001b[0m\u001b[1;33m.\u001b[0m\u001b[0mOLS\u001b[0m\u001b[1;33m(\u001b[0m\u001b[0mrets\u001b[0m\u001b[1;33m[\u001b[0m\u001b[1;34m'MSFT'\u001b[0m\u001b[1;33m]\u001b[0m\u001b[1;33m,\u001b[0m \u001b[0mrets\u001b[0m\u001b[1;33m.\u001b[0m\u001b[0mix\u001b[0m\u001b[1;33m[\u001b[0m\u001b[1;33m:\u001b[0m\u001b[1;33m,\u001b[0m \u001b[1;33m[\u001b[0m\u001b[1;34m'AAPL'\u001b[0m\u001b[1;33m,\u001b[0m \u001b[1;34m'intercept'\u001b[0m\u001b[1;33m]\u001b[0m\u001b[1;33m]\u001b[0m\u001b[1;33m)\u001b[0m\u001b[1;33m.\u001b[0m\u001b[0mfit\u001b[0m\u001b[1;33m(\u001b[0m\u001b[1;33m)\u001b[0m\u001b[1;33m\u001b[0m\u001b[0m\n\u001b[0m\u001b[0;32m      8\u001b[0m     \u001b[1;32mreturn\u001b[0m \u001b[0mmodel\u001b[0m\u001b[1;33m.\u001b[0m\u001b[0mparams\u001b[0m\u001b[1;33m\u001b[0m\u001b[0m\n\u001b[0;32m      9\u001b[0m \u001b[1;33m\u001b[0m\u001b[0m\n",
      "\u001b[1;31mAttributeError\u001b[0m: 'module' object has no attribute 'OLS'"
     ]
    }
   ],
   "source": [
    "#import scikits.statsmodels.api as sm\n",
    "rets = close_px / close_px.shift(1) - 1\n",
    "\n",
    "def get_beta(rets):\n",
    "    rets = rets.dropna()\n",
    "    rets['intercept'] = 1.\n",
    "    model = scikit_learn.OLS(rets['MSFT'], rets.ix[:, ['AAPL', 'intercept']]).fit()\n",
    "    return model.params\n",
    "\n",
    "get_beta(rets)"
   ]
  },
  {
   "cell_type": "code",
   "execution_count": 261,
   "metadata": {},
   "outputs": [
    {
     "ename": "AttributeError",
     "evalue": "'module' object has no attribute 'OLS'",
     "output_type": "error",
     "traceback": [
      "\u001b[1;31m---------------------------------------------------------------------------\u001b[0m",
      "\u001b[1;31mAttributeError\u001b[0m                            Traceback (most recent call last)",
      "\u001b[1;32m<ipython-input-261-43a281e93997>\u001b[0m in \u001b[0;36m<module>\u001b[1;34m()\u001b[0m\n\u001b[0;32m      1\u001b[0m \u001b[0mgrouped\u001b[0m \u001b[1;33m=\u001b[0m \u001b[0mrets\u001b[0m\u001b[1;33m.\u001b[0m\u001b[0mgroupby\u001b[0m\u001b[1;33m(\u001b[0m\u001b[1;33m[\u001b[0m\u001b[1;32mlambda\u001b[0m \u001b[0mx\u001b[0m\u001b[1;33m:\u001b[0m \u001b[0mx\u001b[0m\u001b[1;33m.\u001b[0m\u001b[0myear\u001b[0m\u001b[1;33m,\u001b[0m \u001b[1;32mlambda\u001b[0m \u001b[0mx\u001b[0m\u001b[1;33m:\u001b[0m \u001b[0mx\u001b[0m\u001b[1;33m.\u001b[0m\u001b[0mmonth\u001b[0m\u001b[1;33m]\u001b[0m\u001b[1;33m)\u001b[0m\u001b[1;33m\u001b[0m\u001b[0m\n\u001b[1;32m----> 2\u001b[1;33m \u001b[0mbeta_by_ym\u001b[0m \u001b[1;33m=\u001b[0m \u001b[0mgrouped\u001b[0m\u001b[1;33m.\u001b[0m\u001b[0mapply\u001b[0m\u001b[1;33m(\u001b[0m\u001b[0mget_beta\u001b[0m\u001b[1;33m)\u001b[0m\u001b[1;33m\u001b[0m\u001b[0m\n\u001b[0m\u001b[0;32m      3\u001b[0m \u001b[0mbeta_by_ym\u001b[0m\u001b[1;33m\u001b[0m\u001b[0m\n",
      "\u001b[1;32mC:\\Users\\abhij\\Anaconda2\\lib\\site-packages\\pandas\\core\\groupby.pyc\u001b[0m in \u001b[0;36mapply\u001b[1;34m(self, func, *args, **kwargs)\u001b[0m\n\u001b[0;32m    714\u001b[0m         \u001b[1;31m# ignore SettingWithCopy here in case the user mutates\u001b[0m\u001b[1;33m\u001b[0m\u001b[1;33m\u001b[0m\u001b[0m\n\u001b[0;32m    715\u001b[0m         \u001b[1;32mwith\u001b[0m \u001b[0moption_context\u001b[0m\u001b[1;33m(\u001b[0m\u001b[1;34m'mode.chained_assignment'\u001b[0m\u001b[1;33m,\u001b[0m \u001b[0mNone\u001b[0m\u001b[1;33m)\u001b[0m\u001b[1;33m:\u001b[0m\u001b[1;33m\u001b[0m\u001b[0m\n\u001b[1;32m--> 716\u001b[1;33m             \u001b[1;32mreturn\u001b[0m \u001b[0mself\u001b[0m\u001b[1;33m.\u001b[0m\u001b[0m_python_apply_general\u001b[0m\u001b[1;33m(\u001b[0m\u001b[0mf\u001b[0m\u001b[1;33m)\u001b[0m\u001b[1;33m\u001b[0m\u001b[0m\n\u001b[0m\u001b[0;32m    717\u001b[0m \u001b[1;33m\u001b[0m\u001b[0m\n\u001b[0;32m    718\u001b[0m     \u001b[1;32mdef\u001b[0m \u001b[0m_python_apply_general\u001b[0m\u001b[1;33m(\u001b[0m\u001b[0mself\u001b[0m\u001b[1;33m,\u001b[0m \u001b[0mf\u001b[0m\u001b[1;33m)\u001b[0m\u001b[1;33m:\u001b[0m\u001b[1;33m\u001b[0m\u001b[0m\n",
      "\u001b[1;32mC:\\Users\\abhij\\Anaconda2\\lib\\site-packages\\pandas\\core\\groupby.pyc\u001b[0m in \u001b[0;36m_python_apply_general\u001b[1;34m(self, f)\u001b[0m\n\u001b[0;32m    718\u001b[0m     \u001b[1;32mdef\u001b[0m \u001b[0m_python_apply_general\u001b[0m\u001b[1;33m(\u001b[0m\u001b[0mself\u001b[0m\u001b[1;33m,\u001b[0m \u001b[0mf\u001b[0m\u001b[1;33m)\u001b[0m\u001b[1;33m:\u001b[0m\u001b[1;33m\u001b[0m\u001b[0m\n\u001b[0;32m    719\u001b[0m         keys, values, mutated = self.grouper.apply(f, self._selected_obj,\n\u001b[1;32m--> 720\u001b[1;33m                                                    self.axis)\n\u001b[0m\u001b[0;32m    721\u001b[0m \u001b[1;33m\u001b[0m\u001b[0m\n\u001b[0;32m    722\u001b[0m         return self._wrap_applied_output(\n",
      "\u001b[1;32mC:\\Users\\abhij\\Anaconda2\\lib\\site-packages\\pandas\\core\\groupby.pyc\u001b[0m in \u001b[0;36mapply\u001b[1;34m(self, f, data, axis)\u001b[0m\n\u001b[0;32m   1727\u001b[0m             \u001b[1;31m# group might be modified\u001b[0m\u001b[1;33m\u001b[0m\u001b[1;33m\u001b[0m\u001b[0m\n\u001b[0;32m   1728\u001b[0m             \u001b[0mgroup_axes\u001b[0m \u001b[1;33m=\u001b[0m \u001b[0m_get_axes\u001b[0m\u001b[1;33m(\u001b[0m\u001b[0mgroup\u001b[0m\u001b[1;33m)\u001b[0m\u001b[1;33m\u001b[0m\u001b[0m\n\u001b[1;32m-> 1729\u001b[1;33m             \u001b[0mres\u001b[0m \u001b[1;33m=\u001b[0m \u001b[0mf\u001b[0m\u001b[1;33m(\u001b[0m\u001b[0mgroup\u001b[0m\u001b[1;33m)\u001b[0m\u001b[1;33m\u001b[0m\u001b[0m\n\u001b[0m\u001b[0;32m   1730\u001b[0m             \u001b[1;32mif\u001b[0m \u001b[1;32mnot\u001b[0m \u001b[0m_is_indexed_like\u001b[0m\u001b[1;33m(\u001b[0m\u001b[0mres\u001b[0m\u001b[1;33m,\u001b[0m \u001b[0mgroup_axes\u001b[0m\u001b[1;33m)\u001b[0m\u001b[1;33m:\u001b[0m\u001b[1;33m\u001b[0m\u001b[0m\n\u001b[0;32m   1731\u001b[0m                 \u001b[0mmutated\u001b[0m \u001b[1;33m=\u001b[0m \u001b[0mTrue\u001b[0m\u001b[1;33m\u001b[0m\u001b[0m\n",
      "\u001b[1;32m<ipython-input-260-8d3d603bfd85>\u001b[0m in \u001b[0;36mget_beta\u001b[1;34m(rets)\u001b[0m\n\u001b[0;32m      5\u001b[0m     \u001b[0mrets\u001b[0m \u001b[1;33m=\u001b[0m \u001b[0mrets\u001b[0m\u001b[1;33m.\u001b[0m\u001b[0mdropna\u001b[0m\u001b[1;33m(\u001b[0m\u001b[1;33m)\u001b[0m\u001b[1;33m\u001b[0m\u001b[0m\n\u001b[0;32m      6\u001b[0m     \u001b[0mrets\u001b[0m\u001b[1;33m[\u001b[0m\u001b[1;34m'intercept'\u001b[0m\u001b[1;33m]\u001b[0m \u001b[1;33m=\u001b[0m \u001b[1;36m1.\u001b[0m\u001b[1;33m\u001b[0m\u001b[0m\n\u001b[1;32m----> 7\u001b[1;33m     \u001b[0mmodel\u001b[0m \u001b[1;33m=\u001b[0m \u001b[0mscikit_learn\u001b[0m\u001b[1;33m.\u001b[0m\u001b[0mOLS\u001b[0m\u001b[1;33m(\u001b[0m\u001b[0mrets\u001b[0m\u001b[1;33m[\u001b[0m\u001b[1;34m'MSFT'\u001b[0m\u001b[1;33m]\u001b[0m\u001b[1;33m,\u001b[0m \u001b[0mrets\u001b[0m\u001b[1;33m.\u001b[0m\u001b[0mix\u001b[0m\u001b[1;33m[\u001b[0m\u001b[1;33m:\u001b[0m\u001b[1;33m,\u001b[0m \u001b[1;33m[\u001b[0m\u001b[1;34m'AAPL'\u001b[0m\u001b[1;33m,\u001b[0m \u001b[1;34m'intercept'\u001b[0m\u001b[1;33m]\u001b[0m\u001b[1;33m]\u001b[0m\u001b[1;33m)\u001b[0m\u001b[1;33m.\u001b[0m\u001b[0mfit\u001b[0m\u001b[1;33m(\u001b[0m\u001b[1;33m)\u001b[0m\u001b[1;33m\u001b[0m\u001b[0m\n\u001b[0m\u001b[0;32m      8\u001b[0m     \u001b[1;32mreturn\u001b[0m \u001b[0mmodel\u001b[0m\u001b[1;33m.\u001b[0m\u001b[0mparams\u001b[0m\u001b[1;33m\u001b[0m\u001b[0m\n\u001b[0;32m      9\u001b[0m \u001b[1;33m\u001b[0m\u001b[0m\n",
      "\u001b[1;31mAttributeError\u001b[0m: 'module' object has no attribute 'OLS'"
     ]
    }
   ],
   "source": [
    "grouped = rets.groupby([lambda x: x.year, lambda x: x.month])\n",
    "beta_by_ym = grouped.apply(get_beta)\n",
    "beta_by_ym"
   ]
  },
  {
   "cell_type": "markdown",
   "metadata": {},
   "source": [
    "# GroupBy with Heirarchical indexing"
   ]
  },
  {
   "cell_type": "code",
   "execution_count": 263,
   "metadata": {},
   "outputs": [
    {
     "data": {
      "text/html": [
       "<div>\n",
       "<style>\n",
       "    .dataframe thead tr:only-child th {\n",
       "        text-align: right;\n",
       "    }\n",
       "\n",
       "    .dataframe thead th {\n",
       "        text-align: left;\n",
       "    }\n",
       "\n",
       "    .dataframe tbody tr th {\n",
       "        vertical-align: top;\n",
       "    }\n",
       "</style>\n",
       "<table border=\"1\" class=\"dataframe\">\n",
       "  <thead>\n",
       "    <tr>\n",
       "      <th></th>\n",
       "      <th></th>\n",
       "      <th>A</th>\n",
       "      <th colspan=\"2\" halign=\"left\">B</th>\n",
       "      <th>A</th>\n",
       "    </tr>\n",
       "    <tr>\n",
       "      <th></th>\n",
       "      <th></th>\n",
       "      <th>cat</th>\n",
       "      <th>dog</th>\n",
       "      <th>cat</th>\n",
       "      <th>dog</th>\n",
       "    </tr>\n",
       "  </thead>\n",
       "  <tbody>\n",
       "    <tr>\n",
       "      <th rowspan=\"2\" valign=\"top\">bar</th>\n",
       "      <th>one</th>\n",
       "      <td>-0.405950</td>\n",
       "      <td>-2.439277</td>\n",
       "      <td>-0.558237</td>\n",
       "      <td>-1.124981</td>\n",
       "    </tr>\n",
       "    <tr>\n",
       "      <th>two</th>\n",
       "      <td>-0.126715</td>\n",
       "      <td>0.170143</td>\n",
       "      <td>0.054101</td>\n",
       "      <td>-0.907404</td>\n",
       "    </tr>\n",
       "    <tr>\n",
       "      <th rowspan=\"2\" valign=\"top\">baz</th>\n",
       "      <th>one</th>\n",
       "      <td>-2.044193</td>\n",
       "      <td>1.435714</td>\n",
       "      <td>-0.792175</td>\n",
       "      <td>-0.465521</td>\n",
       "    </tr>\n",
       "    <tr>\n",
       "      <th>two</th>\n",
       "      <td>-0.748032</td>\n",
       "      <td>0.299985</td>\n",
       "      <td>1.628287</td>\n",
       "      <td>-0.100665</td>\n",
       "    </tr>\n",
       "    <tr>\n",
       "      <th rowspan=\"2\" valign=\"top\">foo</th>\n",
       "      <th>one</th>\n",
       "      <td>2.488917</td>\n",
       "      <td>-0.023421</td>\n",
       "      <td>-0.361377</td>\n",
       "      <td>-1.779980</td>\n",
       "    </tr>\n",
       "    <tr>\n",
       "      <th>two</th>\n",
       "      <td>-0.245965</td>\n",
       "      <td>0.900381</td>\n",
       "      <td>-1.537513</td>\n",
       "      <td>0.103978</td>\n",
       "    </tr>\n",
       "    <tr>\n",
       "      <th rowspan=\"2\" valign=\"top\">qux</th>\n",
       "      <th>one</th>\n",
       "      <td>0.331572</td>\n",
       "      <td>-0.015077</td>\n",
       "      <td>-0.236813</td>\n",
       "      <td>-0.959520</td>\n",
       "    </tr>\n",
       "    <tr>\n",
       "      <th>two</th>\n",
       "      <td>-0.637766</td>\n",
       "      <td>-0.661155</td>\n",
       "      <td>-0.289358</td>\n",
       "      <td>1.966432</td>\n",
       "    </tr>\n",
       "  </tbody>\n",
       "</table>\n",
       "</div>"
      ],
      "text/plain": [
       "                A         B                   A\n",
       "              cat       dog       cat       dog\n",
       "bar one -0.405950 -2.439277 -0.558237 -1.124981\n",
       "    two -0.126715  0.170143  0.054101 -0.907404\n",
       "baz one -2.044193  1.435714 -0.792175 -0.465521\n",
       "    two -0.748032  0.299985  1.628287 -0.100665\n",
       "foo one  2.488917 -0.023421 -0.361377 -1.779980\n",
       "    two -0.245965  0.900381 -1.537513  0.103978\n",
       "qux one  0.331572 -0.015077 -0.236813 -0.959520\n",
       "    two -0.637766 -0.661155 -0.289358  1.966432"
      ]
     },
     "execution_count": 263,
     "metadata": {},
     "output_type": "execute_result"
    }
   ],
   "source": [
    "tuples = zip(*[['bar', 'bar', 'baz', 'baz',\n",
    "                'foo', 'foo', 'qux', 'qux'],\n",
    "               ['one', 'two', 'one', 'two',\n",
    "                'one', 'two', 'one', 'two']])\n",
    "index = MultiIndex.from_tuples(tuples)\n",
    "columns = MultiIndex.from_tuples([('A', 'cat'), ('B', 'dog'),\n",
    "                                  ('B', 'cat'), ('A', 'dog')])\n",
    "df = DataFrame(random.randn(8, 4), index=index, columns=columns)\n",
    "df"
   ]
  },
  {
   "cell_type": "code",
   "execution_count": 264,
   "metadata": {},
   "outputs": [
    {
     "data": {
      "text/html": [
       "<div>\n",
       "<style>\n",
       "    .dataframe thead tr:only-child th {\n",
       "        text-align: right;\n",
       "    }\n",
       "\n",
       "    .dataframe thead th {\n",
       "        text-align: left;\n",
       "    }\n",
       "\n",
       "    .dataframe tbody tr th {\n",
       "        vertical-align: top;\n",
       "    }\n",
       "</style>\n",
       "<table border=\"1\" class=\"dataframe\">\n",
       "  <thead>\n",
       "    <tr>\n",
       "      <th></th>\n",
       "      <th>A</th>\n",
       "      <th colspan=\"2\" halign=\"left\">B</th>\n",
       "      <th>A</th>\n",
       "    </tr>\n",
       "    <tr>\n",
       "      <th></th>\n",
       "      <th>cat</th>\n",
       "      <th>dog</th>\n",
       "      <th>cat</th>\n",
       "      <th>dog</th>\n",
       "    </tr>\n",
       "  </thead>\n",
       "  <tbody>\n",
       "    <tr>\n",
       "      <th>bar</th>\n",
       "      <td>-0.266333</td>\n",
       "      <td>-1.134567</td>\n",
       "      <td>-0.252068</td>\n",
       "      <td>-1.016192</td>\n",
       "    </tr>\n",
       "    <tr>\n",
       "      <th>baz</th>\n",
       "      <td>-1.396112</td>\n",
       "      <td>0.867849</td>\n",
       "      <td>0.418056</td>\n",
       "      <td>-0.283093</td>\n",
       "    </tr>\n",
       "    <tr>\n",
       "      <th>foo</th>\n",
       "      <td>1.121476</td>\n",
       "      <td>0.438480</td>\n",
       "      <td>-0.949445</td>\n",
       "      <td>-0.838001</td>\n",
       "    </tr>\n",
       "    <tr>\n",
       "      <th>qux</th>\n",
       "      <td>-0.153097</td>\n",
       "      <td>-0.338116</td>\n",
       "      <td>-0.263086</td>\n",
       "      <td>0.503456</td>\n",
       "    </tr>\n",
       "  </tbody>\n",
       "</table>\n",
       "</div>"
      ],
      "text/plain": [
       "            A         B                   A\n",
       "          cat       dog       cat       dog\n",
       "bar -0.266333 -1.134567 -0.252068 -1.016192\n",
       "baz -1.396112  0.867849  0.418056 -0.283093\n",
       "foo  1.121476  0.438480 -0.949445 -0.838001\n",
       "qux -0.153097 -0.338116 -0.263086  0.503456"
      ]
     },
     "execution_count": 264,
     "metadata": {},
     "output_type": "execute_result"
    }
   ],
   "source": [
    "df.groupby(level=0, axis=0).mean()"
   ]
  },
  {
   "cell_type": "code",
   "execution_count": 265,
   "metadata": {},
   "outputs": [
    {
     "data": {
      "text/html": [
       "<div>\n",
       "<style>\n",
       "    .dataframe thead tr:only-child th {\n",
       "        text-align: right;\n",
       "    }\n",
       "\n",
       "    .dataframe thead th {\n",
       "        text-align: left;\n",
       "    }\n",
       "\n",
       "    .dataframe tbody tr th {\n",
       "        vertical-align: top;\n",
       "    }\n",
       "</style>\n",
       "<table border=\"1\" class=\"dataframe\">\n",
       "  <thead>\n",
       "    <tr style=\"text-align: right;\">\n",
       "      <th></th>\n",
       "      <th></th>\n",
       "      <th></th>\n",
       "      <th>A</th>\n",
       "      <th>B</th>\n",
       "    </tr>\n",
       "  </thead>\n",
       "  <tbody>\n",
       "    <tr>\n",
       "      <th rowspan=\"4\" valign=\"top\">bar</th>\n",
       "      <th rowspan=\"2\" valign=\"top\">one</th>\n",
       "      <th>cat</th>\n",
       "      <td>-0.405950</td>\n",
       "      <td>-0.558237</td>\n",
       "    </tr>\n",
       "    <tr>\n",
       "      <th>dog</th>\n",
       "      <td>-1.124981</td>\n",
       "      <td>-2.439277</td>\n",
       "    </tr>\n",
       "    <tr>\n",
       "      <th rowspan=\"2\" valign=\"top\">two</th>\n",
       "      <th>cat</th>\n",
       "      <td>-0.126715</td>\n",
       "      <td>0.054101</td>\n",
       "    </tr>\n",
       "    <tr>\n",
       "      <th>dog</th>\n",
       "      <td>-0.907404</td>\n",
       "      <td>0.170143</td>\n",
       "    </tr>\n",
       "    <tr>\n",
       "      <th rowspan=\"4\" valign=\"top\">baz</th>\n",
       "      <th rowspan=\"2\" valign=\"top\">one</th>\n",
       "      <th>cat</th>\n",
       "      <td>-2.044193</td>\n",
       "      <td>-0.792175</td>\n",
       "    </tr>\n",
       "    <tr>\n",
       "      <th>dog</th>\n",
       "      <td>-0.465521</td>\n",
       "      <td>1.435714</td>\n",
       "    </tr>\n",
       "    <tr>\n",
       "      <th rowspan=\"2\" valign=\"top\">two</th>\n",
       "      <th>cat</th>\n",
       "      <td>-0.748032</td>\n",
       "      <td>1.628287</td>\n",
       "    </tr>\n",
       "    <tr>\n",
       "      <th>dog</th>\n",
       "      <td>-0.100665</td>\n",
       "      <td>0.299985</td>\n",
       "    </tr>\n",
       "    <tr>\n",
       "      <th rowspan=\"4\" valign=\"top\">foo</th>\n",
       "      <th rowspan=\"2\" valign=\"top\">one</th>\n",
       "      <th>cat</th>\n",
       "      <td>2.488917</td>\n",
       "      <td>-0.361377</td>\n",
       "    </tr>\n",
       "    <tr>\n",
       "      <th>dog</th>\n",
       "      <td>-1.779980</td>\n",
       "      <td>-0.023421</td>\n",
       "    </tr>\n",
       "    <tr>\n",
       "      <th rowspan=\"2\" valign=\"top\">two</th>\n",
       "      <th>cat</th>\n",
       "      <td>-0.245965</td>\n",
       "      <td>-1.537513</td>\n",
       "    </tr>\n",
       "    <tr>\n",
       "      <th>dog</th>\n",
       "      <td>0.103978</td>\n",
       "      <td>0.900381</td>\n",
       "    </tr>\n",
       "    <tr>\n",
       "      <th rowspan=\"4\" valign=\"top\">qux</th>\n",
       "      <th rowspan=\"2\" valign=\"top\">one</th>\n",
       "      <th>cat</th>\n",
       "      <td>0.331572</td>\n",
       "      <td>-0.236813</td>\n",
       "    </tr>\n",
       "    <tr>\n",
       "      <th>dog</th>\n",
       "      <td>-0.959520</td>\n",
       "      <td>-0.015077</td>\n",
       "    </tr>\n",
       "    <tr>\n",
       "      <th rowspan=\"2\" valign=\"top\">two</th>\n",
       "      <th>cat</th>\n",
       "      <td>-0.637766</td>\n",
       "      <td>-0.289358</td>\n",
       "    </tr>\n",
       "    <tr>\n",
       "      <th>dog</th>\n",
       "      <td>1.966432</td>\n",
       "      <td>-0.661155</td>\n",
       "    </tr>\n",
       "  </tbody>\n",
       "</table>\n",
       "</div>"
      ],
      "text/plain": [
       "                    A         B\n",
       "bar one cat -0.405950 -0.558237\n",
       "        dog -1.124981 -2.439277\n",
       "    two cat -0.126715  0.054101\n",
       "        dog -0.907404  0.170143\n",
       "baz one cat -2.044193 -0.792175\n",
       "        dog -0.465521  1.435714\n",
       "    two cat -0.748032  1.628287\n",
       "        dog -0.100665  0.299985\n",
       "foo one cat  2.488917 -0.361377\n",
       "        dog -1.779980 -0.023421\n",
       "    two cat -0.245965 -1.537513\n",
       "        dog  0.103978  0.900381\n",
       "qux one cat  0.331572 -0.236813\n",
       "        dog -0.959520 -0.015077\n",
       "    two cat -0.637766 -0.289358\n",
       "        dog  1.966432 -0.661155"
      ]
     },
     "execution_count": 265,
     "metadata": {},
     "output_type": "execute_result"
    }
   ],
   "source": [
    "df.stack()"
   ]
  },
  {
   "cell_type": "code",
   "execution_count": 266,
   "metadata": {},
   "outputs": [
    {
     "data": {
      "text/html": [
       "<div>\n",
       "<style>\n",
       "    .dataframe thead tr:only-child th {\n",
       "        text-align: right;\n",
       "    }\n",
       "\n",
       "    .dataframe thead th {\n",
       "        text-align: left;\n",
       "    }\n",
       "\n",
       "    .dataframe tbody tr th {\n",
       "        vertical-align: top;\n",
       "    }\n",
       "</style>\n",
       "<table border=\"1\" class=\"dataframe\">\n",
       "  <thead>\n",
       "    <tr style=\"text-align: right;\">\n",
       "      <th></th>\n",
       "      <th></th>\n",
       "      <th>cat</th>\n",
       "      <th>dog</th>\n",
       "    </tr>\n",
       "  </thead>\n",
       "  <tbody>\n",
       "    <tr>\n",
       "      <th rowspan=\"2\" valign=\"top\">bar</th>\n",
       "      <th>one</th>\n",
       "      <td>-0.482094</td>\n",
       "      <td>-1.782129</td>\n",
       "    </tr>\n",
       "    <tr>\n",
       "      <th>two</th>\n",
       "      <td>-0.036307</td>\n",
       "      <td>-0.368631</td>\n",
       "    </tr>\n",
       "    <tr>\n",
       "      <th rowspan=\"2\" valign=\"top\">baz</th>\n",
       "      <th>one</th>\n",
       "      <td>-1.418184</td>\n",
       "      <td>0.485097</td>\n",
       "    </tr>\n",
       "    <tr>\n",
       "      <th>two</th>\n",
       "      <td>0.440128</td>\n",
       "      <td>0.099660</td>\n",
       "    </tr>\n",
       "    <tr>\n",
       "      <th rowspan=\"2\" valign=\"top\">foo</th>\n",
       "      <th>one</th>\n",
       "      <td>1.063770</td>\n",
       "      <td>-0.901701</td>\n",
       "    </tr>\n",
       "    <tr>\n",
       "      <th>two</th>\n",
       "      <td>-0.891739</td>\n",
       "      <td>0.502179</td>\n",
       "    </tr>\n",
       "    <tr>\n",
       "      <th rowspan=\"2\" valign=\"top\">qux</th>\n",
       "      <th>one</th>\n",
       "      <td>0.047379</td>\n",
       "      <td>-0.487298</td>\n",
       "    </tr>\n",
       "    <tr>\n",
       "      <th>two</th>\n",
       "      <td>-0.463562</td>\n",
       "      <td>0.652638</td>\n",
       "    </tr>\n",
       "  </tbody>\n",
       "</table>\n",
       "</div>"
      ],
      "text/plain": [
       "              cat       dog\n",
       "bar one -0.482094 -1.782129\n",
       "    two -0.036307 -0.368631\n",
       "baz one -1.418184  0.485097\n",
       "    two  0.440128  0.099660\n",
       "foo one  1.063770 -0.901701\n",
       "    two -0.891739  0.502179\n",
       "qux one  0.047379 -0.487298\n",
       "    two -0.463562  0.652638"
      ]
     },
     "execution_count": 266,
     "metadata": {},
     "output_type": "execute_result"
    }
   ],
   "source": [
    "df.stack().mean(1).unstack()"
   ]
  },
  {
   "cell_type": "code",
   "execution_count": 267,
   "metadata": {},
   "outputs": [
    {
     "data": {
      "text/html": [
       "<div>\n",
       "<style>\n",
       "    .dataframe thead tr:only-child th {\n",
       "        text-align: right;\n",
       "    }\n",
       "\n",
       "    .dataframe thead th {\n",
       "        text-align: left;\n",
       "    }\n",
       "\n",
       "    .dataframe tbody tr th {\n",
       "        vertical-align: top;\n",
       "    }\n",
       "</style>\n",
       "<table border=\"1\" class=\"dataframe\">\n",
       "  <thead>\n",
       "    <tr style=\"text-align: right;\">\n",
       "      <th></th>\n",
       "      <th></th>\n",
       "      <th>cat</th>\n",
       "      <th>dog</th>\n",
       "    </tr>\n",
       "  </thead>\n",
       "  <tbody>\n",
       "    <tr>\n",
       "      <th rowspan=\"2\" valign=\"top\">bar</th>\n",
       "      <th>one</th>\n",
       "      <td>-0.482094</td>\n",
       "      <td>-1.782129</td>\n",
       "    </tr>\n",
       "    <tr>\n",
       "      <th>two</th>\n",
       "      <td>-0.036307</td>\n",
       "      <td>-0.368631</td>\n",
       "    </tr>\n",
       "    <tr>\n",
       "      <th rowspan=\"2\" valign=\"top\">baz</th>\n",
       "      <th>one</th>\n",
       "      <td>-1.418184</td>\n",
       "      <td>0.485097</td>\n",
       "    </tr>\n",
       "    <tr>\n",
       "      <th>two</th>\n",
       "      <td>0.440128</td>\n",
       "      <td>0.099660</td>\n",
       "    </tr>\n",
       "    <tr>\n",
       "      <th rowspan=\"2\" valign=\"top\">foo</th>\n",
       "      <th>one</th>\n",
       "      <td>1.063770</td>\n",
       "      <td>-0.901701</td>\n",
       "    </tr>\n",
       "    <tr>\n",
       "      <th>two</th>\n",
       "      <td>-0.891739</td>\n",
       "      <td>0.502179</td>\n",
       "    </tr>\n",
       "    <tr>\n",
       "      <th rowspan=\"2\" valign=\"top\">qux</th>\n",
       "      <th>one</th>\n",
       "      <td>0.047379</td>\n",
       "      <td>-0.487298</td>\n",
       "    </tr>\n",
       "    <tr>\n",
       "      <th>two</th>\n",
       "      <td>-0.463562</td>\n",
       "      <td>0.652638</td>\n",
       "    </tr>\n",
       "  </tbody>\n",
       "</table>\n",
       "</div>"
      ],
      "text/plain": [
       "              cat       dog\n",
       "bar one -0.482094 -1.782129\n",
       "    two -0.036307 -0.368631\n",
       "baz one -1.418184  0.485097\n",
       "    two  0.440128  0.099660\n",
       "foo one  1.063770 -0.901701\n",
       "    two -0.891739  0.502179\n",
       "qux one  0.047379 -0.487298\n",
       "    two -0.463562  0.652638"
      ]
     },
     "execution_count": 267,
     "metadata": {},
     "output_type": "execute_result"
    }
   ],
   "source": [
    "# could also have done\n",
    "df.groupby(level=1, axis=1).mean()"
   ]
  },
  {
   "cell_type": "code",
   "execution_count": null,
   "metadata": {
    "collapsed": true
   },
   "outputs": [],
   "source": []
  }
 ],
 "metadata": {
  "kernelspec": {
   "display_name": "Python 2",
   "language": "python",
   "name": "python2"
  },
  "language_info": {
   "codemirror_mode": {
    "name": "ipython",
    "version": 2
   },
   "file_extension": ".py",
   "mimetype": "text/x-python",
   "name": "python",
   "nbconvert_exporter": "python",
   "pygments_lexer": "ipython2",
   "version": "2.7.13"
  }
 },
 "nbformat": 4,
 "nbformat_minor": 2
}
